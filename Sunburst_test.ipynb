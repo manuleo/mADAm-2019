{
 "cells": [
  {
   "cell_type": "code",
   "execution_count": 1,
   "metadata": {},
   "outputs": [],
   "source": [
    "import pandas as pd\n",
    "import numpy as np "
   ]
  },
  {
   "cell_type": "code",
   "execution_count": 166,
   "metadata": {},
   "outputs": [],
   "source": [
    "#Loading pickle of solutions\n",
    "Final_Diet_It = pd.read_pickle(\"data/processed/Italy_opt_diet.pkl\")\n",
    "Final_Diet_Ge = pd.read_pickle(\"data/processed/Germany_opt_diet.pkl\")\n",
    "Final_Diet_Fr = pd.read_pickle(\"data/processed/France_opt_diet.pkl\")\n",
    "Final_Diet_Sp = pd.read_pickle(\"data/processed/Spain_opt_diet.pkl\")\n",
    "Final_Diet_UK = pd.read_pickle(\"data/processed/United Kingdom_opt_diet.pkl\")\n",
    "Final_Diet_EU = Final_Diet_It + Final_Diet_Ge + Final_Diet_Fr + Final_Diet_Sp + Final_Diet_UK"
   ]
  },
  {
   "cell_type": "code",
   "execution_count": 267,
   "metadata": {},
   "outputs": [],
   "source": [
    "import plotly.graph_objects as go\n",
    "import plotly.offline as py\n",
    "def build_hierarchical_dataframe(df, levels, value_column, color_columns=None, prod=None):\n",
    "    \"\"\"\n",
    "    Build a hierarchy of levels for Sunburst or Treemap charts.\n",
    "\n",
    "    Levels are given starting from the bottom to the top of the hierarchy, \n",
    "    ie the last level corresponds to the root.\n",
    "    \"\"\"\n",
    "    df_all_trees = pd.DataFrame(columns=['id', 'label', 'parent', 'value', 'log_val','color'])\n",
    "    for i, level in enumerate(levels):\n",
    "        df_tree = pd.DataFrame(columns=['id', 'parent', 'value','log_val', 'color'])\n",
    "        dfg = df.groupby(levels[i:]).sum(numerical_only=True)\n",
    "        dfg = dfg.reset_index()\n",
    "        df_tree['id'] = dfg[level].copy()\n",
    "        if(i==0):\n",
    "            df_tree['label'] = dfg['Product'].copy()\n",
    "        else:\n",
    "            df_tree['label'] = dfg[level].copy()\n",
    "        if i < len(levels) - 1:\n",
    "            df_tree['parent'] = dfg[levels[i+1]].copy()\n",
    "        else:\n",
    "            df_tree['parent'] = 'Total'\n",
    "        df_tree['log_val'] = np.log(dfg[value_column]+2)\n",
    "        df_tree['value'] = dfg[value_column]\n",
    "        df_tree['color'] = dfg[color_columns[0]]\n",
    "        df_all_trees = df_all_trees.append(df_tree, ignore_index=True)\n",
    "    total = pd.Series(dict(id='Total', parent='', \n",
    "                              value=df_tree['value'].sum(),\n",
    "                              color=df_tree['color'].sum(), \n",
    "                              label=\"Total\",\n",
    "#                               log_val=np.log1p(df[value_column].sum())))\n",
    "                              log_val=sum(df_all_trees[df_all_trees.id.isin(prod)]['log_val'])))\n",
    "    df_all_trees = df_all_trees.append(total, ignore_index=True)\n",
    "    \n",
    "    return df_all_trees"
   ]
  },
  {
   "cell_type": "code",
   "execution_count": 317,
   "metadata": {},
   "outputs": [],
   "source": [
    "def make_sunburst(dataset, path, EU=False):\n",
    "    df_val = dataset.copy()\n",
    "    prod = dataset.index.values\n",
    "    df_val = df_val.apply(pd.to_numeric)\n",
    "    df_val = df_val.stack().to_frame().reset_index()\n",
    "    df_val = df_val.rename(columns = {\"level_1\": \"af_countries\", 0:\"val\"})\n",
    "    levels = ['id', 'af_countries'] # levels used for the hierarchical chart\n",
    "    color_columns = ['val']\n",
    "    value_column = 'val'\n",
    "    id_n = df_val.index.values\n",
    "    df_val['id'] = df_val.Product + id_n.astype(str)\n",
    "    df_val = df_val[['Product', 'id', 'af_countries', 'val']]\n",
    "    df_all_trees = build_hierarchical_dataframe(df_val, levels, value_column, color_columns, prod)\n",
    "    df_all_trees = df_all_trees.replace({'United Republic of Tanzania':'Tanzania', 'Central African Republic':'Centr. Afr. Rep.'})\n",
    "    \n",
    "    if (EU):\n",
    "        color_scale = \"YlGnBu\"\n",
    "    else:\n",
    "        color_scale = \"RdBu\"\n",
    "    fig =go.Figure(go.Sunburst(\n",
    "        ids=df_all_trees.id,\n",
    "        labels=df_all_trees.label,\n",
    "        parents=df_all_trees.parent,\n",
    "        maxdepth=2,\n",
    "        values=df_all_trees.log_val,\n",
    "        customdata = df_all_trees.value,\n",
    "        hovertemplate='<b>%{label}</b><br><br>Need: %{customdata:.3f} tons',\n",
    "        name='',\n",
    "        marker = dict(colorscale=color_scale, line=dict(color=\"#777\", width=0.5)),\n",
    "#         branchvalues='total'\n",
    "    ))\n",
    "    fig.update_layout(margin = dict(t=0, l=0, r=0, b=20), autosize = False, height=500, width=500, paper_bgcolor = \"rgba(0,0,0,0)\", plot_bgcolor=\"rgba(0,0,0,0)\")\n",
    "    py.plot(fig, filename=path)"
   ]
  },
  {
   "cell_type": "code",
   "execution_count": 318,
   "metadata": {},
   "outputs": [],
   "source": [
    "make_sunburst(Final_Diet_EU, \"docs/_includes/sunburst_EU.html\", EU=True)"
   ]
  },
  {
   "cell_type": "code",
   "execution_count": 319,
   "metadata": {},
   "outputs": [],
   "source": [
    "make_sunburst(Final_Diet_It, \"docs/_includes/sunburst_it.html\")\n",
    "make_sunburst(Final_Diet_Fr, \"docs/_includes/sunburst_fr.html\")\n",
    "make_sunburst(Final_Diet_Ge, \"docs/_includes/sunburst_ge.html\")\n",
    "make_sunburst(Final_Diet_Sp, \"docs/_includes/sunburst_sp.html\")\n",
    "make_sunburst(Final_Diet_UK, \"docs/_includes/sunburst_uk.html\")"
   ]
  },
  {
   "cell_type": "code",
   "execution_count": null,
   "metadata": {},
   "outputs": [],
   "source": []
  }
 ],
 "metadata": {
  "kernelspec": {
   "display_name": "Python 3",
   "language": "python",
   "name": "python3"
  },
  "language_info": {
   "codemirror_mode": {
    "name": "ipython",
    "version": 3
   },
   "file_extension": ".py",
   "mimetype": "text/x-python",
   "name": "python",
   "nbconvert_exporter": "python",
   "pygments_lexer": "ipython3",
   "version": "3.7.4"
  }
 },
 "nbformat": 4,
 "nbformat_minor": 4
}
