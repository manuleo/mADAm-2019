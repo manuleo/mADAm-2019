{
 "cells": [
  {
   "cell_type": "code",
   "execution_count": 1,
   "metadata": {},
   "outputs": [],
   "source": [
    "%matplotlib inline\n",
    "import pandas as pd\n",
    "import numpy as np\n",
    "import re\n",
    "from matplotlib.ticker import MaxNLocator\n",
    "import matplotlib.pyplot as plt\n",
    "from requests import get\n",
    "from bs4 import BeautifulSoup\n",
    "from collections import defaultdict\n",
    "\n",
    "plt.rcParams[\"figure.figsize\"] = (15,8) #set size of plot"
   ]
  },
  {
   "cell_type": "markdown",
   "metadata": {},
   "source": [
    "Cell used for scraping of calories:"
   ]
  },
  {
   "cell_type": "code",
   "execution_count": null,
   "metadata": {},
   "outputs": [],
   "source": [
    "#Get the URL\n",
    "URL = 'https://health.gov/dietaryguidelines/2015/guidelines/appendix-2/#males'\n",
    "r = get(URL)\n",
    "page_body = r.text\n",
    "soup = BeautifulSoup(page_body, 'html.parser');"
   ]
  },
  {
   "cell_type": "markdown",
   "metadata": {},
   "source": [
    "Loading of USDA Food Database"
   ]
  },
  {
   "cell_type": "code",
   "execution_count": null,
   "metadata": {},
   "outputs": [],
   "source": [
    "usda_foods = pd.read_excel(\"data/USDA-Food.xlsx\", sheet_name=0)\n",
    "usda_foods = usda_foods.drop(columns=['Database Number'])\n",
    "test = usda_foods[['Food Group', 'Food Name', 'Protein (g)', 'Carbohydrates (g)', 'Fat (g)']]"
   ]
  },
  {
   "cell_type": "markdown",
   "metadata": {},
   "source": [
    "Statistical analysis"
   ]
  },
  {
   "cell_type": "code",
   "execution_count": null,
   "metadata": {},
   "outputs": [],
   "source": [
    "FAO_food_supply_stats = pd.DataFrame(index = FAO_food_supply_cleared.index)\n",
    "FAO_food_supply_stats[\"latest data\"] = FAO_food_supply_cleared[\"2013\"]\n",
    "FAO_food_supply_stats.sort_values('latest data')"
   ]
  },
  {
   "cell_type": "markdown",
   "metadata": {},
   "source": [
    "Linear Regression Dario"
   ]
  },
  {
   "cell_type": "code",
   "execution_count": null,
   "metadata": {},
   "outputs": [],
   "source": [
    "FAO_recent = FAO_food_supply_cleared.iloc[39:]\n",
    "def func(x, e, f):\n",
    "    return e * x + f \n",
    "#return a * (x ** 5) + b * (x ** 4) + c * (x ** 3) +  d * (x ** 2) + e * x + f \n",
    "\n",
    "# Initial parameter guess, just to kick off the optimization\n",
    "guess = (0.5, 0.5)\n",
    "\n",
    "# Create copy of data to remove NaNs for curve fitting\n",
    "fit_df = FAO_recent.dropna()\n",
    "\n",
    "# Place to store function parameters for each column\n",
    "col_params = {}\n",
    "\n",
    "# Curve fit each column\n",
    "for col in fit_df.columns:\n",
    "    # Get x & y\n",
    "    x = fit_df.index.astype(float).values\n",
    "    y = fit_df[col].values\n",
    "    # Curve fit column and get curve parameters\n",
    "    params = curve_fit(func, x, y, guess)\n",
    "    # Store optimized parameters\n",
    "    col_params[col] = params[0]\n",
    "\n",
    "# Extrapolate each column\n",
    "for col in FAO_food_supply_cleared.columns:\n",
    "    # Get the index values for NaNs in the column\n",
    "    x = FAO_food_supply_cleared[pd.isnull(FAO_food_supply_cleared[col])].index.astype(float).values\n",
    "    # Extrapolate those points with the fitted function\n",
    "    FAO_food_supply_cleared[col][x] = func(x, *col_params[col])\n",
    "\n",
    "# Display result\n",
    "#print ('Extrapolated data:')\n",
    "#print (FAO_food_supply_cleared)\n",
    "\n",
    "\n",
    "#print ('Data was extrapolated with these column functions:')\n",
    "#for col in col_params:\n",
    "#    print ('f_{}(x) = {:0.3e} x^3 + {:0.3e} x^2 + {:0.4f} x + {:0.4f}'.format(col, *col_params[col]))"
   ]
  },
  {
   "cell_type": "markdown",
   "metadata": {},
   "source": [
    "Window slider on 5 years"
   ]
  },
  {
   "cell_type": "code",
   "execution_count": null,
   "metadata": {},
   "outputs": [],
   "source": [
    "## from windowslider import WindowSlider\n",
    "# 5 year version\n",
    "from sklearn.linear_model import LinearRegression\n",
    "w = 2\n",
    "\n",
    "for col in FAO_food_supply_cleared.columns.values:\n",
    "    years_train = FAO_food_supply_cleared.index.values[:53].copy()\n",
    "    cal_train = FAO_food_supply_cleared.loc[:53, col].values.copy()\n",
    "    train_set = pd.DataFrame(cal_train, index=years_train)\n",
    "    train_set.insert(0, '∆t', np.ones(train_set.index.size))\n",
    "    train_set.reset_index(inplace=True)\n",
    "    train_set.rename(columns={\"index\": \"years\", 0:\"cal\"}, inplace=True)\n",
    "    \n",
    "    train_constructor = WindowSlider(window_size=w)\n",
    "    train_windows = train_constructor.collect_windows(train_set.iloc[:,1:],\n",
    "                                                  previous_y=True)\n",
    "    lr_model = LinearRegression()\n",
    "    lr_model.fit(train_windows.iloc[:,:-1], train_windows.iloc[:,-1])\n",
    "    for i in range(44, 69, 5):\n",
    "        years_test = FAO_food_supply_cleared.index.values[29:i:5]\n",
    "        cal_test = FAO_food_supply_cleared[col][29:i:5].values\n",
    "        test_set = pd.DataFrame(cal_test, index=years_test)\n",
    "        test_set.insert(0, '∆t', np.ones(test_set.index.size))\n",
    "        test_set.reset_index(inplace=True)\n",
    "        test_set.rename(columns={\"index\": \"years\", 0:\"cal\"}, inplace=True)\n",
    "        test_constructor = WindowSlider(window_size=w)\n",
    "        test_windows = test_constructor.collect_windows(test_set.iloc[:,1:],\n",
    "                                                        previous_y=True)\n",
    "        pred = lr_model.predict(test_windows.iloc[:,:-1])\n",
    "        if (i==59):\n",
    "            FAO_food_supply_cleared[col].iloc[54] = pred[-1]\n",
    "        if (i==64):\n",
    "            FAO_food_supply_cleared[col].iloc[59] = pred[-1]"
   ]
  }
 ],
 "metadata": {
  "kernelspec": {
   "display_name": "Python [conda env:ada] *",
   "language": "python",
   "name": "conda-env-ada-py"
  },
  "language_info": {
   "codemirror_mode": {
    "name": "ipython",
    "version": 3
   },
   "file_extension": ".py",
   "mimetype": "text/x-python",
   "name": "python",
   "nbconvert_exporter": "python",
   "pygments_lexer": "ipython3",
   "version": "3.7.4"
  }
 },
 "nbformat": 4,
 "nbformat_minor": 4
}
