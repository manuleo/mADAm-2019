{
 "cells": [
  {
   "cell_type": "code",
   "execution_count": 78,
   "metadata": {},
   "outputs": [],
   "source": [
    "import pandas as pd\n",
    "import matplotlib.pyplot as plt\n",
    "import numpy as np\n",
    "import nltk\n",
    "from nltk.stem.wordnet import WordNetLemmatizer\n",
    "from nltk.corpus import stopwords"
   ]
  },
  {
   "cell_type": "code",
   "execution_count": 79,
   "metadata": {},
   "outputs": [],
   "source": [
    "plt.rcParams[\"figure.figsize\"] = (15,8)"
   ]
  },
  {
   "cell_type": "markdown",
   "metadata": {},
   "source": [
    "# Finding the right ingredients to provide"
   ]
  },
  {
   "cell_type": "markdown",
   "metadata": {},
   "source": [
    "## 1) A fist look inside the possible food"
   ]
  },
  {
   "cell_type": "markdown",
   "metadata": {},
   "source": [
    "The following dataframe we obtained has nutritional information about the most varied food products there are. The information we are most interested in for our analysis. per product, are:\n",
    "* **Food Group** - a generalized group in which the product is inserted\n",
    "* **Food Name** - the name of the product itself\n",
    "* **Protein (g)** - The amount of grams of proteins in a 100g serving\n",
    "* **Carbohydrates (g)** - The amount of grams of carbohydrates in a 100g serving\n",
    "* **Fat (g)** - The amount of grams of fat in a 100g serving"
   ]
  },
  {
   "cell_type": "code",
   "execution_count": 80,
   "metadata": {},
   "outputs": [
    {
     "data": {
      "text/html": [
       "<div>\n",
       "<style scoped>\n",
       "    .dataframe tbody tr th:only-of-type {\n",
       "        vertical-align: middle;\n",
       "    }\n",
       "\n",
       "    .dataframe tbody tr th {\n",
       "        vertical-align: top;\n",
       "    }\n",
       "\n",
       "    .dataframe thead th {\n",
       "        text-align: right;\n",
       "    }\n",
       "</style>\n",
       "<table border=\"1\" class=\"dataframe\">\n",
       "  <thead>\n",
       "    <tr style=\"text-align: right;\">\n",
       "      <th></th>\n",
       "      <th>Food Group</th>\n",
       "      <th>Food Name</th>\n",
       "      <th>Protein (g)</th>\n",
       "      <th>Carbohydrates (g)</th>\n",
       "      <th>Fat (g)</th>\n",
       "    </tr>\n",
       "  </thead>\n",
       "  <tbody>\n",
       "    <tr>\n",
       "      <td>0</td>\n",
       "      <td>Dairy and Egg Products</td>\n",
       "      <td>Butter, salted</td>\n",
       "      <td>0.85</td>\n",
       "      <td>0.06</td>\n",
       "      <td>81.11</td>\n",
       "    </tr>\n",
       "    <tr>\n",
       "      <td>1</td>\n",
       "      <td>Dairy and Egg Products</td>\n",
       "      <td>Butter, whipped, with salt</td>\n",
       "      <td>0.49</td>\n",
       "      <td>2.87</td>\n",
       "      <td>78.30</td>\n",
       "    </tr>\n",
       "    <tr>\n",
       "      <td>2</td>\n",
       "      <td>Dairy and Egg Products</td>\n",
       "      <td>Butter oil, anhydrous</td>\n",
       "      <td>0.28</td>\n",
       "      <td>0.00</td>\n",
       "      <td>99.48</td>\n",
       "    </tr>\n",
       "    <tr>\n",
       "      <td>3</td>\n",
       "      <td>Dairy and Egg Products</td>\n",
       "      <td>Cheese, blue</td>\n",
       "      <td>21.40</td>\n",
       "      <td>2.34</td>\n",
       "      <td>28.74</td>\n",
       "    </tr>\n",
       "    <tr>\n",
       "      <td>4</td>\n",
       "      <td>Dairy and Egg Products</td>\n",
       "      <td>Cheese, brick</td>\n",
       "      <td>23.24</td>\n",
       "      <td>2.79</td>\n",
       "      <td>29.68</td>\n",
       "    </tr>\n",
       "  </tbody>\n",
       "</table>\n",
       "</div>"
      ],
      "text/plain": [
       "               Food Group                   Food Name  Protein (g)  \\\n",
       "0  Dairy and Egg Products              Butter, salted         0.85   \n",
       "1  Dairy and Egg Products  Butter, whipped, with salt         0.49   \n",
       "2  Dairy and Egg Products       Butter oil, anhydrous         0.28   \n",
       "3  Dairy and Egg Products                Cheese, blue        21.40   \n",
       "4  Dairy and Egg Products               Cheese, brick        23.24   \n",
       "\n",
       "   Carbohydrates (g)  Fat (g)  \n",
       "0               0.06    81.11  \n",
       "1               2.87    78.30  \n",
       "2               0.00    99.48  \n",
       "3               2.34    28.74  \n",
       "4               2.79    29.68  "
      ]
     },
     "execution_count": 80,
     "metadata": {},
     "output_type": "execute_result"
    }
   ],
   "source": [
    "#load dataset USDA-Food\n",
    "usda_foods = pd.read_excel(\"data/raw/USDA-Food.xlsx\", sheet_name=0)\n",
    "food_properties = pd.DataFrame(usda_foods[['Food Group', 'Food Name', 'Protein (g)', 'Carbohydrates (g)', 'Fat (g)']])\n",
    "food_properties.head()"
   ]
  },
  {
   "cell_type": "code",
   "execution_count": 81,
   "metadata": {},
   "outputs": [
    {
     "data": {
      "text/plain": [
       "6347"
      ]
     },
     "execution_count": 81,
     "metadata": {},
     "output_type": "execute_result"
    }
   ],
   "source": [
    "#checking size of the database\n",
    "food_properties.index.size"
   ]
  },
  {
   "cell_type": "markdown",
   "metadata": {},
   "source": [
    "There are a lot of possible product inside this database, but many of them could be unsuitable for our purpose. As for first task, we check the available _'**Food Group'**_ and remove the ones we won't need.  \n",
    "We plot them for a clear understanding"
   ]
  },
  {
   "cell_type": "code",
   "execution_count": 82,
   "metadata": {},
   "outputs": [
    {
     "data": {
      "image/png": "[encoded data removed]",
      "text/plain": [
       "<Figure size 1080x576 with 1 Axes>"
      ]
     },
     "metadata": {
      "needs_background": "light"
     },
     "output_type": "display_data"
    }
   ],
   "source": [
    "food_properties[\"Food Group\"].value_counts().plot(kind=\"barh\")\n",
    "plt.title(\"Distribution of Food Group inside the USDA database\")\n",
    "plt.xlabel(\"Counts\")\n",
    "plt.ylabel(\"Food Group\");"
   ]
  },
  {
   "cell_type": "markdown",
   "metadata": {},
   "source": [
    "As expected, **not all most poossible products are necessarily healthy. Also, other are not suitable for our purpose** (like, as example *\"Baby Food\"*). Therefore, we will no longer consider the following items:\n",
    "- Sweets\n",
    "- Beverages\n",
    "- Snacks \n",
    "- Baked Products\n",
    "- Spices and Herbs  \n",
    "- Nut and Seed Products\n",
    "- Dairy and Egg Products\n",
    "- Breakfast Cereals\n",
    "- Baby Foods\n",
    "- Soups, Sauces, and Gravies\n",
    "- Spices and Herbs\n",
    "- Nut and Seed Products\n",
    "- Fats and Oils"
   ]
  },
  {
   "cell_type": "code",
   "execution_count": 83,
   "metadata": {},
   "outputs": [
    {
     "data": {
      "text/html": [
       "<div>\n",
       "<style scoped>\n",
       "    .dataframe tbody tr th:only-of-type {\n",
       "        vertical-align: middle;\n",
       "    }\n",
       "\n",
       "    .dataframe tbody tr th {\n",
       "        vertical-align: top;\n",
       "    }\n",
       "\n",
       "    .dataframe thead th {\n",
       "        text-align: right;\n",
       "    }\n",
       "</style>\n",
       "<table border=\"1\" class=\"dataframe\">\n",
       "  <thead>\n",
       "    <tr style=\"text-align: right;\">\n",
       "      <th></th>\n",
       "      <th>Food Group</th>\n",
       "      <th>Food Name</th>\n",
       "      <th>Protein (g)</th>\n",
       "      <th>Carbohydrates (g)</th>\n",
       "      <th>Fat (g)</th>\n",
       "    </tr>\n",
       "  </thead>\n",
       "  <tbody>\n",
       "    <tr>\n",
       "      <td>0</td>\n",
       "      <td>Poultry Products</td>\n",
       "      <td>Chicken, broiler, rotisserie, BBQ, breast meat...</td>\n",
       "      <td>28.04</td>\n",
       "      <td>0.00</td>\n",
       "      <td>3.57</td>\n",
       "    </tr>\n",
       "    <tr>\n",
       "      <td>1</td>\n",
       "      <td>Poultry Products</td>\n",
       "      <td>Chicken, broilers or fryers, meat and skin and...</td>\n",
       "      <td>18.33</td>\n",
       "      <td>0.13</td>\n",
       "      <td>14.83</td>\n",
       "    </tr>\n",
       "    <tr>\n",
       "      <td>2</td>\n",
       "      <td>Poultry Products</td>\n",
       "      <td>Chicken, broilers or fryers, meat and skin and...</td>\n",
       "      <td>22.84</td>\n",
       "      <td>9.03</td>\n",
       "      <td>17.53</td>\n",
       "    </tr>\n",
       "    <tr>\n",
       "      <td>3</td>\n",
       "      <td>Poultry Products</td>\n",
       "      <td>Chicken, broilers or fryers, meat and skin and...</td>\n",
       "      <td>28.57</td>\n",
       "      <td>3.27</td>\n",
       "      <td>15.27</td>\n",
       "    </tr>\n",
       "    <tr>\n",
       "      <td>4</td>\n",
       "      <td>Poultry Products</td>\n",
       "      <td>Chicken, broilers or fryers, meat and skin and...</td>\n",
       "      <td>26.78</td>\n",
       "      <td>0.06</td>\n",
       "      <td>13.27</td>\n",
       "    </tr>\n",
       "  </tbody>\n",
       "</table>\n",
       "</div>"
      ],
      "text/plain": [
       "         Food Group                                          Food Name  \\\n",
       "0  Poultry Products  Chicken, broiler, rotisserie, BBQ, breast meat...   \n",
       "1  Poultry Products  Chicken, broilers or fryers, meat and skin and...   \n",
       "2  Poultry Products  Chicken, broilers or fryers, meat and skin and...   \n",
       "3  Poultry Products  Chicken, broilers or fryers, meat and skin and...   \n",
       "4  Poultry Products  Chicken, broilers or fryers, meat and skin and...   \n",
       "\n",
       "   Protein (g)  Carbohydrates (g)  Fat (g)  \n",
       "0        28.04               0.00     3.57  \n",
       "1        18.33               0.13    14.83  \n",
       "2        22.84               9.03    17.53  \n",
       "3        28.57               3.27    15.27  \n",
       "4        26.78               0.06    13.27  "
      ]
     },
     "execution_count": 83,
     "metadata": {},
     "output_type": "execute_result"
    }
   ],
   "source": [
    "not_suit = [\"Sweets\",\"Snacks\",\"Beverages\", \"Baked Products\",\"Spices and Herbs\", \"Nut and Seed Products\", \\\n",
    "            \"Dairy and Egg Products\", \"Breakfast Cereals\", \"Baby Foods\", \"Soups, Sauces, and Gravies\", \\\n",
    "           \"Spices and Herbs\", \"Nut and Seed Products\", \"Fats and Oils\"]\n",
    "food_properties = food_properties[~food_properties[\"Food Group\"].isin(not_suit)].reset_index(drop=True)\n",
    "food_properties.head()"
   ]
  },
  {
   "cell_type": "markdown",
   "metadata": {},
   "source": [
    "New check on dimension:"
   ]
  },
  {
   "cell_type": "code",
   "execution_count": 84,
   "metadata": {},
   "outputs": [
    {
     "data": {
      "text/plain": [
       "4240"
      ]
     },
     "execution_count": 84,
     "metadata": {},
     "output_type": "execute_result"
    }
   ],
   "source": [
    "food_properties.index.size"
   ]
  },
  {
   "cell_type": "markdown",
   "metadata": {},
   "source": [
    "By a first look to the head of the dataset we also understand that the `USDA-Food` contains many processed product. As we are interested in *raw* products for our analysis, we filter only this one:"
   ]
  },
  {
   "cell_type": "code",
   "execution_count": 85,
   "metadata": {},
   "outputs": [
    {
     "data": {
      "text/plain": [
       "1283"
      ]
     },
     "execution_count": 85,
     "metadata": {},
     "output_type": "execute_result"
    }
   ],
   "source": [
    "food_properties = food_properties[food_properties[\"Food Name\"].str.contains(\"raw\")]\n",
    "food_properties.index.size"
   ]
  },
  {
   "cell_type": "markdown",
   "metadata": {},
   "source": [
    "We have a set of **1283** products from which choose the possible diet.  \n",
    "We keep this dataset as it is for now and we move to the next part."
   ]
  },
  {
   "cell_type": "markdown",
   "metadata": {},
   "source": [
    "## 2) Consider the producer prices\n",
    "An important ax in our next choose of products will be **the cost of producing the products** inside the European countries. For this reason, we introduce now **two new datasets** and we use them to filter more the `USDA-Food` ones.  \n",
    "The new dataset are:\n",
    "- [EU_prices_for_representative](https://ec.europa.eu/info/food-farming-fisheries/farming/facts-and-figures/markets/prices/price-monitoring-sector/eu-prices-selected-representative-products_en) by the European Commission\n",
    "- [FAO Producer prices](http://www.fao.org/faostat/en/#data/PP) (in particular we use the data for cereal and vegetables prices) \n",
    "\n",
    "We use the two of them because just FAO one seems not to be complete for our purpose.  \n",
    "*Note*: FAO data are from 2018, while EU_prices will go from 2014 to 2019. We assume this prices to be ok even if they are from different period because there are no available data online."
   ]
  },
  {
   "cell_type": "code",
   "execution_count": 86,
   "metadata": {},
   "outputs": [
    {
     "data": {
      "text/html": [
       "<div>\n",
       "<style scoped>\n",
       "    .dataframe tbody tr th:only-of-type {\n",
       "        vertical-align: middle;\n",
       "    }\n",
       "\n",
       "    .dataframe tbody tr th {\n",
       "        vertical-align: top;\n",
       "    }\n",
       "\n",
       "    .dataframe thead th {\n",
       "        text-align: right;\n",
       "    }\n",
       "</style>\n",
       "<table border=\"1\" class=\"dataframe\">\n",
       "  <thead>\n",
       "    <tr style=\"text-align: right;\">\n",
       "      <th></th>\n",
       "      <th>Category</th>\n",
       "      <th>Product</th>\n",
       "      <th>Unit</th>\n",
       "      <th>Country</th>\n",
       "      <th>Period</th>\n",
       "      <th>Price</th>\n",
       "    </tr>\n",
       "  </thead>\n",
       "  <tbody>\n",
       "    <tr>\n",
       "      <td>0</td>\n",
       "      <td>Animal Products</td>\n",
       "      <td>Chicken</td>\n",
       "      <td>€/100 kg carcass weight</td>\n",
       "      <td>AT</td>\n",
       "      <td>201910</td>\n",
       "      <td>268.11</td>\n",
       "    </tr>\n",
       "  </tbody>\n",
       "</table>\n",
       "</div>"
      ],
      "text/plain": [
       "          Category  Product                     Unit Country  Period   Price\n",
       "0  Animal Products  Chicken  €/100 kg carcass weight      AT  201910  268.11"
      ]
     },
     "execution_count": 86,
     "metadata": {},
     "output_type": "execute_result"
    }
   ],
   "source": [
    "# loading the new datasets\n",
    "eu_prices = pd.read_csv(\"data/raw/europe_food_prices.csv\", usecols=[\"Category\", \"Product desc\", \"Unit\", \"Country\", \"Period\", \"MP Market Price\"])\\\n",
    "            .rename(columns={\"Product desc\": \"Product\", \"MP Market Price\":\"Price\"})\n",
    "eu_prices.head(1)"
   ]
  },
  {
   "cell_type": "markdown",
   "metadata": {},
   "source": [
    "In order to have reasonable prices, we consider only the last five years, from 2014 to october 2019:"
   ]
  },
  {
   "cell_type": "code",
   "execution_count": 87,
   "metadata": {},
   "outputs": [],
   "source": [
    "eu_prices = eu_prices[eu_prices.Period.between(201400, 201910)]"
   ]
  },
  {
   "cell_type": "markdown",
   "metadata": {},
   "source": [
    "Check the availability inside this dataset:"
   ]
  },
  {
   "cell_type": "code",
   "execution_count": 88,
   "metadata": {},
   "outputs": [
    {
     "data": {
      "text/plain": [
       "array(['Chicken', 'Raw Milk', 'SMP', 'WMP', 'Whey Powder', 'Butter',\n",
       "       'Butter Oil', 'Emmental', 'Cheddar', 'Edam', 'Gouda', 'Apricots',\n",
       "       'Avocados', 'Cherries', 'Lemons', 'Clementines', 'Strawberries',\n",
       "       'Kiwis', 'Mandarins', 'Melons', 'Nectarines', 'Oranges',\n",
       "       'Watermelons', 'Peaches', 'Pears', 'Apples Braeburn',\n",
       "       'Apples Boskoop', 'Apples Cox', 'Apples Elstar', 'Apples Fuji',\n",
       "       'Apples Gala', 'Apples Golden', 'Apples Granny', 'Apples Idared',\n",
       "       'Apples Jonagold', 'Apples Red', 'Apples Shampion', 'Plums',\n",
       "       'Grapes', 'Satsumas', 'Garlic', 'Asparagus', 'Eggplants',\n",
       "       'Cabbages', 'Carrots', 'Mushrooms', 'Cauliflowers', 'Cucumbers',\n",
       "       'Courgettes', 'Beans', 'Lettuces', 'Leeks', 'Onions', 'Peppers',\n",
       "       'Tomatoes Cherry', 'Tomatoes Trusses', 'Tomatoes Round',\n",
       "       'Feed Oats', 'Milling Oats', 'Feed Wheat', 'Bread Wheat',\n",
       "       'Durum Wheat', 'Feed Maize', 'Malting Barley', 'Feed Barley',\n",
       "       'Feed Rye', 'Bread Rye', 'Lampante Olive Oil',\n",
       "       'Extra Virgin Olive Oil', 'Virgin Olive Oil', 'White Sugar'],\n",
       "      dtype=object)"
      ]
     },
     "execution_count": 88,
     "metadata": {},
     "output_type": "execute_result"
    }
   ],
   "source": [
    "eu_prices.Product.unique()"
   ]
  },
  {
   "cell_type": "markdown",
   "metadata": {},
   "source": [
    "There is a good number of representatives from all the categories we have in the `USDA-Food`, but we miss an important source of carbohydrates: rice. Also, there is no meat present in the database.  \n",
    "For this reason, we go to scrape these information from FAO:"
   ]
  },
  {
   "cell_type": "code",
   "execution_count": 89,
   "metadata": {},
   "outputs": [
    {
     "data": {
      "text/html": [
       "<div>\n",
       "<style scoped>\n",
       "    .dataframe tbody tr th:only-of-type {\n",
       "        vertical-align: middle;\n",
       "    }\n",
       "\n",
       "    .dataframe tbody tr th {\n",
       "        vertical-align: top;\n",
       "    }\n",
       "\n",
       "    .dataframe thead th {\n",
       "        text-align: right;\n",
       "    }\n",
       "</style>\n",
       "<table border=\"1\" class=\"dataframe\">\n",
       "  <thead>\n",
       "    <tr style=\"text-align: right;\">\n",
       "      <th></th>\n",
       "      <th>Area</th>\n",
       "      <th>Item</th>\n",
       "      <th>Value</th>\n",
       "    </tr>\n",
       "  </thead>\n",
       "  <tbody>\n",
       "    <tr>\n",
       "      <td>0</td>\n",
       "      <td>Albania</td>\n",
       "      <td>Barley</td>\n",
       "      <td>302.2</td>\n",
       "    </tr>\n",
       "    <tr>\n",
       "      <td>1</td>\n",
       "      <td>Albania</td>\n",
       "      <td>Maize</td>\n",
       "      <td>300.3</td>\n",
       "    </tr>\n",
       "    <tr>\n",
       "      <td>2</td>\n",
       "      <td>Albania</td>\n",
       "      <td>Meat, cattle</td>\n",
       "      <td>6735.7</td>\n",
       "    </tr>\n",
       "    <tr>\n",
       "      <td>3</td>\n",
       "      <td>Albania</td>\n",
       "      <td>Meat, chicken</td>\n",
       "      <td>3773.1</td>\n",
       "    </tr>\n",
       "    <tr>\n",
       "      <td>4</td>\n",
       "      <td>Albania</td>\n",
       "      <td>Meat, pig</td>\n",
       "      <td>4890.6</td>\n",
       "    </tr>\n",
       "    <tr>\n",
       "      <td>...</td>\n",
       "      <td>...</td>\n",
       "      <td>...</td>\n",
       "      <td>...</td>\n",
       "    </tr>\n",
       "    <tr>\n",
       "      <td>665</td>\n",
       "      <td>Zambia</td>\n",
       "      <td>Meat, goat</td>\n",
       "      <td>3189.9</td>\n",
       "    </tr>\n",
       "    <tr>\n",
       "      <td>666</td>\n",
       "      <td>Zambia</td>\n",
       "      <td>Meat, pig</td>\n",
       "      <td>4023.7</td>\n",
       "    </tr>\n",
       "    <tr>\n",
       "      <td>667</td>\n",
       "      <td>Zambia</td>\n",
       "      <td>Millet</td>\n",
       "      <td>520.9</td>\n",
       "    </tr>\n",
       "    <tr>\n",
       "      <td>668</td>\n",
       "      <td>Zambia</td>\n",
       "      <td>Rice, paddy</td>\n",
       "      <td>1352.5</td>\n",
       "    </tr>\n",
       "    <tr>\n",
       "      <td>669</td>\n",
       "      <td>Zambia</td>\n",
       "      <td>Sorghum</td>\n",
       "      <td>604.0</td>\n",
       "    </tr>\n",
       "  </tbody>\n",
       "</table>\n",
       "<p>670 rows × 3 columns</p>\n",
       "</div>"
      ],
      "text/plain": [
       "        Area           Item   Value\n",
       "0    Albania         Barley   302.2\n",
       "1    Albania          Maize   300.3\n",
       "2    Albania   Meat, cattle  6735.7\n",
       "3    Albania  Meat, chicken  3773.1\n",
       "4    Albania      Meat, pig  4890.6\n",
       "..       ...            ...     ...\n",
       "665   Zambia     Meat, goat  3189.9\n",
       "666   Zambia      Meat, pig  4023.7\n",
       "667   Zambia         Millet   520.9\n",
       "668   Zambia    Rice, paddy  1352.5\n",
       "669   Zambia        Sorghum   604.0\n",
       "\n",
       "[670 rows x 3 columns]"
      ]
     },
     "execution_count": 89,
     "metadata": {},
     "output_type": "execute_result"
    }
   ],
   "source": [
    "fao_prices = pd.read_csv(\"data/raw/fao_cereal_meat_prices.csv\", usecols=[\"Area\", \"Item\", \"Value\"])\n",
    "fao_prices"
   ]
  },
  {
   "cell_type": "markdown",
   "metadata": {},
   "source": [
    "*Note*: FAO data are in USD/tonne  \n",
    "\n",
    "At this point we need to restrict our product analysis. In **_Which European countries can help Africa?_** section we defined which are the countries with the highest surplus in Europe, that can be able to help Africa only by giving away a small fraction of their surplus.  \n",
    "From the previous classification we remove now the *Russian Federation*, because has an huge surplus and alone able to resolve the African problem (and we want a fair share between the richest European countries), together with *Poland, Ukraine* and *Romania*, because small nations.  \n",
    "At this point we have build the set of **top 5 countries that will help Africa: France, Italy, United Kingdom, Germany** and **Spain**."
   ]
  },
  {
   "cell_type": "code",
   "execution_count": 90,
   "metadata": {},
   "outputs": [],
   "source": [
    "# defining countries\n",
    "best_countries = [\"France\", \"Italy\", \"United Kingdom\", \"Germany\", \"Spain\"]\n",
    "best_countries_code = [\"FR\", \"IT\", \"UK\", \"DE\", \"ES\"] # codes for the eu_prices\n",
    "\n",
    "# filtering our datasets\n",
    "eu_prices = eu_prices[eu_prices.Country.isin(best_countries_code)]\n",
    "fao_prices = fao_prices[fao_prices.Area.isin(best_countries)]"
   ]
  },
  {
   "cell_type": "markdown",
   "metadata": {},
   "source": [
    "Let's take a look to the products in the FAO **ceral** dataset now"
   ]
  },
  {
   "cell_type": "code",
   "execution_count": 91,
   "metadata": {},
   "outputs": [
    {
     "data": {
      "image/png": "[encoded data removed]",
      "text/plain": [
       "<Figure size 1080x576 with 1 Axes>"
      ]
     },
     "metadata": {
      "needs_background": "light"
     },
     "output_type": "display_data"
    }
   ],
   "source": [
    "fao_prices.Item.value_counts().plot(kind=\"barh\")\n",
    "plt.title(\"Distribution of products inside the FAO cereal dataset\")\n",
    "plt.xlabel(\"Number of countries covered\")\n",
    "plt.ylabel(\"Products\");"
   ]
  },
  {
   "cell_type": "markdown",
   "metadata": {},
   "source": [
    "Two fundamental problems emerge here: we don't have the price for rice and meat in all the interested countries, **we need to impute them**  \n",
    "We start from the rice.  \n",
    "In order to do so, what we do now is try to find a correlation between the product we have in **all the countries** (*Wheat* and *Oats*) and the rice"
   ]
  },
  {
   "cell_type": "code",
   "execution_count": 92,
   "metadata": {},
   "outputs": [
    {
     "data": {
      "text/html": [
       "<div>\n",
       "<style scoped>\n",
       "    .dataframe tbody tr th:only-of-type {\n",
       "        vertical-align: middle;\n",
       "    }\n",
       "\n",
       "    .dataframe tbody tr th {\n",
       "        vertical-align: top;\n",
       "    }\n",
       "\n",
       "    .dataframe thead th {\n",
       "        text-align: right;\n",
       "    }\n",
       "</style>\n",
       "<table border=\"1\" class=\"dataframe\">\n",
       "  <thead>\n",
       "    <tr style=\"text-align: right;\">\n",
       "      <th></th>\n",
       "      <th>Area</th>\n",
       "      <th>Item_x</th>\n",
       "      <th>Value_x</th>\n",
       "      <th>Item_y</th>\n",
       "      <th>Value_y</th>\n",
       "      <th>Coeff</th>\n",
       "    </tr>\n",
       "  </thead>\n",
       "  <tbody>\n",
       "    <tr>\n",
       "      <td>11</td>\n",
       "      <td>France</td>\n",
       "      <td>Rice, paddy</td>\n",
       "      <td>372.0</td>\n",
       "      <td>Oats</td>\n",
       "      <td>145.7</td>\n",
       "      <td>2.553191</td>\n",
       "    </tr>\n",
       "    <tr>\n",
       "      <td>17</td>\n",
       "      <td>Italy</td>\n",
       "      <td>Rice, paddy</td>\n",
       "      <td>403.7</td>\n",
       "      <td>Oats</td>\n",
       "      <td>272.3</td>\n",
       "      <td>1.482556</td>\n",
       "    </tr>\n",
       "    <tr>\n",
       "      <td>33</td>\n",
       "      <td>Spain</td>\n",
       "      <td>Rice, paddy</td>\n",
       "      <td>344.6</td>\n",
       "      <td>Oats</td>\n",
       "      <td>171.3</td>\n",
       "      <td>2.011675</td>\n",
       "    </tr>\n",
       "    <tr>\n",
       "      <td>15</td>\n",
       "      <td>France</td>\n",
       "      <td>Rice, paddy</td>\n",
       "      <td>372.0</td>\n",
       "      <td>Wheat</td>\n",
       "      <td>195.0</td>\n",
       "      <td>1.907692</td>\n",
       "    </tr>\n",
       "    <tr>\n",
       "      <td>19</td>\n",
       "      <td>Italy</td>\n",
       "      <td>Rice, paddy</td>\n",
       "      <td>403.7</td>\n",
       "      <td>Wheat</td>\n",
       "      <td>233.9</td>\n",
       "      <td>1.725951</td>\n",
       "    </tr>\n",
       "    <tr>\n",
       "      <td>38</td>\n",
       "      <td>Spain</td>\n",
       "      <td>Rice, paddy</td>\n",
       "      <td>344.6</td>\n",
       "      <td>Wheat</td>\n",
       "      <td>217.3</td>\n",
       "      <td>1.585826</td>\n",
       "    </tr>\n",
       "  </tbody>\n",
       "</table>\n",
       "</div>"
      ],
      "text/plain": [
       "      Area       Item_x  Value_x Item_y  Value_y     Coeff\n",
       "11  France  Rice, paddy    372.0   Oats    145.7  2.553191\n",
       "17   Italy  Rice, paddy    403.7   Oats    272.3  1.482556\n",
       "33   Spain  Rice, paddy    344.6   Oats    171.3  2.011675\n",
       "15  France  Rice, paddy    372.0  Wheat    195.0  1.907692\n",
       "19   Italy  Rice, paddy    403.7  Wheat    233.9  1.725951\n",
       "38   Spain  Rice, paddy    344.6  Wheat    217.3  1.585826"
      ]
     },
     "execution_count": 92,
     "metadata": {},
     "output_type": "execute_result"
    }
   ],
   "source": [
    "rice_df = fao_prices[fao_prices.Item==\"Rice, paddy\"]\n",
    "rice_df = rice_df.merge(fao_prices, on=\"Area\")\n",
    "rice_df = rice_df[rice_df.Item_y.str.contains(\"Wheat|Oats\")]\n",
    "rice_df[\"Coeff\"] = rice_df.Value_x/rice_df.Value_y\n",
    "rice_df.sort_values(\"Item_y\")"
   ]
  },
  {
   "cell_type": "code",
   "execution_count": 93,
   "metadata": {},
   "outputs": [
    {
     "name": "stdout",
     "output_type": "stream",
     "text": [
      "The mean coefficient for oats is 2.0158076390008994\n",
      "The mean coefficient for wheat is 1.7398232052849225\n"
     ]
    }
   ],
   "source": [
    "mean_coeff_oats = rice_df[rice_df[\"Item_y\"] == \"Oats\"].Coeff.mean()\n",
    "mean_coeff_wheat = rice_df[rice_df[\"Item_y\"] == \"Wheat\"].Coeff.mean()\n",
    "print(\"The mean coefficient for oats is\", mean_coeff_oats)\n",
    "print(\"The mean coefficient for wheat is\", mean_coeff_wheat)"
   ]
  },
  {
   "cell_type": "markdown",
   "metadata": {},
   "source": [
    "As the wheat seems the one with less fluctuation, we take this one for our imputation."
   ]
  },
  {
   "cell_type": "code",
   "execution_count": 94,
   "metadata": {},
   "outputs": [],
   "source": [
    "wheat_germany = fao_prices[(fao_prices.Area == \"Germany\") & (fao_prices.Item==\"Wheat\")].Value.values[0]\n",
    "row_germ = pd.DataFrame(np.array([[\"Germany\", \"Rice, paddy\", '%.1f'%(mean_coeff_wheat*wheat_germany)]]), columns=[\"Area\", \"Item\", \"Value\"])\n",
    "wheat_uk = fao_prices[(fao_prices.Area == \"United Kingdom\") & (fao_prices.Item==\"Wheat\")].Value.values[0]\n",
    "row_uk = pd.DataFrame(np.array([[\"United Kingdom\", \"Rice, paddy\", '%.1f'%(mean_coeff_wheat*wheat_uk)]]), columns=[\"Area\", \"Item\", \"Value\"])\n",
    "fao_prices = fao_prices.append(row_germ)\n",
    "fao_prices = fao_prices.append(row_uk).reset_index(drop=True)"
   ]
  },
  {
   "cell_type": "code",
   "execution_count": 95,
   "metadata": {},
   "outputs": [
    {
     "data": {
      "text/html": [
       "<div>\n",
       "<style scoped>\n",
       "    .dataframe tbody tr th:only-of-type {\n",
       "        vertical-align: middle;\n",
       "    }\n",
       "\n",
       "    .dataframe tbody tr th {\n",
       "        vertical-align: top;\n",
       "    }\n",
       "\n",
       "    .dataframe thead th {\n",
       "        text-align: right;\n",
       "    }\n",
       "</style>\n",
       "<table border=\"1\" class=\"dataframe\">\n",
       "  <thead>\n",
       "    <tr style=\"text-align: right;\">\n",
       "      <th></th>\n",
       "      <th>Area</th>\n",
       "      <th>Item</th>\n",
       "      <th>Value</th>\n",
       "    </tr>\n",
       "  </thead>\n",
       "  <tbody>\n",
       "    <tr>\n",
       "      <td>0</td>\n",
       "      <td>France</td>\n",
       "      <td>Barley</td>\n",
       "      <td>195.1</td>\n",
       "    </tr>\n",
       "    <tr>\n",
       "      <td>16</td>\n",
       "      <td>Germany</td>\n",
       "      <td>Barley</td>\n",
       "      <td>195.4</td>\n",
       "    </tr>\n",
       "    <tr>\n",
       "      <td>36</td>\n",
       "      <td>Spain</td>\n",
       "      <td>Barley</td>\n",
       "      <td>203.7</td>\n",
       "    </tr>\n",
       "    <tr>\n",
       "      <td>55</td>\n",
       "      <td>United Kingdom</td>\n",
       "      <td>Barley</td>\n",
       "      <td>197.4</td>\n",
       "    </tr>\n",
       "  </tbody>\n",
       "</table>\n",
       "</div>"
      ],
      "text/plain": [
       "              Area    Item  Value\n",
       "0           France  Barley  195.1\n",
       "16         Germany  Barley  195.4\n",
       "36           Spain  Barley  203.7\n",
       "55  United Kingdom  Barley  197.4"
      ]
     },
     "execution_count": 95,
     "metadata": {},
     "output_type": "execute_result"
    }
   ],
   "source": [
    "fao_prices[fao_prices.Item==\"Barley\"]"
   ]
  },
  {
   "cell_type": "markdown",
   "metadata": {},
   "source": [
    "For the meat case, we first look to the countries for which we have data (considering the most general case: cattle, that we consider cow meat)"
   ]
  },
  {
   "cell_type": "code",
   "execution_count": 96,
   "metadata": {},
   "outputs": [
    {
     "data": {
      "text/html": [
       "<div>\n",
       "<style scoped>\n",
       "    .dataframe tbody tr th:only-of-type {\n",
       "        vertical-align: middle;\n",
       "    }\n",
       "\n",
       "    .dataframe tbody tr th {\n",
       "        vertical-align: top;\n",
       "    }\n",
       "\n",
       "    .dataframe thead th {\n",
       "        text-align: right;\n",
       "    }\n",
       "</style>\n",
       "<table border=\"1\" class=\"dataframe\">\n",
       "  <thead>\n",
       "    <tr style=\"text-align: right;\">\n",
       "      <th></th>\n",
       "      <th>Area</th>\n",
       "      <th>Item</th>\n",
       "      <th>Value</th>\n",
       "    </tr>\n",
       "  </thead>\n",
       "  <tbody>\n",
       "    <tr>\n",
       "      <td>2</td>\n",
       "      <td>France</td>\n",
       "      <td>Meat, cattle</td>\n",
       "      <td>4549.5</td>\n",
       "    </tr>\n",
       "    <tr>\n",
       "      <td>18</td>\n",
       "      <td>Germany</td>\n",
       "      <td>Meat, cattle</td>\n",
       "      <td>4033.1</td>\n",
       "    </tr>\n",
       "    <tr>\n",
       "      <td>40</td>\n",
       "      <td>Spain</td>\n",
       "      <td>Meat, cattle</td>\n",
       "      <td>2774.8</td>\n",
       "    </tr>\n",
       "  </tbody>\n",
       "</table>\n",
       "</div>"
      ],
      "text/plain": [
       "       Area          Item   Value\n",
       "2    France  Meat, cattle  4549.5\n",
       "18  Germany  Meat, cattle  4033.1\n",
       "40    Spain  Meat, cattle  2774.8"
      ]
     },
     "execution_count": 96,
     "metadata": {},
     "output_type": "execute_result"
    }
   ],
   "source": [
    "fao_prices[fao_prices.Item==\"Meat, cattle\"]"
   ]
  },
  {
   "cell_type": "markdown",
   "metadata": {},
   "source": [
    "We need to impute the prices for Italy and United Kingdom:\n",
    "- For Italy we can look [here](https://www.bordbia.ie/farmers-growers/farmers/prices-markets/eu-world-cattle-prices/?country=Italy). Taking a price average we have a price of 3.42€/kg\n",
    "- For UK, [here](https://www.bordbia.ie/farmers-growers/farmers/prices-markets/eu-world-cattle-prices/?country=Gt.%20Britain). Taking the average we have 3.71€/kg\n",
    "\n",
    "We need to multiply these prices by **1.10** (actual change EUR/USD) and 1000 (to consider tonnes)"
   ]
  },
  {
   "cell_type": "code",
   "execution_count": 97,
   "metadata": {},
   "outputs": [],
   "source": [
    "meat_italy = pd.DataFrame(np.array([[\"Italy\", \"Meat, cattle\", '%.1f'%(3.42*1.10*1000)]]), columns=[\"Area\", \"Item\", \"Value\"])\n",
    "meat_uk = pd.DataFrame(np.array([[\"United Kingdom\", \"Meat, cattle\", '%.1f'%(3.71*1.10*1000)]]), columns=[\"Area\", \"Item\", \"Value\"])\n",
    "fao_prices = fao_prices.append(meat_italy)\n",
    "fao_prices = fao_prices.append(meat_uk).reset_index(drop=True)"
   ]
  },
  {
   "cell_type": "markdown",
   "metadata": {},
   "source": [
    "Reprint the plot to see the final product in the FAO dataset:"
   ]
  },
  {
   "cell_type": "code",
   "execution_count": 98,
   "metadata": {},
   "outputs": [
    {
     "data": {
      "image/png": "[encoded data removed]",
      "text/plain": [
       "<Figure size 1080x576 with 1 Axes>"
      ]
     },
     "metadata": {
      "needs_background": "light"
     },
     "output_type": "display_data"
    }
   ],
   "source": [
    "fao_prices.Item.value_counts().plot(kind=\"barh\")\n",
    "plt.title(\"Distribution of products inside the FAO cereal dataset\")\n",
    "plt.xlabel(\"Number of countries covered\")\n",
    "plt.ylabel(\"Products\");"
   ]
  },
  {
   "cell_type": "markdown",
   "metadata": {},
   "source": [
    "We need to report all in a single unit in `eu_prices`"
   ]
  },
  {
   "cell_type": "code",
   "execution_count": 99,
   "metadata": {},
   "outputs": [
    {
     "data": {
      "text/plain": [
       "array(['€/100 kg carcass weight', '€/100 kg', '€/100 kg net weight',\n",
       "       '€/t', '€/100 Kg'], dtype=object)"
      ]
     },
     "execution_count": 99,
     "metadata": {},
     "output_type": "execute_result"
    }
   ],
   "source": [
    "eu_prices.Unit.unique()"
   ]
  },
  {
   "cell_type": "markdown",
   "metadata": {},
   "source": [
    "As we are working with large amount of data and FAO as data in USD/tonnes, we take everything as EUR/tonn (multiply 10) and multiply by **1.10** (EUR/USD change)"
   ]
  },
  {
   "cell_type": "code",
   "execution_count": 100,
   "metadata": {},
   "outputs": [],
   "source": [
    "eu_prices.loc[eu_prices['Unit'].str.contains('100'), 'Price'] = eu_prices.loc[eu_prices['Unit'].str.contains('100'), 'Price']\\\n",
    "                                                                .apply(lambda x: x*1.10*10)\n",
    "eu_prices = eu_prices.drop(columns=\"Unit\")"
   ]
  },
  {
   "cell_type": "markdown",
   "metadata": {},
   "source": [
    "We now look, as we did for the `fao_prices`, if the prices we have are correctly represented among all our countries.  \n",
    "First step we do in doing this, is to keep only the most recent data for each product inside each country"
   ]
  },
  {
   "cell_type": "code",
   "execution_count": 101,
   "metadata": {},
   "outputs": [],
   "source": [
    "eu_prices = eu_prices.sort_values(\"Period\", ascending=False).groupby([\"Country\", \"Category\", \"Product\"])\\\n",
    "                      .first().reset_index().drop(columns=\"Period\")"
   ]
  },
  {
   "cell_type": "code",
   "execution_count": 102,
   "metadata": {},
   "outputs": [
    {
     "data": {
      "image/png": "[encoded data removed]",
      "text/plain": [
       "<Figure size 1440x1080 with 1 Axes>"
      ]
     },
     "metadata": {
      "needs_background": "light"
     },
     "output_type": "display_data"
    }
   ],
   "source": [
    "plt.figure(figsize=(20, 15))\n",
    "eu_prices.Product.value_counts().plot(kind=\"barh\")\n",
    "plt.title(\"Distribution of products inside the eu_countries dataset\")\n",
    "plt.xlabel(\"Number of countries covered\")\n",
    "plt.ylabel(\"Products\");"
   ]
  },
  {
   "cell_type": "code",
   "execution_count": 103,
   "metadata": {},
   "outputs": [],
   "source": [
    "eu_prices.Product = eu_prices.Product.apply(lambda x: \"Apples\" if \"Apples\" in x else x)\n",
    "eu_prices.Product = eu_prices.Product.apply(lambda x: \"Tomatoes\" if \"Tomatoes\" in x else x)\n",
    "eu_prices.Product = eu_prices.Product.apply(lambda x: \"Bread\" if \"Bread\" in x else x)"
   ]
  },
  {
   "cell_type": "code",
   "execution_count": 104,
   "metadata": {},
   "outputs": [],
   "source": [
    "# dropping and readd them\n",
    "apples_eu = eu_prices[eu_prices.Product==\"Apples\"].groupby([\"Country\", \"Category\", \"Product\"]).agg(\"mean\").reset_index()\n",
    "eu_prices = eu_prices[~(eu_prices[\"Product\"]==\"Apples\")].reset_index(drop=True)\n",
    "tomatoes_eu = eu_prices[eu_prices.Product==\"Tomatoes\"].groupby([\"Country\", \"Category\", \"Product\"]).agg(\"mean\").reset_index()\n",
    "eu_prices = eu_prices[~(eu_prices[\"Product\"]==\"Tomatoes\")].reset_index(drop=True)\n",
    "bread_eu = eu_prices[eu_prices.Product==\"Bread\"].groupby([\"Country\", \"Category\", \"Product\"]).agg(\"mean\").reset_index()\n",
    "eu_prices = eu_prices[~(eu_prices[\"Product\"]==\"Bread\")].reset_index(drop=True)\n",
    "eu_prices = eu_prices.append(apples_eu)\n",
    "eu_prices = eu_prices.append(tomatoes_eu)\n",
    "eu_prices = eu_prices.append(bread_eu)"
   ]
  },
  {
   "cell_type": "code",
   "execution_count": 105,
   "metadata": {},
   "outputs": [
    {
     "data": {
      "image/png": "[encoded data removed]",
      "text/plain": [
       "<Figure size 1440x1080 with 1 Axes>"
      ]
     },
     "metadata": {
      "needs_background": "light"
     },
     "output_type": "display_data"
    }
   ],
   "source": [
    "plt.figure(figsize=(20, 15))\n",
    "eu_prices.Product.value_counts().plot(kind=\"barh\")\n",
    "plt.title(\"Distribution of products inside the eu_countries dataset\")\n",
    "plt.xlabel(\"Number of countries covered\")\n",
    "plt.ylabel(\"Products\");"
   ]
  },
  {
   "cell_type": "markdown",
   "metadata": {},
   "source": [
    "**Merging didn't solve the situation.**  \n",
    "As a consequence, we decide to **drop all the products with not at least 4 counts** and put our *imputing efforts* just on them."
   ]
  },
  {
   "cell_type": "code",
   "execution_count": 106,
   "metadata": {},
   "outputs": [],
   "source": [
    "counts_eu = eu_prices.Product.value_counts()\n",
    "possible_products = counts_eu[counts_eu >= len(best_countries) - 1].index\n",
    "eu_prices = eu_prices[eu_prices.Product.isin(possible_products)]"
   ]
  },
  {
   "cell_type": "code",
   "execution_count": 107,
   "metadata": {},
   "outputs": [
    {
     "data": {
      "image/png": "[encoded data removed]",
      "text/plain": [
       "<Figure size 1080x576 with 1 Axes>"
      ]
     },
     "metadata": {
      "needs_background": "light"
     },
     "output_type": "display_data"
    }
   ],
   "source": [
    "# replot to zoom on our interested products\n",
    "eu_prices.Product.value_counts().plot(kind=\"barh\")\n",
    "plt.title(\"Distribution of products inside the eu_countries dataset\")\n",
    "plt.xlabel(\"Number of countries covered\")\n",
    "plt.ylabel(\"Products\");"
   ]
  },
  {
   "cell_type": "markdown",
   "metadata": {},
   "source": [
    "Printing the counts to understand which countries to impute. A country with all products should count **13 products**"
   ]
  },
  {
   "cell_type": "code",
   "execution_count": 108,
   "metadata": {},
   "outputs": [
    {
     "data": {
      "text/plain": [
       "ES    13\n",
       "DE    12\n",
       "IT    12\n",
       "FR    11\n",
       "UK    10\n",
       "Name: Country, dtype: int64"
      ]
     },
     "execution_count": 108,
     "metadata": {},
     "output_type": "execute_result"
    }
   ],
   "source": [
    "eu_prices.Country.value_counts()"
   ]
  },
  {
   "cell_type": "markdown",
   "metadata": {},
   "source": [
    "Only Spain has all the needed products. We need to impute all the others. We therefore proceed to print all the need in the other countries:"
   ]
  },
  {
   "cell_type": "code",
   "execution_count": 109,
   "metadata": {},
   "outputs": [
    {
     "name": "stdout",
     "output_type": "stream",
     "text": [
      "Missing product in Italy: {'Malting Barley'}\n",
      "Missing product in Germany: {'Onions'}\n",
      "Missing product in France: {'Lettuces', 'Butter'}\n",
      "Missing product in United Kingdom: {'Apples', 'Feed Maize', 'Cherries'}\n"
     ]
    }
   ],
   "source": [
    "# set difference between the products\n",
    "need_it = set(possible_products) - set(eu_prices[eu_prices.Country==\"IT\"].Product.values)\n",
    "need_de = set(possible_products) - set(eu_prices[eu_prices.Country==\"DE\"].Product.values)\n",
    "need_fr = set(possible_products) - set(eu_prices[eu_prices.Country==\"FR\"].Product.values)\n",
    "need_uk = set(possible_products) - set(eu_prices[eu_prices.Country==\"UK\"].Product.values)\n",
    "\n",
    "# printing\n",
    "print(\"Missing product in Italy:\", need_it)\n",
    "print(\"Missing product in Germany:\", need_de)\n",
    "print(\"Missing product in France:\", need_fr)\n",
    "print(\"Missing product in United Kingdom:\", need_uk)"
   ]
  },
  {
   "cell_type": "markdown",
   "metadata": {},
   "source": [
    "#### Italy\n",
    "We need to impute the **Malting Barley**. The actual italian price can be found [here](https://www.clal.it/en/index.php?section=conf_cereali#orzo), where the price is (today) 189 EUR/ton. We multiply by 1.10 to have the price in USD."
   ]
  },
  {
   "cell_type": "code",
   "execution_count": 110,
   "metadata": {},
   "outputs": [],
   "source": [
    "barley_italy = pd.DataFrame(np.array([[\"IT\", \"Vegetal Products\", \"Malting Barley\", '%.2f'%(189*1.10)]]), columns=[\"Country\", \"Category\", \"Product\", \"Price\"])\n",
    "eu_prices = eu_prices.append(barley_italy).reset_index(drop=True)"
   ]
  },
  {
   "cell_type": "markdown",
   "metadata": {},
   "source": [
    "#### Germany\n",
    "We need to impute the **Onions**. We can easily expect that onions won't be part of our diet, so we can drop them from all of the country."
   ]
  },
  {
   "cell_type": "code",
   "execution_count": 111,
   "metadata": {},
   "outputs": [],
   "source": [
    "eu_prices = eu_prices[~(eu_prices.Product==\"Onions\")]"
   ]
  },
  {
   "cell_type": "markdown",
   "metadata": {},
   "source": [
    "#### France\n",
    "We need to impute **Lettuces** and **Butter**. For the second one, we can drop the aliment because it won't be part of the diet for sure. For the Lettuces, we can look to the FAO data directly from the [website](http://www.fao.org/faostat/en/#data/PP): 1296.3 in 2018"
   ]
  },
  {
   "cell_type": "code",
   "execution_count": 112,
   "metadata": {},
   "outputs": [],
   "source": [
    "eu_prices = eu_prices[~(eu_prices.Product==\"Butter\")]\n",
    "lettuce_france = pd.DataFrame(np.array([[\"FR\", \"Vegetable Products\", \"Lettuces\", '%.2f'%(1269.3)]]), columns=[\"Country\", \"Category\", \"Product\", \"Price\"])\n",
    "eu_prices = eu_prices.append(lettuce_france).reset_index(drop=True)"
   ]
  },
  {
   "cell_type": "code",
   "execution_count": 113,
   "metadata": {},
   "outputs": [
    {
     "data": {
      "text/html": [
       "<div>\n",
       "<style scoped>\n",
       "    .dataframe tbody tr th:only-of-type {\n",
       "        vertical-align: middle;\n",
       "    }\n",
       "\n",
       "    .dataframe tbody tr th {\n",
       "        vertical-align: top;\n",
       "    }\n",
       "\n",
       "    .dataframe thead th {\n",
       "        text-align: right;\n",
       "    }\n",
       "</style>\n",
       "<table border=\"1\" class=\"dataframe\">\n",
       "  <thead>\n",
       "    <tr style=\"text-align: right;\">\n",
       "      <th></th>\n",
       "      <th>Country</th>\n",
       "      <th>Category</th>\n",
       "      <th>Product</th>\n",
       "      <th>Price</th>\n",
       "    </tr>\n",
       "  </thead>\n",
       "  <tbody>\n",
       "    <tr>\n",
       "      <td>7</td>\n",
       "      <td>DE</td>\n",
       "      <td>Vegetal Products</td>\n",
       "      <td>Feed Maize</td>\n",
       "      <td>161.88</td>\n",
       "    </tr>\n",
       "    <tr>\n",
       "      <td>16</td>\n",
       "      <td>ES</td>\n",
       "      <td>Vegetal Products</td>\n",
       "      <td>Feed Maize</td>\n",
       "      <td>170.38</td>\n",
       "    </tr>\n",
       "    <tr>\n",
       "      <td>24</td>\n",
       "      <td>FR</td>\n",
       "      <td>Vegetal Products</td>\n",
       "      <td>Feed Maize</td>\n",
       "      <td>153.65</td>\n",
       "    </tr>\n",
       "    <tr>\n",
       "      <td>33</td>\n",
       "      <td>IT</td>\n",
       "      <td>Vegetal Products</td>\n",
       "      <td>Feed Maize</td>\n",
       "      <td>149.64</td>\n",
       "    </tr>\n",
       "  </tbody>\n",
       "</table>\n",
       "</div>"
      ],
      "text/plain": [
       "   Country          Category     Product   Price\n",
       "7       DE  Vegetal Products  Feed Maize  161.88\n",
       "16      ES  Vegetal Products  Feed Maize  170.38\n",
       "24      FR  Vegetal Products  Feed Maize  153.65\n",
       "33      IT  Vegetal Products  Feed Maize  149.64"
      ]
     },
     "execution_count": 113,
     "metadata": {},
     "output_type": "execute_result"
    }
   ],
   "source": [
    "eu_prices[(eu_prices.Product==\"Feed Maize\")]"
   ]
  },
  {
   "cell_type": "markdown",
   "metadata": {},
   "source": [
    "#### United Kingdom\n",
    "We need to impute **Apples**, **Cherries** and **Feed Maize**. For Apples and cherries we can use FAO data: 1343.4 and 4574.9 respectively. The price of Maize can be found [here](https://ahdb.org.uk/cereals-oilseeds-markets), 195\\$ per tonnes"
   ]
  },
  {
   "cell_type": "code",
   "execution_count": 114,
   "metadata": {},
   "outputs": [],
   "source": [
    "apples_uk = pd.DataFrame(np.array([[\"UK\", \"Fruit Products\", \"Apples\", '%.2f'%(1343.4)]]), columns=[\"Country\", \"Category\", \"Product\", \"Price\"])\n",
    "cherries_uk = pd.DataFrame(np.array([[\"UK\", \"Fruit Products\", \"Cherries\", '%.2f'%(4574.9)]]), columns=[\"Country\", \"Category\", \"Product\", \"Price\"])\n",
    "maize_uk = pd.DataFrame(np.array([[\"UK\", \"Vegetal Products\", \"Feed Maize\", '%.2f'%(195)]]), columns=[\"Country\", \"Category\", \"Product\", \"Price\"])\n",
    "\n",
    "eu_prices = eu_prices.append(apples_uk)\n",
    "eu_prices = eu_prices.append(cherries_uk)\n",
    "eu_prices = eu_prices.append(maize_uk).reset_index(drop=True)"
   ]
  },
  {
   "cell_type": "markdown",
   "metadata": {},
   "source": [
    "Check if everything went right:"
   ]
  },
  {
   "cell_type": "code",
   "execution_count": 115,
   "metadata": {},
   "outputs": [
    {
     "data": {
      "image/png": "[encoded data removed]",
      "text/plain": [
       "<Figure size 1080x576 with 1 Axes>"
      ]
     },
     "metadata": {
      "needs_background": "light"
     },
     "output_type": "display_data"
    }
   ],
   "source": [
    "# replot to zoom on our interested products\n",
    "eu_prices.Product.value_counts().plot(kind=\"barh\")\n",
    "plt.title(\"Distribution of products inside the eu_countries dataset\")\n",
    "plt.xlabel(\"Number of countries covered\")\n",
    "plt.ylabel(\"Products\");"
   ]
  },
  {
   "cell_type": "markdown",
   "metadata": {},
   "source": [
    "As we can see, the **Vegetables** category is not well represented by our actual dataset. For this reason, we consider **FAO data for vegetables** in order to fill the gaps:"
   ]
  },
  {
   "cell_type": "code",
   "execution_count": 116,
   "metadata": {},
   "outputs": [
    {
     "data": {
      "image/png": "[encoded data removed]",
      "text/plain": [
       "<Figure size 1080x576 with 1 Axes>"
      ]
     },
     "metadata": {
      "needs_background": "light"
     },
     "output_type": "display_data"
    }
   ],
   "source": [
    "fao_vegetables_prc = pd.read_csv(\"data/raw/fao_vegetables_prices_201419.csv\", usecols=[\"Area\", \"Item\", \"Value\", \"Year\"])\n",
    "fao_vegetables_prc = fao_vegetables_prc[fao_vegetables_prc.Area.isin(best_countries)]\n",
    "\n",
    "fao_vegetables_prc = fao_vegetables_prc.sort_values(\"Year\", ascending=False).groupby([\"Area\", \"Item\"])\\\n",
    "                      .first().reset_index().drop(columns=\"Year\")\n",
    "\n",
    "# plotting\n",
    "fao_vegetables_prc.Item.value_counts().plot(kind=\"barh\")\n",
    "plt.title(\"Distribution of products inside the FAO vegetables dataset\")\n",
    "plt.xlabel(\"Number of countries covered\")\n",
    "plt.ylabel(\"Products\");"
   ]
  },
  {
   "cell_type": "markdown",
   "metadata": {},
   "source": [
    "As we did before, we take only the products present in at least **4 countries** for the next analysis:"
   ]
  },
  {
   "cell_type": "code",
   "execution_count": 117,
   "metadata": {},
   "outputs": [],
   "source": [
    "counts_fao_veg = fao_vegetables_prc.Item.value_counts()\n",
    "possible_products_veg = counts_fao_veg[counts_fao_veg >= len(best_countries) - 1].index\n",
    "fao_vegetables_prc = fao_vegetables_prc[fao_vegetables_prc.Item.isin(possible_products_veg)]"
   ]
  },
  {
   "cell_type": "code",
   "execution_count": 118,
   "metadata": {},
   "outputs": [
    {
     "data": {
      "image/png": "[encoded data removed]",
      "text/plain": [
       "<Figure size 1080x576 with 1 Axes>"
      ]
     },
     "metadata": {
      "needs_background": "light"
     },
     "output_type": "display_data"
    }
   ],
   "source": [
    "# replot to zoom on our interested products\n",
    "fao_vegetables_prc.Item.value_counts().plot(kind=\"barh\")\n",
    "plt.title(\"Distribution of products inside the FAO vegetables dataset\")\n",
    "plt.xlabel(\"Number of countries covered\")\n",
    "plt.ylabel(\"Products\");"
   ]
  },
  {
   "cell_type": "markdown",
   "metadata": {},
   "source": [
    "We can also drop **Carrots** and **Lettuce** before already present in the precedent dataset:"
   ]
  },
  {
   "cell_type": "code",
   "execution_count": 119,
   "metadata": {},
   "outputs": [],
   "source": [
    "fao_vegetables_prc = fao_vegetables_prc[~(fao_vegetables_prc.Item.isin([\"Carrots and turnips\", \"Lettuce and chicory\"]))]\n",
    "possible_products_veg = possible_products_veg[~(possible_products_veg.isin([\"Carrots and turnips\", \"Lettuce and chicory\"]))]"
   ]
  },
  {
   "cell_type": "code",
   "execution_count": 120,
   "metadata": {},
   "outputs": [
    {
     "data": {
      "image/png": "[encoded data removed]",
      "text/plain": [
       "<Figure size 1080x576 with 1 Axes>"
      ]
     },
     "metadata": {
      "needs_background": "light"
     },
     "output_type": "display_data"
    }
   ],
   "source": [
    "# replot to zoom on our interested products\n",
    "fao_vegetables_prc.Item.value_counts().plot(kind=\"barh\")\n",
    "plt.title(\"Distribution of products inside the FAO vegetables dataset\")\n",
    "plt.xlabel(\"Number of countries covered\")\n",
    "plt.ylabel(\"Products\");"
   ]
  },
  {
   "cell_type": "markdown",
   "metadata": {},
   "source": [
    "Let's see how these products are represented:"
   ]
  },
  {
   "cell_type": "code",
   "execution_count": 121,
   "metadata": {},
   "outputs": [
    {
     "data": {
      "text/plain": [
       "Spain             8\n",
       "France            8\n",
       "United Kingdom    8\n",
       "Germany           8\n",
       "Italy             2\n",
       "Name: Area, dtype: int64"
      ]
     },
     "execution_count": 121,
     "metadata": {},
     "output_type": "execute_result"
    }
   ],
   "source": [
    "fao_vegetables_prc.Area.value_counts()"
   ]
  },
  {
   "cell_type": "markdown",
   "metadata": {},
   "source": [
    "The only country in which products are missing is **Italy**. We need to impute manually the prices of these products:"
   ]
  },
  {
   "cell_type": "code",
   "execution_count": 122,
   "metadata": {},
   "outputs": [
    {
     "name": "stdout",
     "output_type": "stream",
     "text": [
      "Missing product in Italy: {'Cabbages and other brassicas', 'Mushrooms and truffles', 'Peas, green', 'Cucumbers and gherkins', 'Cauliflowers and broccoli', 'Beans, green'}\n"
     ]
    }
   ],
   "source": [
    "# set difference between the products\n",
    "need_it = set(possible_products_veg) - set(fao_vegetables_prc[fao_vegetables_prc.Area==\"Italy\"].Item.values)\n",
    "\n",
    "# printing\n",
    "print(\"Missing product in Italy:\", need_it)"
   ]
  },
  {
   "cell_type": "markdown",
   "metadata": {},
   "source": [
    "### Imputing Italy"
   ]
  },
  {
   "cell_type": "markdown",
   "metadata": {},
   "source": [
    "The price for the **cucumbers** and the **cauliflowers** can be found in the `eu_prices` dataset"
   ]
  },
  {
   "cell_type": "code",
   "execution_count": 123,
   "metadata": {},
   "outputs": [],
   "source": [
    "eu_prices2 = pd.read_csv(\"data/raw/europe_food_prices.csv\", usecols=[\"Category\", \"Product desc\", \"Unit\", \"Country\", \"Period\", \"MP Market Price\"])\\\n",
    "            .rename(columns={\"Product desc\": \"Product\", \"MP Market Price\":\"Price\"})\n",
    "eu_prices2 = eu_prices2[eu_prices2.Country.isin(best_countries_code)]\n",
    "eu_prices2 = eu_prices2[eu_prices2.Period.between(201400, 201910)]\n",
    "eu_prices2 = eu_prices2.sort_values(\"Period\", ascending=False).groupby([\"Country\", \"Category\", \"Product\"])\\\n",
    "                      .first().reset_index().drop(columns=\"Period\")"
   ]
  },
  {
   "cell_type": "code",
   "execution_count": 124,
   "metadata": {},
   "outputs": [
    {
     "data": {
      "text/html": [
       "<div>\n",
       "<style scoped>\n",
       "    .dataframe tbody tr th:only-of-type {\n",
       "        vertical-align: middle;\n",
       "    }\n",
       "\n",
       "    .dataframe tbody tr th {\n",
       "        vertical-align: top;\n",
       "    }\n",
       "\n",
       "    .dataframe thead th {\n",
       "        text-align: right;\n",
       "    }\n",
       "</style>\n",
       "<table border=\"1\" class=\"dataframe\">\n",
       "  <thead>\n",
       "    <tr style=\"text-align: right;\">\n",
       "      <th></th>\n",
       "      <th>Country</th>\n",
       "      <th>Category</th>\n",
       "      <th>Product</th>\n",
       "      <th>Unit</th>\n",
       "      <th>Price</th>\n",
       "    </tr>\n",
       "  </thead>\n",
       "  <tbody>\n",
       "    <tr>\n",
       "      <td>63</td>\n",
       "      <td>ES</td>\n",
       "      <td>Vegetable Products</td>\n",
       "      <td>Cucumbers</td>\n",
       "      <td>€/100 kg net weight</td>\n",
       "      <td>49.81</td>\n",
       "    </tr>\n",
       "    <tr>\n",
       "      <td>101</td>\n",
       "      <td>FR</td>\n",
       "      <td>Vegetable Products</td>\n",
       "      <td>Cucumbers</td>\n",
       "      <td>€/100 kg net weight</td>\n",
       "      <td>114.55</td>\n",
       "    </tr>\n",
       "    <tr>\n",
       "      <td>144</td>\n",
       "      <td>IT</td>\n",
       "      <td>Vegetable Products</td>\n",
       "      <td>Cucumbers</td>\n",
       "      <td>€/100 kg net weight</td>\n",
       "      <td>68.00</td>\n",
       "    </tr>\n",
       "  </tbody>\n",
       "</table>\n",
       "</div>"
      ],
      "text/plain": [
       "    Country            Category    Product                 Unit   Price\n",
       "63       ES  Vegetable Products  Cucumbers  €/100 kg net weight   49.81\n",
       "101      FR  Vegetable Products  Cucumbers  €/100 kg net weight  114.55\n",
       "144      IT  Vegetable Products  Cucumbers  €/100 kg net weight   68.00"
      ]
     },
     "execution_count": 124,
     "metadata": {},
     "output_type": "execute_result"
    }
   ],
   "source": [
    "eu_prices2[eu_prices2.Product==\"Cucumbers\"]"
   ]
  },
  {
   "cell_type": "code",
   "execution_count": 125,
   "metadata": {},
   "outputs": [
    {
     "data": {
      "text/html": [
       "<div>\n",
       "<style scoped>\n",
       "    .dataframe tbody tr th:only-of-type {\n",
       "        vertical-align: middle;\n",
       "    }\n",
       "\n",
       "    .dataframe tbody tr th {\n",
       "        vertical-align: top;\n",
       "    }\n",
       "\n",
       "    .dataframe thead th {\n",
       "        text-align: right;\n",
       "    }\n",
       "</style>\n",
       "<table border=\"1\" class=\"dataframe\">\n",
       "  <thead>\n",
       "    <tr style=\"text-align: right;\">\n",
       "      <th></th>\n",
       "      <th>Country</th>\n",
       "      <th>Category</th>\n",
       "      <th>Product</th>\n",
       "      <th>Unit</th>\n",
       "      <th>Price</th>\n",
       "    </tr>\n",
       "  </thead>\n",
       "  <tbody>\n",
       "    <tr>\n",
       "      <td>61</td>\n",
       "      <td>ES</td>\n",
       "      <td>Vegetable Products</td>\n",
       "      <td>Cauliflowers</td>\n",
       "      <td>€/100 kg net weight</td>\n",
       "      <td>25.20</td>\n",
       "    </tr>\n",
       "    <tr>\n",
       "      <td>99</td>\n",
       "      <td>FR</td>\n",
       "      <td>Vegetable Products</td>\n",
       "      <td>Cauliflowers</td>\n",
       "      <td>€/100 kg net weight</td>\n",
       "      <td>40.68</td>\n",
       "    </tr>\n",
       "    <tr>\n",
       "      <td>142</td>\n",
       "      <td>IT</td>\n",
       "      <td>Vegetable Products</td>\n",
       "      <td>Cauliflowers</td>\n",
       "      <td>€/100 kg net weight</td>\n",
       "      <td>62.71</td>\n",
       "    </tr>\n",
       "  </tbody>\n",
       "</table>\n",
       "</div>"
      ],
      "text/plain": [
       "    Country            Category       Product                 Unit  Price\n",
       "61       ES  Vegetable Products  Cauliflowers  €/100 kg net weight  25.20\n",
       "99       FR  Vegetable Products  Cauliflowers  €/100 kg net weight  40.68\n",
       "142      IT  Vegetable Products  Cauliflowers  €/100 kg net weight  62.71"
      ]
     },
     "execution_count": 125,
     "metadata": {},
     "output_type": "execute_result"
    }
   ],
   "source": [
    "eu_prices2[eu_prices2.Product==\"Cauliflowers\"]"
   ]
  },
  {
   "cell_type": "code",
   "execution_count": 126,
   "metadata": {},
   "outputs": [],
   "source": [
    "#prices are in Eur/100 kg, we need usd/tonnes\n",
    "cucumbers = pd.DataFrame(np.array([[\"Italy\", \"Cucumbers and gherkins\", 68.00*1.10*10]]), columns=[\"Area\", \"Item\", \"Value\"])\n",
    "cauliflowers = pd.DataFrame(np.array([[\"Italy\", \"Cauliflowers and broccoli\", 62.71*1.10*10]]), columns=[\"Area\", \"Item\", \"Value\"])\n",
    "\n",
    "\n",
    "fao_vegetables_prc = fao_vegetables_prc.append(cucumbers)\n",
    "fao_vegetables_prc = fao_vegetables_prc.append(cauliflowers).reset_index(drop=True)"
   ]
  },
  {
   "cell_type": "markdown",
   "metadata": {},
   "source": [
    "For the **peas** and the **beans** of 2017 in Italy can be found [here](http://www.codima.info/trunk/nor_file_107_decreto-ministeriale-n.-0031908-del-29-dicembre-2016-prezzi_parte_1-.pdf) (page in Italian)  \n",
    "The price is **120.33€/100kg** for the peas and **175.56€/100kg** for the beans"
   ]
  },
  {
   "cell_type": "code",
   "execution_count": 127,
   "metadata": {},
   "outputs": [],
   "source": [
    "#prices are in Eur/100 kg, we need usd/tonnes\n",
    "peas = pd.DataFrame(np.array([[\"Italy\", \"Peas, green\", 120.33*1.10*10]]), columns=[\"Area\", \"Item\", \"Value\"])\n",
    "beans = pd.DataFrame(np.array([[\"Italy\", \"Beans, green\", 175.56*1.10*10]]), columns=[\"Area\", \"Item\", \"Value\"])\n",
    "\n",
    "\n",
    "fao_vegetables_prc = fao_vegetables_prc.append(peas)\n",
    "fao_vegetables_prc = fao_vegetables_prc.append(beans).reset_index(drop=True)"
   ]
  },
  {
   "cell_type": "markdown",
   "metadata": {},
   "source": [
    "Unfortunately, we didn't find any reliable price for **Cabbages and mushrooms**, so we drop them:"
   ]
  },
  {
   "cell_type": "code",
   "execution_count": 128,
   "metadata": {},
   "outputs": [],
   "source": [
    "fao_vegetables_prc = fao_vegetables_prc[~(fao_vegetables_prc.Item.isin([\"Cabbages and other brassicas\", \"Mushrooms and truffles\"]))]"
   ]
  },
  {
   "cell_type": "markdown",
   "metadata": {},
   "source": [
    "Final check on these products"
   ]
  },
  {
   "cell_type": "code",
   "execution_count": 129,
   "metadata": {},
   "outputs": [
    {
     "data": {
      "image/png": "[encoded data removed]",
      "text/plain": [
       "<Figure size 1080x576 with 1 Axes>"
      ]
     },
     "metadata": {
      "needs_background": "light"
     },
     "output_type": "display_data"
    }
   ],
   "source": [
    "fao_vegetables_prc.Item.value_counts().plot(kind=\"barh\")\n",
    "plt.title(\"Distribution of products inside the FAO vegetable dataset\")\n",
    "plt.xlabel(\"Number of countries covered\")\n",
    "plt.ylabel(\"Products\");"
   ]
  },
  {
   "cell_type": "markdown",
   "metadata": {},
   "source": [
    "We also now rename the codes in  `eu_prices` to full name of nations before merging"
   ]
  },
  {
   "cell_type": "code",
   "execution_count": 130,
   "metadata": {},
   "outputs": [],
   "source": [
    "dict_country = dict(zip(best_countries_code, best_countries))\n",
    "eu_prices = eu_prices.replace({\"Country\":dict_country})"
   ]
  },
  {
   "cell_type": "markdown",
   "metadata": {},
   "source": [
    "Final step is combining the three dataframe together. We modify the needed products from the FAO datasets and adapt it to `eu_prices`"
   ]
  },
  {
   "cell_type": "code",
   "execution_count": 131,
   "metadata": {},
   "outputs": [],
   "source": [
    "counts_fao = fao_prices.Item.value_counts()\n",
    "fao_products = counts_fao[counts_fao == len(best_countries)].index\n",
    "fao_prices = fao_prices[fao_prices.Item.isin(fao_products)]"
   ]
  },
  {
   "cell_type": "code",
   "execution_count": 132,
   "metadata": {},
   "outputs": [],
   "source": [
    "# dropping the no longer needed category column from eu\n",
    "eu_prices.drop(columns=\"Category\", inplace=True)"
   ]
  },
  {
   "cell_type": "code",
   "execution_count": 133,
   "metadata": {},
   "outputs": [
    {
     "data": {
      "text/html": [
       "<div>\n",
       "<style scoped>\n",
       "    .dataframe tbody tr th:only-of-type {\n",
       "        vertical-align: middle;\n",
       "    }\n",
       "\n",
       "    .dataframe tbody tr th {\n",
       "        vertical-align: top;\n",
       "    }\n",
       "\n",
       "    .dataframe thead th {\n",
       "        text-align: right;\n",
       "    }\n",
       "</style>\n",
       "<table border=\"1\" class=\"dataframe\">\n",
       "  <thead>\n",
       "    <tr style=\"text-align: right;\">\n",
       "      <th></th>\n",
       "      <th>Country</th>\n",
       "      <th>Product</th>\n",
       "      <th>Price</th>\n",
       "    </tr>\n",
       "  </thead>\n",
       "  <tbody>\n",
       "    <tr>\n",
       "      <td>0</td>\n",
       "      <td>United Kingdom</td>\n",
       "      <td>Apples</td>\n",
       "      <td>1343.40</td>\n",
       "    </tr>\n",
       "    <tr>\n",
       "      <td>1</td>\n",
       "      <td>Italy</td>\n",
       "      <td>Apples</td>\n",
       "      <td>713.743</td>\n",
       "    </tr>\n",
       "    <tr>\n",
       "      <td>2</td>\n",
       "      <td>France</td>\n",
       "      <td>Apples</td>\n",
       "      <td>1029.79</td>\n",
       "    </tr>\n",
       "    <tr>\n",
       "      <td>3</td>\n",
       "      <td>Spain</td>\n",
       "      <td>Apples</td>\n",
       "      <td>898.04</td>\n",
       "    </tr>\n",
       "    <tr>\n",
       "      <td>4</td>\n",
       "      <td>Germany</td>\n",
       "      <td>Apples</td>\n",
       "      <td>597.443</td>\n",
       "    </tr>\n",
       "  </tbody>\n",
       "</table>\n",
       "</div>"
      ],
      "text/plain": [
       "          Country Product    Price\n",
       "0  United Kingdom  Apples  1343.40\n",
       "1           Italy  Apples  713.743\n",
       "2          France  Apples  1029.79\n",
       "3           Spain  Apples   898.04\n",
       "4         Germany  Apples  597.443"
      ]
     },
     "execution_count": 133,
     "metadata": {},
     "output_type": "execute_result"
    }
   ],
   "source": [
    "fao_prices = fao_prices.replace({\"Item\":{\"Rice, paddy\": \"Rice\", \"Meat, cattle\": \"Meat\"}})\n",
    "fao_prices = fao_prices[[\"Area\", \"Item\", \"Value\"]]\n",
    "fao_prices = fao_prices.rename(columns={\"Item\": \"Product\", \"Area\":\"Country\", \"Value\":\"Price\"})\n",
    "fao_vegetables_prc = fao_vegetables_prc.replace({\"Item\":{\"Cauliflowers and broccoli\": \"Cauliflowers\", \"Peas, green\": \"Peas\", \"Beans, green\": \"Beans\", \"Cucumbers and gherkins\": \"Cucumbers\"}})\n",
    "fao_vegetables_prc = fao_vegetables_prc[[\"Area\", \"Item\", \"Value\"]]\n",
    "fao_vegetables_prc = fao_vegetables_prc.rename(columns={\"Item\": \"Product\", \"Area\":\"Country\", \"Value\":\"Price\"})\n",
    "prices = eu_prices.append(fao_prices).append(fao_vegetables_prc).sort_values(by=\"Product\").reset_index(drop=True)\n",
    "prices.head()"
   ]
  },
  {
   "cell_type": "code",
   "execution_count": 134,
   "metadata": {},
   "outputs": [
    {
     "name": "stdout",
     "output_type": "stream",
     "text": [
      "The final products present in the dataset are: ['Apples' 'Beans' 'Bread' 'Carrots' 'Cauliflowers' 'Cherries' 'Chicken'\n",
      " 'Cucumbers' 'Feed Barley' 'Feed Maize' 'Lettuces' 'Malting Barley' 'Meat'\n",
      " 'Oats' 'Peas' 'Potatoes' 'Raw Milk' 'Rice' 'Strawberries' 'Tomatoes'\n",
      " 'Wheat']\n"
     ]
    }
   ],
   "source": [
    "print(\"The final products present in the dataset are: {}\".format(prices.Product.unique()))"
   ]
  },
  {
   "cell_type": "markdown",
   "metadata": {},
   "source": [
    "We have finally build our **final prices dataset!**"
   ]
  },
  {
   "cell_type": "markdown",
   "metadata": {},
   "source": [
    "## 3) Filtering the food dataset  \n",
    "Now that we know the set of products between we can choose, it's time to filter the `USDA_food` accordingly"
   ]
  },
  {
   "cell_type": "code",
   "execution_count": 157,
   "metadata": {},
   "outputs": [],
   "source": [
    "# defining the set of foods between we can choose\n",
    "foods = prices.Product.unique()"
   ]
  },
  {
   "cell_type": "code",
   "execution_count": 158,
   "metadata": {},
   "outputs": [
    {
     "data": {
      "text/html": [
       "<div>\n",
       "<style scoped>\n",
       "    .dataframe tbody tr th:only-of-type {\n",
       "        vertical-align: middle;\n",
       "    }\n",
       "\n",
       "    .dataframe tbody tr th {\n",
       "        vertical-align: top;\n",
       "    }\n",
       "\n",
       "    .dataframe thead th {\n",
       "        text-align: right;\n",
       "    }\n",
       "</style>\n",
       "<table border=\"1\" class=\"dataframe\">\n",
       "  <thead>\n",
       "    <tr style=\"text-align: right;\">\n",
       "      <th></th>\n",
       "      <th>Food Group</th>\n",
       "      <th>Food Name</th>\n",
       "      <th>Protein (g)</th>\n",
       "      <th>Carbohydrates (g)</th>\n",
       "      <th>Fat (g)</th>\n",
       "    </tr>\n",
       "  </thead>\n",
       "  <tbody>\n",
       "    <tr>\n",
       "      <td>1</td>\n",
       "      <td>Poultry Products</td>\n",
       "      <td>Chicken, broilers or fryers, meat and skin and...</td>\n",
       "      <td>18.33</td>\n",
       "      <td>0.13</td>\n",
       "      <td>14.83</td>\n",
       "    </tr>\n",
       "    <tr>\n",
       "      <td>6</td>\n",
       "      <td>Poultry Products</td>\n",
       "      <td>Chicken, broilers or fryers, meat and skin, raw</td>\n",
       "      <td>18.60</td>\n",
       "      <td>0.00</td>\n",
       "      <td>15.06</td>\n",
       "    </tr>\n",
       "    <tr>\n",
       "      <td>11</td>\n",
       "      <td>Poultry Products</td>\n",
       "      <td>Chicken, broilers or fryers, meat only, raw</td>\n",
       "      <td>21.39</td>\n",
       "      <td>0.00</td>\n",
       "      <td>3.08</td>\n",
       "    </tr>\n",
       "    <tr>\n",
       "      <td>15</td>\n",
       "      <td>Poultry Products</td>\n",
       "      <td>Chicken, broilers or fryers, skin only, raw</td>\n",
       "      <td>13.33</td>\n",
       "      <td>0.00</td>\n",
       "      <td>32.35</td>\n",
       "    </tr>\n",
       "    <tr>\n",
       "      <td>20</td>\n",
       "      <td>Poultry Products</td>\n",
       "      <td>Chicken, broilers or fryers, giblets, raw</td>\n",
       "      <td>17.88</td>\n",
       "      <td>1.80</td>\n",
       "      <td>4.47</td>\n",
       "    </tr>\n",
       "    <tr>\n",
       "      <td>...</td>\n",
       "      <td>...</td>\n",
       "      <td>...</td>\n",
       "      <td>...</td>\n",
       "      <td>...</td>\n",
       "      <td>...</td>\n",
       "    </tr>\n",
       "    <tr>\n",
       "      <td>4052</td>\n",
       "      <td>Beef Products</td>\n",
       "      <td>Beef, ground, 95% lean meat / 5% fat, raw</td>\n",
       "      <td>21.41</td>\n",
       "      <td>0.00</td>\n",
       "      <td>5.00</td>\n",
       "    </tr>\n",
       "    <tr>\n",
       "      <td>4057</td>\n",
       "      <td>Beef Products</td>\n",
       "      <td>Beef, ground, 90% lean meat / 10% fat, raw</td>\n",
       "      <td>20.00</td>\n",
       "      <td>0.00</td>\n",
       "      <td>10.00</td>\n",
       "    </tr>\n",
       "    <tr>\n",
       "      <td>4062</td>\n",
       "      <td>Beef Products</td>\n",
       "      <td>Beef, ground, 85% lean meat / 15% fat, raw</td>\n",
       "      <td>18.59</td>\n",
       "      <td>0.00</td>\n",
       "      <td>15.00</td>\n",
       "    </tr>\n",
       "    <tr>\n",
       "      <td>4067</td>\n",
       "      <td>Beef Products</td>\n",
       "      <td>Beef, ground, 80% lean meat / 20% fat, raw</td>\n",
       "      <td>17.17</td>\n",
       "      <td>0.00</td>\n",
       "      <td>20.00</td>\n",
       "    </tr>\n",
       "    <tr>\n",
       "      <td>4072</td>\n",
       "      <td>Beef Products</td>\n",
       "      <td>Beef, ground, 75% lean meat / 25% fat, raw</td>\n",
       "      <td>15.76</td>\n",
       "      <td>0.00</td>\n",
       "      <td>25.00</td>\n",
       "    </tr>\n",
       "  </tbody>\n",
       "</table>\n",
       "<p>269 rows × 5 columns</p>\n",
       "</div>"
      ],
      "text/plain": [
       "            Food Group                                          Food Name  \\\n",
       "1     Poultry Products  Chicken, broilers or fryers, meat and skin and...   \n",
       "6     Poultry Products    Chicken, broilers or fryers, meat and skin, raw   \n",
       "11    Poultry Products        Chicken, broilers or fryers, meat only, raw   \n",
       "15    Poultry Products        Chicken, broilers or fryers, skin only, raw   \n",
       "20    Poultry Products          Chicken, broilers or fryers, giblets, raw   \n",
       "...                ...                                                ...   \n",
       "4052     Beef Products          Beef, ground, 95% lean meat / 5% fat, raw   \n",
       "4057     Beef Products         Beef, ground, 90% lean meat / 10% fat, raw   \n",
       "4062     Beef Products         Beef, ground, 85% lean meat / 15% fat, raw   \n",
       "4067     Beef Products         Beef, ground, 80% lean meat / 20% fat, raw   \n",
       "4072     Beef Products         Beef, ground, 75% lean meat / 25% fat, raw   \n",
       "\n",
       "      Protein (g)  Carbohydrates (g)  Fat (g)  \n",
       "1           18.33               0.13    14.83  \n",
       "6           18.60               0.00    15.06  \n",
       "11          21.39               0.00     3.08  \n",
       "15          13.33               0.00    32.35  \n",
       "20          17.88               1.80     4.47  \n",
       "...           ...                ...      ...  \n",
       "4052        21.41               0.00     5.00  \n",
       "4057        20.00               0.00    10.00  \n",
       "4062        18.59               0.00    15.00  \n",
       "4067        17.17               0.00    20.00  \n",
       "4072        15.76               0.00    25.00  \n",
       "\n",
       "[269 rows x 5 columns]"
      ]
     },
     "execution_count": 158,
     "metadata": {},
     "output_type": "execute_result"
    }
   ],
   "source": [
    "food_properties[food_properties[\"Food Name\"].str.contains('|'.join(foods), case=False)]"
   ]
  },
  {
   "cell_type": "markdown",
   "metadata": {},
   "source": [
    "209rows, but there are multiple matches. Let's look to the elements that don't have a match:"
   ]
  },
  {
   "cell_type": "code",
   "execution_count": 159,
   "metadata": {},
   "outputs": [],
   "source": [
    "# find the set of total foods and set to lower\n",
    "total_foods = food_properties[\"Food Name\"].unique()\n",
    "total_foods = [t.lower() for t in total_foods]\n",
    "\n",
    "# consider also foods to lower fo check the match\n",
    "foods = [f.lower()for f in foods]"
   ]
  },
  {
   "cell_type": "code",
   "execution_count": 160,
   "metadata": {},
   "outputs": [
    {
     "data": {
      "text/plain": [
       "9"
      ]
     },
     "execution_count": 160,
     "metadata": {},
     "output_type": "execute_result"
    }
   ],
   "source": [
    "# find set of not matching\n",
    "not_matching = [f for f in foods if not any(f in t for t in total_foods)]\n",
    "len(not_matching)"
   ]
  },
  {
   "cell_type": "code",
   "execution_count": 161,
   "metadata": {},
   "outputs": [
    {
     "data": {
      "text/plain": [
       "['cauliflowers',\n",
       " 'cucumbers',\n",
       " 'feed barley',\n",
       " 'feed maize',\n",
       " 'lettuces',\n",
       " 'malting barley',\n",
       " 'oats',\n",
       " 'raw milk',\n",
       " 'wheat']"
      ]
     },
     "execution_count": 161,
     "metadata": {},
     "output_type": "execute_result"
    }
   ],
   "source": [
    "not_matching"
   ]
  },
  {
   "cell_type": "markdown",
   "metadata": {},
   "source": [
    "We can try to divide the multiple words, also remove duplicates after that"
   ]
  },
  {
   "cell_type": "code",
   "execution_count": 162,
   "metadata": {},
   "outputs": [],
   "source": [
    "foods = [f.replace(\",\",\"\").replace(\"(\", \"\").replace(\")\", \"\").split() for f in foods]\n",
    "foods = [l for sublist in foods for l in sublist]\n",
    "foods = list(set(foods))"
   ]
  },
  {
   "cell_type": "markdown",
   "metadata": {},
   "source": [
    "Second step is removing all generated stopwords and add singulars"
   ]
  },
  {
   "cell_type": "code",
   "execution_count": 163,
   "metadata": {},
   "outputs": [],
   "source": [
    "stop_words = stopwords.words('english')\n",
    "stop_words += [\"feed\", \"raw\"]\n",
    "foods = [f for f in foods if f not in stop_words]\n",
    "lem = WordNetLemmatizer()\n",
    "singular = [lem.lemmatize(f) for f in foods]\n",
    "foods += singular\n",
    "foods = list(set(foods))\n",
    "foods = [f for f in foods if f not in stop_words]"
   ]
  },
  {
   "cell_type": "code",
   "execution_count": 164,
   "metadata": {},
   "outputs": [
    {
     "data": {
      "text/plain": [
       "['lettuces',\n",
       " 'potatoes',\n",
       " 'pea',\n",
       " 'strawberries',\n",
       " 'cherries',\n",
       " 'barley',\n",
       " 'potato',\n",
       " 'bread',\n",
       " 'cauliflower',\n",
       " 'carrots',\n",
       " 'cucumber',\n",
       " 'cherry',\n",
       " 'oats',\n",
       " 'beans',\n",
       " 'cauliflowers',\n",
       " 'peas',\n",
       " 'bean',\n",
       " 'apple',\n",
       " 'cucumbers',\n",
       " 'strawberry',\n",
       " 'tomato',\n",
       " 'carrot',\n",
       " 'lettuce',\n",
       " 'malting',\n",
       " 'milk',\n",
       " 'rice',\n",
       " 'maize',\n",
       " 'meat',\n",
       " 'oat',\n",
       " 'tomatoes',\n",
       " 'apples',\n",
       " 'wheat',\n",
       " 'chicken']"
      ]
     },
     "execution_count": 164,
     "metadata": {},
     "output_type": "execute_result"
    }
   ],
   "source": [
    "# printing the set of food\n",
    "foods"
   ]
  },
  {
   "cell_type": "markdown",
   "metadata": {},
   "source": [
    "It's possible to notice that _\"meat\"_ is too much generic for our purpose, as we considered cow or beef in analyzing the prices. For this reason, we remove meat and add \"cow\" and \"beef\""
   ]
  },
  {
   "cell_type": "code",
   "execution_count": 165,
   "metadata": {},
   "outputs": [],
   "source": [
    "foods = [f for f in foods if f!=\"meat\"]\n",
    "foods += [\"beef\", \"cow\"]"
   ]
  },
  {
   "cell_type": "markdown",
   "metadata": {},
   "source": [
    "New matching check:"
   ]
  },
  {
   "cell_type": "code",
   "execution_count": 166,
   "metadata": {},
   "outputs": [
    {
     "data": {
      "text/html": [
       "<div>\n",
       "<style scoped>\n",
       "    .dataframe tbody tr th:only-of-type {\n",
       "        vertical-align: middle;\n",
       "    }\n",
       "\n",
       "    .dataframe tbody tr th {\n",
       "        vertical-align: top;\n",
       "    }\n",
       "\n",
       "    .dataframe thead th {\n",
       "        text-align: right;\n",
       "    }\n",
       "</style>\n",
       "<table border=\"1\" class=\"dataframe\">\n",
       "  <thead>\n",
       "    <tr style=\"text-align: right;\">\n",
       "      <th></th>\n",
       "      <th>Food Group</th>\n",
       "      <th>Food Name</th>\n",
       "      <th>Protein (g)</th>\n",
       "      <th>Carbohydrates (g)</th>\n",
       "      <th>Fat (g)</th>\n",
       "    </tr>\n",
       "  </thead>\n",
       "  <tbody>\n",
       "    <tr>\n",
       "      <td>1</td>\n",
       "      <td>Poultry Products</td>\n",
       "      <td>Chicken, broilers or fryers, meat and skin and...</td>\n",
       "      <td>18.33</td>\n",
       "      <td>0.13</td>\n",
       "      <td>14.83</td>\n",
       "    </tr>\n",
       "    <tr>\n",
       "      <td>6</td>\n",
       "      <td>Poultry Products</td>\n",
       "      <td>Chicken, broilers or fryers, meat and skin, raw</td>\n",
       "      <td>18.60</td>\n",
       "      <td>0.00</td>\n",
       "      <td>15.06</td>\n",
       "    </tr>\n",
       "    <tr>\n",
       "      <td>11</td>\n",
       "      <td>Poultry Products</td>\n",
       "      <td>Chicken, broilers or fryers, meat only, raw</td>\n",
       "      <td>21.39</td>\n",
       "      <td>0.00</td>\n",
       "      <td>3.08</td>\n",
       "    </tr>\n",
       "    <tr>\n",
       "      <td>15</td>\n",
       "      <td>Poultry Products</td>\n",
       "      <td>Chicken, broilers or fryers, skin only, raw</td>\n",
       "      <td>13.33</td>\n",
       "      <td>0.00</td>\n",
       "      <td>32.35</td>\n",
       "    </tr>\n",
       "    <tr>\n",
       "      <td>20</td>\n",
       "      <td>Poultry Products</td>\n",
       "      <td>Chicken, broilers or fryers, giblets, raw</td>\n",
       "      <td>17.88</td>\n",
       "      <td>1.80</td>\n",
       "      <td>4.47</td>\n",
       "    </tr>\n",
       "    <tr>\n",
       "      <td>...</td>\n",
       "      <td>...</td>\n",
       "      <td>...</td>\n",
       "      <td>...</td>\n",
       "      <td>...</td>\n",
       "      <td>...</td>\n",
       "    </tr>\n",
       "    <tr>\n",
       "      <td>4142</td>\n",
       "      <td>Beef Products</td>\n",
       "      <td>Beef, round, tip round, roast, separable lean ...</td>\n",
       "      <td>21.38</td>\n",
       "      <td>0.00</td>\n",
       "      <td>3.35</td>\n",
       "    </tr>\n",
       "    <tr>\n",
       "      <td>4145</td>\n",
       "      <td>Beef Products</td>\n",
       "      <td>Beef, flank, steak, separable lean only, trimm...</td>\n",
       "      <td>21.57</td>\n",
       "      <td>0.00</td>\n",
       "      <td>5.47</td>\n",
       "    </tr>\n",
       "    <tr>\n",
       "      <td>4146</td>\n",
       "      <td>Beef Products</td>\n",
       "      <td>Beef, flank, steak, separable lean only, trimm...</td>\n",
       "      <td>21.43</td>\n",
       "      <td>0.00</td>\n",
       "      <td>5.00</td>\n",
       "    </tr>\n",
       "    <tr>\n",
       "      <td>4147</td>\n",
       "      <td>Beef Products</td>\n",
       "      <td>Beef, brisket, flat half, separable lean and f...</td>\n",
       "      <td>18.12</td>\n",
       "      <td>0.12</td>\n",
       "      <td>22.15</td>\n",
       "    </tr>\n",
       "    <tr>\n",
       "      <td>4148</td>\n",
       "      <td>Beef Products</td>\n",
       "      <td>Beef, brisket, flat half, separable lean and f...</td>\n",
       "      <td>17.77</td>\n",
       "      <td>0.00</td>\n",
       "      <td>22.21</td>\n",
       "    </tr>\n",
       "  </tbody>\n",
       "</table>\n",
       "<p>602 rows × 5 columns</p>\n",
       "</div>"
      ],
      "text/plain": [
       "            Food Group                                          Food Name  \\\n",
       "1     Poultry Products  Chicken, broilers or fryers, meat and skin and...   \n",
       "6     Poultry Products    Chicken, broilers or fryers, meat and skin, raw   \n",
       "11    Poultry Products        Chicken, broilers or fryers, meat only, raw   \n",
       "15    Poultry Products        Chicken, broilers or fryers, skin only, raw   \n",
       "20    Poultry Products          Chicken, broilers or fryers, giblets, raw   \n",
       "...                ...                                                ...   \n",
       "4142     Beef Products  Beef, round, tip round, roast, separable lean ...   \n",
       "4145     Beef Products  Beef, flank, steak, separable lean only, trimm...   \n",
       "4146     Beef Products  Beef, flank, steak, separable lean only, trimm...   \n",
       "4147     Beef Products  Beef, brisket, flat half, separable lean and f...   \n",
       "4148     Beef Products  Beef, brisket, flat half, separable lean and f...   \n",
       "\n",
       "      Protein (g)  Carbohydrates (g)  Fat (g)  \n",
       "1           18.33               0.13    14.83  \n",
       "6           18.60               0.00    15.06  \n",
       "11          21.39               0.00     3.08  \n",
       "15          13.33               0.00    32.35  \n",
       "20          17.88               1.80     4.47  \n",
       "...           ...                ...      ...  \n",
       "4142        21.38               0.00     3.35  \n",
       "4145        21.57               0.00     5.47  \n",
       "4146        21.43               0.00     5.00  \n",
       "4147        18.12               0.12    22.15  \n",
       "4148        17.77               0.00    22.21  \n",
       "\n",
       "[602 rows x 5 columns]"
      ]
     },
     "execution_count": 166,
     "metadata": {},
     "output_type": "execute_result"
    }
   ],
   "source": [
    "food_properties[food_properties[\"Food Name\"].str.contains('|'.join(foods), case=False)]"
   ]
  },
  {
   "cell_type": "markdown",
   "metadata": {},
   "source": [
    "We have a good set of products now, so we can stop here for the next considerations"
   ]
  },
  {
   "cell_type": "code",
   "execution_count": 167,
   "metadata": {},
   "outputs": [],
   "source": [
    "poss_diet = food_properties[food_properties[\"Food Name\"].str.contains('|'.join(foods), case=False)]"
   ]
  },
  {
   "cell_type": "markdown",
   "metadata": {},
   "source": [
    "Check of our residue groups:"
   ]
  },
  {
   "cell_type": "code",
   "execution_count": 168,
   "metadata": {},
   "outputs": [
    {
     "data": {
      "text/plain": [
       "array(['Poultry Products', 'Fruits and Fruit Juices',\n",
       "       'Vegetables and Vegetable Products', 'Beef Products',\n",
       "       'Finfish and Shellfish Products', 'Legumes and Legume Products',\n",
       "       'Lamb, Veal, and Game Products', 'Cereal Grains and Pasta'],\n",
       "      dtype=object)"
      ]
     },
     "execution_count": 168,
     "metadata": {},
     "output_type": "execute_result"
    }
   ],
   "source": [
    "poss_diet[\"Food Group\"].unique()"
   ]
  },
  {
   "cell_type": "markdown",
   "metadata": {},
   "source": [
    "Fish products seems a bit strange for what we analyzed so far, check on it:"
   ]
  },
  {
   "cell_type": "code",
   "execution_count": 169,
   "metadata": {},
   "outputs": [
    {
     "data": {
      "text/html": [
       "<div>\n",
       "<style scoped>\n",
       "    .dataframe tbody tr th:only-of-type {\n",
       "        vertical-align: middle;\n",
       "    }\n",
       "\n",
       "    .dataframe tbody tr th {\n",
       "        vertical-align: top;\n",
       "    }\n",
       "\n",
       "    .dataframe thead th {\n",
       "        text-align: right;\n",
       "    }\n",
       "</style>\n",
       "<table border=\"1\" class=\"dataframe\">\n",
       "  <thead>\n",
       "    <tr style=\"text-align: right;\">\n",
       "      <th></th>\n",
       "      <th>Food Group</th>\n",
       "      <th>Food Name</th>\n",
       "      <th>Protein (g)</th>\n",
       "      <th>Carbohydrates (g)</th>\n",
       "      <th>Fat (g)</th>\n",
       "    </tr>\n",
       "  </thead>\n",
       "  <tbody>\n",
       "    <tr>\n",
       "      <td>2312</td>\n",
       "      <td>Finfish and Shellfish Products</td>\n",
       "      <td>Fish, anchovy, european, raw</td>\n",
       "      <td>20.35</td>\n",
       "      <td>0.0</td>\n",
       "      <td>4.84</td>\n",
       "    </tr>\n",
       "    <tr>\n",
       "      <td>2364</td>\n",
       "      <td>Finfish and Shellfish Products</td>\n",
       "      <td>Fish, milkfish, raw</td>\n",
       "      <td>20.53</td>\n",
       "      <td>0.0</td>\n",
       "      <td>6.73</td>\n",
       "    </tr>\n",
       "    <tr>\n",
       "      <td>2437</td>\n",
       "      <td>Finfish and Shellfish Products</td>\n",
       "      <td>Fish, turbot, european, raw</td>\n",
       "      <td>16.05</td>\n",
       "      <td>0.0</td>\n",
       "      <td>2.95</td>\n",
       "    </tr>\n",
       "  </tbody>\n",
       "</table>\n",
       "</div>"
      ],
      "text/plain": [
       "                          Food Group                     Food Name  \\\n",
       "2312  Finfish and Shellfish Products  Fish, anchovy, european, raw   \n",
       "2364  Finfish and Shellfish Products           Fish, milkfish, raw   \n",
       "2437  Finfish and Shellfish Products   Fish, turbot, european, raw   \n",
       "\n",
       "      Protein (g)  Carbohydrates (g)  Fat (g)  \n",
       "2312        20.35                0.0     4.84  \n",
       "2364        20.53                0.0     6.73  \n",
       "2437        16.05                0.0     2.95  "
      ]
     },
     "execution_count": 169,
     "metadata": {},
     "output_type": "execute_result"
    }
   ],
   "source": [
    "poss_diet[poss_diet[\"Food Group\"] == \"Finfish and Shellfish Products\"]"
   ]
  },
  {
   "cell_type": "markdown",
   "metadata": {},
   "source": [
    "Finfish and Shellfish Products is not really represented by our prices database, so we drop the category"
   ]
  },
  {
   "cell_type": "code",
   "execution_count": 170,
   "metadata": {},
   "outputs": [],
   "source": [
    "poss_diet = poss_diet[~poss_diet[\"Food Group\"].isin([\"Finfish and Shellfish Products\"])].reset_index(drop=True)"
   ]
  },
  {
   "cell_type": "markdown",
   "metadata": {},
   "source": [
    "Let's now adjust the units. The grams of proteins in 100g serve **[grams of proteins/100g]** times the kcalalories in 1 gram of proteins **[kcal/g of proteins]** will result in the kilocalories obtained from proteins for 100g serve **[kcal/100g]**. Same argument che be extended to carbohydrates and fat.  <br /> According to the [National Agriculture Library](https://www.nal.usda.gov/fnic/how-many-calories-are-one-gram-fat-carbohydrate-or-protein):\n",
    " - 1 gram of protein corresponds to **4 kcal**\n",
    " - 1 gram of carbohydrates corresponds to **4 kcal**\n",
    " - 1 gram of fat corresponds to **9 kcal**\n",
    "\n",
    "According to what has been said above, we will multiply the values and obtain a new dataframe `diet_kcal` in which values have units of **[kcal/100g]**"
   ]
  },
  {
   "cell_type": "code",
   "execution_count": 171,
   "metadata": {},
   "outputs": [
    {
     "data": {
      "text/html": [
       "<div>\n",
       "<style scoped>\n",
       "    .dataframe tbody tr th:only-of-type {\n",
       "        vertical-align: middle;\n",
       "    }\n",
       "\n",
       "    .dataframe tbody tr th {\n",
       "        vertical-align: top;\n",
       "    }\n",
       "\n",
       "    .dataframe thead th {\n",
       "        text-align: right;\n",
       "    }\n",
       "</style>\n",
       "<table border=\"1\" class=\"dataframe\">\n",
       "  <thead>\n",
       "    <tr style=\"text-align: right;\">\n",
       "      <th></th>\n",
       "      <th>Food Group</th>\n",
       "      <th>Food Name</th>\n",
       "      <th>Protein (kcal/100g)</th>\n",
       "      <th>Carbohydrates (kcal/100g)</th>\n",
       "      <th>Fat (kcal/100g)</th>\n",
       "    </tr>\n",
       "  </thead>\n",
       "  <tbody>\n",
       "    <tr>\n",
       "      <td>0</td>\n",
       "      <td>Poultry Products</td>\n",
       "      <td>Chicken, broilers or fryers, meat and skin and...</td>\n",
       "      <td>73.32</td>\n",
       "      <td>0.52</td>\n",
       "      <td>133.47</td>\n",
       "    </tr>\n",
       "    <tr>\n",
       "      <td>1</td>\n",
       "      <td>Poultry Products</td>\n",
       "      <td>Chicken, broilers or fryers, meat and skin, raw</td>\n",
       "      <td>74.40</td>\n",
       "      <td>0.00</td>\n",
       "      <td>135.54</td>\n",
       "    </tr>\n",
       "    <tr>\n",
       "      <td>2</td>\n",
       "      <td>Poultry Products</td>\n",
       "      <td>Chicken, broilers or fryers, meat only, raw</td>\n",
       "      <td>85.56</td>\n",
       "      <td>0.00</td>\n",
       "      <td>27.72</td>\n",
       "    </tr>\n",
       "    <tr>\n",
       "      <td>3</td>\n",
       "      <td>Poultry Products</td>\n",
       "      <td>Chicken, broilers or fryers, skin only, raw</td>\n",
       "      <td>53.32</td>\n",
       "      <td>0.00</td>\n",
       "      <td>291.15</td>\n",
       "    </tr>\n",
       "    <tr>\n",
       "      <td>4</td>\n",
       "      <td>Poultry Products</td>\n",
       "      <td>Chicken, broilers or fryers, giblets, raw</td>\n",
       "      <td>71.52</td>\n",
       "      <td>7.20</td>\n",
       "      <td>40.23</td>\n",
       "    </tr>\n",
       "  </tbody>\n",
       "</table>\n",
       "</div>"
      ],
      "text/plain": [
       "         Food Group                                          Food Name  \\\n",
       "0  Poultry Products  Chicken, broilers or fryers, meat and skin and...   \n",
       "1  Poultry Products    Chicken, broilers or fryers, meat and skin, raw   \n",
       "2  Poultry Products        Chicken, broilers or fryers, meat only, raw   \n",
       "3  Poultry Products        Chicken, broilers or fryers, skin only, raw   \n",
       "4  Poultry Products          Chicken, broilers or fryers, giblets, raw   \n",
       "\n",
       "   Protein (kcal/100g)  Carbohydrates (kcal/100g)  Fat (kcal/100g)  \n",
       "0                73.32                       0.52           133.47  \n",
       "1                74.40                       0.00           135.54  \n",
       "2                85.56                       0.00            27.72  \n",
       "3                53.32                       0.00           291.15  \n",
       "4                71.52                       7.20            40.23  "
      ]
     },
     "execution_count": 171,
     "metadata": {},
     "output_type": "execute_result"
    }
   ],
   "source": [
    "#multiply values with vector of kcal/g, merging to keep Food \n",
    "kcal_g = np.array([4,4,9])\n",
    "diet_kcal = poss_diet[[\"Food Group\", \"Food Name\"]].merge(poss_diet[poss_diet.columns[2:]].multiply(kcal_g),left_index=True, right_index=True)\n",
    "diet_kcal.rename(columns={'Protein (g)':'Protein (kcal/100g)',\n",
    "                          'Carbohydrates (g)':'Carbohydrates (kcal/100g)',\n",
    "                          'Fat (g)':'Fat (kcal/100g)'}, \n",
    "                 inplace=True)\n",
    "diet_kcal.head()"
   ]
  },
  {
   "cell_type": "markdown",
   "metadata": {},
   "source": [
    "The next point we are going to do now is trying to give a rank to each product taking into account the necessity that each person, in their diet, should have their calories coming (**REFERENCE**): \n",
    "* 55% from proteins\n",
    "* 25% from carbohydrates \n",
    "* 20% from fats.\n",
    "In order to do so, we apply a greedy ranking based on how much a particular food is far from respecting this division."
   ]
  },
  {
   "cell_type": "code",
   "execution_count": 172,
   "metadata": {},
   "outputs": [],
   "source": [
    "def rank_food(food):\n",
    "    prot = food['Protein (kcal/100g)']\n",
    "    carb = food['Carbohydrates (kcal/100g)']\n",
    "    fat = food['Fat (kcal/100g)']\n",
    "    \n",
    "    if (prot == 0 and carb == 0 and fat == 0):\n",
    "        return -1\n",
    "    \n",
    "    tot = prot + carb + fat\n",
    "    \n",
    "    err_prot = abs(tot*0.55/4 - prot) / 100\n",
    "    err_carb = abs(tot*0.25/4 - carb) / 100\n",
    "    err_fat = abs(tot*0.20/9 - fat) / 100\n",
    "    \n",
    "    avg_err = (err_prot + err_carb + err_fat)/3\n",
    "    \n",
    "    return avg_err"
   ]
  },
  {
   "cell_type": "code",
   "execution_count": 173,
   "metadata": {},
   "outputs": [],
   "source": [
    "diet_kcal['rank'] = diet_kcal.apply(rank_food, axis=1)"
   ]
  },
  {
   "cell_type": "markdown",
   "metadata": {},
   "source": [
    "In the next step we take the best **3** out of each group (because there may be incostintecies in the results due to the filtering process).  \n",
    "From these, we then choose our **representative for each group**. We will use this to compute the final diet in the next and final step."
   ]
  },
  {
   "cell_type": "code",
   "execution_count": 174,
   "metadata": {},
   "outputs": [
    {
     "data": {
      "text/html": [
       "<div>\n",
       "<style scoped>\n",
       "    .dataframe tbody tr th:only-of-type {\n",
       "        vertical-align: middle;\n",
       "    }\n",
       "\n",
       "    .dataframe tbody tr th {\n",
       "        vertical-align: top;\n",
       "    }\n",
       "\n",
       "    .dataframe thead th {\n",
       "        text-align: right;\n",
       "    }\n",
       "</style>\n",
       "<table border=\"1\" class=\"dataframe\">\n",
       "  <thead>\n",
       "    <tr style=\"text-align: right;\">\n",
       "      <th></th>\n",
       "      <th>Food Group</th>\n",
       "      <th>Food Name</th>\n",
       "      <th>Protein (kcal/100g)</th>\n",
       "      <th>Carbohydrates (kcal/100g)</th>\n",
       "      <th>Fat (kcal/100g)</th>\n",
       "      <th>rank</th>\n",
       "    </tr>\n",
       "  </thead>\n",
       "  <tbody>\n",
       "    <tr>\n",
       "      <td>0</td>\n",
       "      <td>Beef Products</td>\n",
       "      <td>Beef, New Zealand, imported, variety meats and...</td>\n",
       "      <td>59.44</td>\n",
       "      <td>0.00</td>\n",
       "      <td>17.82</td>\n",
       "      <td>0.232495</td>\n",
       "    </tr>\n",
       "    <tr>\n",
       "      <td>1</td>\n",
       "      <td>Beef Products</td>\n",
       "      <td>Beef, variety meats and by-products, tripe, raw</td>\n",
       "      <td>48.28</td>\n",
       "      <td>0.00</td>\n",
       "      <td>33.21</td>\n",
       "      <td>0.245225</td>\n",
       "    </tr>\n",
       "    <tr>\n",
       "      <td>2</td>\n",
       "      <td>Beef Products</td>\n",
       "      <td>Beef, New Zealand, imported, variety meats and...</td>\n",
       "      <td>62.72</td>\n",
       "      <td>0.00</td>\n",
       "      <td>23.76</td>\n",
       "      <td>0.260241</td>\n",
       "    </tr>\n",
       "    <tr>\n",
       "      <td>3</td>\n",
       "      <td>Cereal Grains and Pasta</td>\n",
       "      <td>Wild rice, raw</td>\n",
       "      <td>58.92</td>\n",
       "      <td>299.60</td>\n",
       "      <td>9.72</td>\n",
       "      <td>0.954696</td>\n",
       "    </tr>\n",
       "    <tr>\n",
       "      <td>4</td>\n",
       "      <td>Cereal Grains and Pasta</td>\n",
       "      <td>Barley, pearled, raw</td>\n",
       "      <td>39.64</td>\n",
       "      <td>310.88</td>\n",
       "      <td>10.44</td>\n",
       "      <td>1.002436</td>\n",
       "    </tr>\n",
       "    <tr>\n",
       "      <td>5</td>\n",
       "      <td>Cereal Grains and Pasta</td>\n",
       "      <td>Oat bran, raw</td>\n",
       "      <td>69.20</td>\n",
       "      <td>264.88</td>\n",
       "      <td>63.27</td>\n",
       "      <td>1.030167</td>\n",
       "    </tr>\n",
       "    <tr>\n",
       "      <td>6</td>\n",
       "      <td>Fruits and Fruit Juices</td>\n",
       "      <td>Rose-apples, raw</td>\n",
       "      <td>2.40</td>\n",
       "      <td>22.80</td>\n",
       "      <td>2.70</td>\n",
       "      <td>0.081908</td>\n",
       "    </tr>\n",
       "    <tr>\n",
       "      <td>7</td>\n",
       "      <td>Fruits and Fruit Juices</td>\n",
       "      <td>Pitanga, (surinam-cherry), raw</td>\n",
       "      <td>3.20</td>\n",
       "      <td>29.96</td>\n",
       "      <td>3.60</td>\n",
       "      <td>0.107667</td>\n",
       "    </tr>\n",
       "    <tr>\n",
       "      <td>8</td>\n",
       "      <td>Fruits and Fruit Juices</td>\n",
       "      <td>Strawberries, raw</td>\n",
       "      <td>2.68</td>\n",
       "      <td>30.72</td>\n",
       "      <td>2.70</td>\n",
       "      <td>0.108818</td>\n",
       "    </tr>\n",
       "    <tr>\n",
       "      <td>9</td>\n",
       "      <td>Lamb, Veal, and Game Products</td>\n",
       "      <td>Lamb, New Zealand, imported, sweetbread, raw</td>\n",
       "      <td>44.00</td>\n",
       "      <td>0.00</td>\n",
       "      <td>28.44</td>\n",
       "      <td>0.217991</td>\n",
       "    </tr>\n",
       "    <tr>\n",
       "      <td>10</td>\n",
       "      <td>Lamb, Veal, and Game Products</td>\n",
       "      <td>Goat, raw</td>\n",
       "      <td>82.40</td>\n",
       "      <td>0.00</td>\n",
       "      <td>20.79</td>\n",
       "      <td>0.310525</td>\n",
       "    </tr>\n",
       "    <tr>\n",
       "      <td>11</td>\n",
       "      <td>Lamb, Veal, and Game Products</td>\n",
       "      <td>Game meat, beefalo, composite of cuts, raw</td>\n",
       "      <td>93.20</td>\n",
       "      <td>0.00</td>\n",
       "      <td>43.20</td>\n",
       "      <td>0.410463</td>\n",
       "    </tr>\n",
       "    <tr>\n",
       "      <td>12</td>\n",
       "      <td>Legumes and Legume Products</td>\n",
       "      <td>SILK Banana-Strawberry soy yogurt</td>\n",
       "      <td>9.40</td>\n",
       "      <td>68.24</td>\n",
       "      <td>10.62</td>\n",
       "      <td>0.247061</td>\n",
       "    </tr>\n",
       "    <tr>\n",
       "      <td>13</td>\n",
       "      <td>Legumes and Legume Products</td>\n",
       "      <td>SILK Strawberry soy yogurt</td>\n",
       "      <td>9.40</td>\n",
       "      <td>72.96</td>\n",
       "      <td>10.62</td>\n",
       "      <td>0.263624</td>\n",
       "    </tr>\n",
       "    <tr>\n",
       "      <td>14</td>\n",
       "      <td>Legumes and Legume Products</td>\n",
       "      <td>Beans, kidney, all types, mature seeds, raw</td>\n",
       "      <td>94.32</td>\n",
       "      <td>240.04</td>\n",
       "      <td>7.47</td>\n",
       "      <td>0.887067</td>\n",
       "    </tr>\n",
       "    <tr>\n",
       "      <td>15</td>\n",
       "      <td>Poultry Products</td>\n",
       "      <td>Chicken, gizzard, all classes, raw</td>\n",
       "      <td>70.64</td>\n",
       "      <td>0.00</td>\n",
       "      <td>18.54</td>\n",
       "      <td>0.268366</td>\n",
       "    </tr>\n",
       "    <tr>\n",
       "      <td>16</td>\n",
       "      <td>Poultry Products</td>\n",
       "      <td>Chicken, broilers or fryers, giblets, raw</td>\n",
       "      <td>71.52</td>\n",
       "      <td>7.20</td>\n",
       "      <td>40.23</td>\n",
       "      <td>0.309951</td>\n",
       "    </tr>\n",
       "    <tr>\n",
       "      <td>17</td>\n",
       "      <td>Poultry Products</td>\n",
       "      <td>Chicken, roasting, light meat, meat only, raw</td>\n",
       "      <td>88.80</td>\n",
       "      <td>0.00</td>\n",
       "      <td>14.67</td>\n",
       "      <td>0.311368</td>\n",
       "    </tr>\n",
       "    <tr>\n",
       "      <td>18</td>\n",
       "      <td>Vegetables and Vegetable Products</td>\n",
       "      <td>Cucumber, peeled, raw</td>\n",
       "      <td>2.36</td>\n",
       "      <td>8.64</td>\n",
       "      <td>1.44</td>\n",
       "      <td>0.032252</td>\n",
       "    </tr>\n",
       "    <tr>\n",
       "      <td>19</td>\n",
       "      <td>Vegetables and Vegetable Products</td>\n",
       "      <td>Lettuce, butterhead (includes boston and bibb ...</td>\n",
       "      <td>5.40</td>\n",
       "      <td>8.92</td>\n",
       "      <td>1.98</td>\n",
       "      <td>0.042259</td>\n",
       "    </tr>\n",
       "    <tr>\n",
       "      <td>20</td>\n",
       "      <td>Vegetables and Vegetable Products</td>\n",
       "      <td>Lettuce, red leaf, raw</td>\n",
       "      <td>5.32</td>\n",
       "      <td>9.04</td>\n",
       "      <td>1.98</td>\n",
       "      <td>0.042363</td>\n",
       "    </tr>\n",
       "  </tbody>\n",
       "</table>\n",
       "</div>"
      ],
      "text/plain": [
       "                           Food Group  \\\n",
       "0                       Beef Products   \n",
       "1                       Beef Products   \n",
       "2                       Beef Products   \n",
       "3             Cereal Grains and Pasta   \n",
       "4             Cereal Grains and Pasta   \n",
       "5             Cereal Grains and Pasta   \n",
       "6             Fruits and Fruit Juices   \n",
       "7             Fruits and Fruit Juices   \n",
       "8             Fruits and Fruit Juices   \n",
       "9       Lamb, Veal, and Game Products   \n",
       "10      Lamb, Veal, and Game Products   \n",
       "11      Lamb, Veal, and Game Products   \n",
       "12        Legumes and Legume Products   \n",
       "13        Legumes and Legume Products   \n",
       "14        Legumes and Legume Products   \n",
       "15                   Poultry Products   \n",
       "16                   Poultry Products   \n",
       "17                   Poultry Products   \n",
       "18  Vegetables and Vegetable Products   \n",
       "19  Vegetables and Vegetable Products   \n",
       "20  Vegetables and Vegetable Products   \n",
       "\n",
       "                                            Food Name  Protein (kcal/100g)  \\\n",
       "0   Beef, New Zealand, imported, variety meats and...                59.44   \n",
       "1     Beef, variety meats and by-products, tripe, raw                48.28   \n",
       "2   Beef, New Zealand, imported, variety meats and...                62.72   \n",
       "3                                      Wild rice, raw                58.92   \n",
       "4                                Barley, pearled, raw                39.64   \n",
       "5                                       Oat bran, raw                69.20   \n",
       "6                                    Rose-apples, raw                 2.40   \n",
       "7                      Pitanga, (surinam-cherry), raw                 3.20   \n",
       "8                                   Strawberries, raw                 2.68   \n",
       "9        Lamb, New Zealand, imported, sweetbread, raw                44.00   \n",
       "10                                          Goat, raw                82.40   \n",
       "11         Game meat, beefalo, composite of cuts, raw                93.20   \n",
       "12                  SILK Banana-Strawberry soy yogurt                 9.40   \n",
       "13                         SILK Strawberry soy yogurt                 9.40   \n",
       "14        Beans, kidney, all types, mature seeds, raw                94.32   \n",
       "15                 Chicken, gizzard, all classes, raw                70.64   \n",
       "16          Chicken, broilers or fryers, giblets, raw                71.52   \n",
       "17      Chicken, roasting, light meat, meat only, raw                88.80   \n",
       "18                              Cucumber, peeled, raw                 2.36   \n",
       "19  Lettuce, butterhead (includes boston and bibb ...                 5.40   \n",
       "20                             Lettuce, red leaf, raw                 5.32   \n",
       "\n",
       "    Carbohydrates (kcal/100g)  Fat (kcal/100g)      rank  \n",
       "0                        0.00            17.82  0.232495  \n",
       "1                        0.00            33.21  0.245225  \n",
       "2                        0.00            23.76  0.260241  \n",
       "3                      299.60             9.72  0.954696  \n",
       "4                      310.88            10.44  1.002436  \n",
       "5                      264.88            63.27  1.030167  \n",
       "6                       22.80             2.70  0.081908  \n",
       "7                       29.96             3.60  0.107667  \n",
       "8                       30.72             2.70  0.108818  \n",
       "9                        0.00            28.44  0.217991  \n",
       "10                       0.00            20.79  0.310525  \n",
       "11                       0.00            43.20  0.410463  \n",
       "12                      68.24            10.62  0.247061  \n",
       "13                      72.96            10.62  0.263624  \n",
       "14                     240.04             7.47  0.887067  \n",
       "15                       0.00            18.54  0.268366  \n",
       "16                       7.20            40.23  0.309951  \n",
       "17                       0.00            14.67  0.311368  \n",
       "18                       8.64             1.44  0.032252  \n",
       "19                       8.92             1.98  0.042259  \n",
       "20                       9.04             1.98  0.042363  "
      ]
     },
     "execution_count": 174,
     "metadata": {},
     "output_type": "execute_result"
    }
   ],
   "source": [
    "diet_kcal.groupby([\"Food Group\"]).apply(lambda x: x.sort_values(['rank'])\\\n",
    "                                 .reset_index(drop=True).groupby(\"Food Group\").head(3)).reset_index(drop=True)"
   ]
  },
  {
   "cell_type": "markdown",
   "metadata": {},
   "source": [
    "Let's further analyze this results.  \n",
    "We can start from the category that is less represented (2 results instead of 3): **Lamb, Veal, and Game Products**"
   ]
  },
  {
   "cell_type": "code",
   "execution_count": 175,
   "metadata": {},
   "outputs": [
    {
     "data": {
      "text/html": [
       "<div>\n",
       "<style scoped>\n",
       "    .dataframe tbody tr th:only-of-type {\n",
       "        vertical-align: middle;\n",
       "    }\n",
       "\n",
       "    .dataframe tbody tr th {\n",
       "        vertical-align: top;\n",
       "    }\n",
       "\n",
       "    .dataframe thead th {\n",
       "        text-align: right;\n",
       "    }\n",
       "</style>\n",
       "<table border=\"1\" class=\"dataframe\">\n",
       "  <thead>\n",
       "    <tr style=\"text-align: right;\">\n",
       "      <th></th>\n",
       "      <th>Food Group</th>\n",
       "      <th>Food Name</th>\n",
       "      <th>Protein (kcal/100g)</th>\n",
       "      <th>Carbohydrates (kcal/100g)</th>\n",
       "      <th>Fat (kcal/100g)</th>\n",
       "      <th>rank</th>\n",
       "    </tr>\n",
       "  </thead>\n",
       "  <tbody>\n",
       "    <tr>\n",
       "      <td>298</td>\n",
       "      <td>Lamb, Veal, and Game Products</td>\n",
       "      <td>Game meat, beefalo, composite of cuts, raw</td>\n",
       "      <td>93.2</td>\n",
       "      <td>0.0</td>\n",
       "      <td>43.20</td>\n",
       "      <td>0.410463</td>\n",
       "    </tr>\n",
       "    <tr>\n",
       "      <td>299</td>\n",
       "      <td>Lamb, Veal, and Game Products</td>\n",
       "      <td>Goat, raw</td>\n",
       "      <td>82.4</td>\n",
       "      <td>0.0</td>\n",
       "      <td>20.79</td>\n",
       "      <td>0.310525</td>\n",
       "    </tr>\n",
       "    <tr>\n",
       "      <td>300</td>\n",
       "      <td>Lamb, Veal, and Game Products</td>\n",
       "      <td>Lamb, New Zealand, imported, sweetbread, raw</td>\n",
       "      <td>44.0</td>\n",
       "      <td>0.0</td>\n",
       "      <td>28.44</td>\n",
       "      <td>0.217991</td>\n",
       "    </tr>\n",
       "  </tbody>\n",
       "</table>\n",
       "</div>"
      ],
      "text/plain": [
       "                        Food Group  \\\n",
       "298  Lamb, Veal, and Game Products   \n",
       "299  Lamb, Veal, and Game Products   \n",
       "300  Lamb, Veal, and Game Products   \n",
       "\n",
       "                                        Food Name  Protein (kcal/100g)  \\\n",
       "298    Game meat, beefalo, composite of cuts, raw                 93.2   \n",
       "299                                     Goat, raw                 82.4   \n",
       "300  Lamb, New Zealand, imported, sweetbread, raw                 44.0   \n",
       "\n",
       "     Carbohydrates (kcal/100g)  Fat (kcal/100g)      rank  \n",
       "298                        0.0            43.20  0.410463  \n",
       "299                        0.0            20.79  0.310525  \n",
       "300                        0.0            28.44  0.217991  "
      ]
     },
     "execution_count": 175,
     "metadata": {},
     "output_type": "execute_result"
    }
   ],
   "source": [
    "diet_kcal[diet_kcal[\"Food Group\"] == \"Lamb, Veal, and Game Products\"]"
   ]
  },
  {
   "cell_type": "markdown",
   "metadata": {},
   "source": [
    "As we can see, this category doesn't really have a representation. The residue results are here just as consequence of the filtering process (using `str.contains` caused this).\n",
    "**For this reason, we drop it**, than we increase the range of choosable products from 3 to **5** and reprint."
   ]
  },
  {
   "cell_type": "code",
   "execution_count": 176,
   "metadata": {},
   "outputs": [],
   "source": [
    "diet_kcal = diet_kcal[~diet_kcal[\"Food Group\"].isin([\"Lamb, Veal, and Game Products\"])].reset_index(drop=True)"
   ]
  },
  {
   "cell_type": "code",
   "execution_count": 177,
   "metadata": {},
   "outputs": [
    {
     "data": {
      "text/html": [
       "<div>\n",
       "<style scoped>\n",
       "    .dataframe tbody tr th:only-of-type {\n",
       "        vertical-align: middle;\n",
       "    }\n",
       "\n",
       "    .dataframe tbody tr th {\n",
       "        vertical-align: top;\n",
       "    }\n",
       "\n",
       "    .dataframe thead th {\n",
       "        text-align: right;\n",
       "    }\n",
       "</style>\n",
       "<table border=\"1\" class=\"dataframe\">\n",
       "  <thead>\n",
       "    <tr style=\"text-align: right;\">\n",
       "      <th></th>\n",
       "      <th>Food Group</th>\n",
       "      <th>Food Name</th>\n",
       "      <th>Protein (kcal/100g)</th>\n",
       "      <th>Carbohydrates (kcal/100g)</th>\n",
       "      <th>Fat (kcal/100g)</th>\n",
       "      <th>rank</th>\n",
       "    </tr>\n",
       "  </thead>\n",
       "  <tbody>\n",
       "    <tr>\n",
       "      <td>0</td>\n",
       "      <td>Beef Products</td>\n",
       "      <td>Beef, New Zealand, imported, variety meats and...</td>\n",
       "      <td>59.44</td>\n",
       "      <td>0.00</td>\n",
       "      <td>17.82</td>\n",
       "      <td>0.232495</td>\n",
       "    </tr>\n",
       "    <tr>\n",
       "      <td>1</td>\n",
       "      <td>Beef Products</td>\n",
       "      <td>Beef, variety meats and by-products, tripe, raw</td>\n",
       "      <td>48.28</td>\n",
       "      <td>0.00</td>\n",
       "      <td>33.21</td>\n",
       "      <td>0.245225</td>\n",
       "    </tr>\n",
       "    <tr>\n",
       "      <td>2</td>\n",
       "      <td>Beef Products</td>\n",
       "      <td>Beef, New Zealand, imported, variety meats and...</td>\n",
       "      <td>62.72</td>\n",
       "      <td>0.00</td>\n",
       "      <td>23.76</td>\n",
       "      <td>0.260241</td>\n",
       "    </tr>\n",
       "    <tr>\n",
       "      <td>3</td>\n",
       "      <td>Beef Products</td>\n",
       "      <td>Beef, variety meats and by-products, lungs, raw</td>\n",
       "      <td>64.80</td>\n",
       "      <td>0.00</td>\n",
       "      <td>22.50</td>\n",
       "      <td>0.262708</td>\n",
       "    </tr>\n",
       "    <tr>\n",
       "      <td>4</td>\n",
       "      <td>Beef Products</td>\n",
       "      <td>Beef, variety meats and by-products, kidneys, raw</td>\n",
       "      <td>69.60</td>\n",
       "      <td>1.16</td>\n",
       "      <td>27.81</td>\n",
       "      <td>0.288889</td>\n",
       "    </tr>\n",
       "    <tr>\n",
       "      <td>5</td>\n",
       "      <td>Cereal Grains and Pasta</td>\n",
       "      <td>Wild rice, raw</td>\n",
       "      <td>58.92</td>\n",
       "      <td>299.60</td>\n",
       "      <td>9.72</td>\n",
       "      <td>0.954696</td>\n",
       "    </tr>\n",
       "    <tr>\n",
       "      <td>6</td>\n",
       "      <td>Cereal Grains and Pasta</td>\n",
       "      <td>Barley, pearled, raw</td>\n",
       "      <td>39.64</td>\n",
       "      <td>310.88</td>\n",
       "      <td>10.44</td>\n",
       "      <td>1.002436</td>\n",
       "    </tr>\n",
       "    <tr>\n",
       "      <td>7</td>\n",
       "      <td>Cereal Grains and Pasta</td>\n",
       "      <td>Oat bran, raw</td>\n",
       "      <td>69.20</td>\n",
       "      <td>264.88</td>\n",
       "      <td>63.27</td>\n",
       "      <td>1.030167</td>\n",
       "    </tr>\n",
       "    <tr>\n",
       "      <td>8</td>\n",
       "      <td>Cereal Grains and Pasta</td>\n",
       "      <td>Rice, brown, medium-grain, raw</td>\n",
       "      <td>30.00</td>\n",
       "      <td>304.68</td>\n",
       "      <td>24.12</td>\n",
       "      <td>1.059122</td>\n",
       "    </tr>\n",
       "    <tr>\n",
       "      <td>9</td>\n",
       "      <td>Cereal Grains and Pasta</td>\n",
       "      <td>Rice, white, medium-grain, raw, enriched</td>\n",
       "      <td>26.44</td>\n",
       "      <td>317.36</td>\n",
       "      <td>5.22</td>\n",
       "      <td>1.065442</td>\n",
       "    </tr>\n",
       "    <tr>\n",
       "      <td>10</td>\n",
       "      <td>Fruits and Fruit Juices</td>\n",
       "      <td>Rose-apples, raw</td>\n",
       "      <td>2.40</td>\n",
       "      <td>22.80</td>\n",
       "      <td>2.70</td>\n",
       "      <td>0.081908</td>\n",
       "    </tr>\n",
       "    <tr>\n",
       "      <td>11</td>\n",
       "      <td>Fruits and Fruit Juices</td>\n",
       "      <td>Pitanga, (surinam-cherry), raw</td>\n",
       "      <td>3.20</td>\n",
       "      <td>29.96</td>\n",
       "      <td>3.60</td>\n",
       "      <td>0.107667</td>\n",
       "    </tr>\n",
       "    <tr>\n",
       "      <td>12</td>\n",
       "      <td>Fruits and Fruit Juices</td>\n",
       "      <td>Strawberries, raw</td>\n",
       "      <td>2.68</td>\n",
       "      <td>30.72</td>\n",
       "      <td>2.70</td>\n",
       "      <td>0.108818</td>\n",
       "    </tr>\n",
       "    <tr>\n",
       "      <td>13</td>\n",
       "      <td>Fruits and Fruit Juices</td>\n",
       "      <td>Acerola, (west indian cherry), raw</td>\n",
       "      <td>1.60</td>\n",
       "      <td>30.76</td>\n",
       "      <td>2.70</td>\n",
       "      <td>0.112368</td>\n",
       "    </tr>\n",
       "    <tr>\n",
       "      <td>14</td>\n",
       "      <td>Fruits and Fruit Juices</td>\n",
       "      <td>Strawberries, frozen, unsweetened</td>\n",
       "      <td>1.72</td>\n",
       "      <td>36.52</td>\n",
       "      <td>0.99</td>\n",
       "      <td>0.126202</td>\n",
       "    </tr>\n",
       "    <tr>\n",
       "      <td>15</td>\n",
       "      <td>Legumes and Legume Products</td>\n",
       "      <td>SILK Banana-Strawberry soy yogurt</td>\n",
       "      <td>9.40</td>\n",
       "      <td>68.24</td>\n",
       "      <td>10.62</td>\n",
       "      <td>0.247061</td>\n",
       "    </tr>\n",
       "    <tr>\n",
       "      <td>16</td>\n",
       "      <td>Legumes and Legume Products</td>\n",
       "      <td>SILK Strawberry soy yogurt</td>\n",
       "      <td>9.40</td>\n",
       "      <td>72.96</td>\n",
       "      <td>10.62</td>\n",
       "      <td>0.263624</td>\n",
       "    </tr>\n",
       "    <tr>\n",
       "      <td>17</td>\n",
       "      <td>Legumes and Legume Products</td>\n",
       "      <td>Beans, kidney, all types, mature seeds, raw</td>\n",
       "      <td>94.32</td>\n",
       "      <td>240.04</td>\n",
       "      <td>7.47</td>\n",
       "      <td>0.887067</td>\n",
       "    </tr>\n",
       "    <tr>\n",
       "      <td>18</td>\n",
       "      <td>Legumes and Legume Products</td>\n",
       "      <td>Lima beans, thin seeded (baby), mature seeds, raw</td>\n",
       "      <td>82.48</td>\n",
       "      <td>251.32</td>\n",
       "      <td>8.37</td>\n",
       "      <td>0.887107</td>\n",
       "    </tr>\n",
       "    <tr>\n",
       "      <td>19</td>\n",
       "      <td>Legumes and Legume Products</td>\n",
       "      <td>Beans, white, mature seeds, raw</td>\n",
       "      <td>93.44</td>\n",
       "      <td>241.08</td>\n",
       "      <td>7.65</td>\n",
       "      <td>0.887107</td>\n",
       "    </tr>\n",
       "    <tr>\n",
       "      <td>20</td>\n",
       "      <td>Poultry Products</td>\n",
       "      <td>Chicken, gizzard, all classes, raw</td>\n",
       "      <td>70.64</td>\n",
       "      <td>0.00</td>\n",
       "      <td>18.54</td>\n",
       "      <td>0.268366</td>\n",
       "    </tr>\n",
       "    <tr>\n",
       "      <td>21</td>\n",
       "      <td>Poultry Products</td>\n",
       "      <td>Chicken, broilers or fryers, giblets, raw</td>\n",
       "      <td>71.52</td>\n",
       "      <td>7.20</td>\n",
       "      <td>40.23</td>\n",
       "      <td>0.309951</td>\n",
       "    </tr>\n",
       "    <tr>\n",
       "      <td>22</td>\n",
       "      <td>Poultry Products</td>\n",
       "      <td>Chicken, roasting, light meat, meat only, raw</td>\n",
       "      <td>88.80</td>\n",
       "      <td>0.00</td>\n",
       "      <td>14.67</td>\n",
       "      <td>0.311368</td>\n",
       "    </tr>\n",
       "    <tr>\n",
       "      <td>23</td>\n",
       "      <td>Poultry Products</td>\n",
       "      <td>Chicken, roasting, meat only, raw</td>\n",
       "      <td>81.32</td>\n",
       "      <td>0.00</td>\n",
       "      <td>24.30</td>\n",
       "      <td>0.317838</td>\n",
       "    </tr>\n",
       "    <tr>\n",
       "      <td>24</td>\n",
       "      <td>Poultry Products</td>\n",
       "      <td>Chicken, dark meat, drumstick, meat only, with...</td>\n",
       "      <td>76.76</td>\n",
       "      <td>0.00</td>\n",
       "      <td>29.34</td>\n",
       "      <td>0.319282</td>\n",
       "    </tr>\n",
       "    <tr>\n",
       "      <td>25</td>\n",
       "      <td>Vegetables and Vegetable Products</td>\n",
       "      <td>Cucumber, peeled, raw</td>\n",
       "      <td>2.36</td>\n",
       "      <td>8.64</td>\n",
       "      <td>1.44</td>\n",
       "      <td>0.032252</td>\n",
       "    </tr>\n",
       "    <tr>\n",
       "      <td>26</td>\n",
       "      <td>Vegetables and Vegetable Products</td>\n",
       "      <td>Lettuce, butterhead (includes boston and bibb ...</td>\n",
       "      <td>5.40</td>\n",
       "      <td>8.92</td>\n",
       "      <td>1.98</td>\n",
       "      <td>0.042259</td>\n",
       "    </tr>\n",
       "    <tr>\n",
       "      <td>27</td>\n",
       "      <td>Vegetables and Vegetable Products</td>\n",
       "      <td>Lettuce, red leaf, raw</td>\n",
       "      <td>5.32</td>\n",
       "      <td>9.04</td>\n",
       "      <td>1.98</td>\n",
       "      <td>0.042363</td>\n",
       "    </tr>\n",
       "    <tr>\n",
       "      <td>28</td>\n",
       "      <td>Vegetables and Vegetable Products</td>\n",
       "      <td>Lettuce, iceberg (includes crisphead types), raw</td>\n",
       "      <td>3.60</td>\n",
       "      <td>11.88</td>\n",
       "      <td>1.26</td>\n",
       "      <td>0.043400</td>\n",
       "    </tr>\n",
       "    <tr>\n",
       "      <td>29</td>\n",
       "      <td>Vegetables and Vegetable Products</td>\n",
       "      <td>Cucumber, with peel, raw</td>\n",
       "      <td>2.60</td>\n",
       "      <td>14.52</td>\n",
       "      <td>0.99</td>\n",
       "      <td>0.046952</td>\n",
       "    </tr>\n",
       "  </tbody>\n",
       "</table>\n",
       "</div>"
      ],
      "text/plain": [
       "                           Food Group  \\\n",
       "0                       Beef Products   \n",
       "1                       Beef Products   \n",
       "2                       Beef Products   \n",
       "3                       Beef Products   \n",
       "4                       Beef Products   \n",
       "5             Cereal Grains and Pasta   \n",
       "6             Cereal Grains and Pasta   \n",
       "7             Cereal Grains and Pasta   \n",
       "8             Cereal Grains and Pasta   \n",
       "9             Cereal Grains and Pasta   \n",
       "10            Fruits and Fruit Juices   \n",
       "11            Fruits and Fruit Juices   \n",
       "12            Fruits and Fruit Juices   \n",
       "13            Fruits and Fruit Juices   \n",
       "14            Fruits and Fruit Juices   \n",
       "15        Legumes and Legume Products   \n",
       "16        Legumes and Legume Products   \n",
       "17        Legumes and Legume Products   \n",
       "18        Legumes and Legume Products   \n",
       "19        Legumes and Legume Products   \n",
       "20                   Poultry Products   \n",
       "21                   Poultry Products   \n",
       "22                   Poultry Products   \n",
       "23                   Poultry Products   \n",
       "24                   Poultry Products   \n",
       "25  Vegetables and Vegetable Products   \n",
       "26  Vegetables and Vegetable Products   \n",
       "27  Vegetables and Vegetable Products   \n",
       "28  Vegetables and Vegetable Products   \n",
       "29  Vegetables and Vegetable Products   \n",
       "\n",
       "                                            Food Name  Protein (kcal/100g)  \\\n",
       "0   Beef, New Zealand, imported, variety meats and...                59.44   \n",
       "1     Beef, variety meats and by-products, tripe, raw                48.28   \n",
       "2   Beef, New Zealand, imported, variety meats and...                62.72   \n",
       "3     Beef, variety meats and by-products, lungs, raw                64.80   \n",
       "4   Beef, variety meats and by-products, kidneys, raw                69.60   \n",
       "5                                      Wild rice, raw                58.92   \n",
       "6                                Barley, pearled, raw                39.64   \n",
       "7                                       Oat bran, raw                69.20   \n",
       "8                      Rice, brown, medium-grain, raw                30.00   \n",
       "9            Rice, white, medium-grain, raw, enriched                26.44   \n",
       "10                                   Rose-apples, raw                 2.40   \n",
       "11                     Pitanga, (surinam-cherry), raw                 3.20   \n",
       "12                                  Strawberries, raw                 2.68   \n",
       "13                 Acerola, (west indian cherry), raw                 1.60   \n",
       "14                  Strawberries, frozen, unsweetened                 1.72   \n",
       "15                  SILK Banana-Strawberry soy yogurt                 9.40   \n",
       "16                         SILK Strawberry soy yogurt                 9.40   \n",
       "17        Beans, kidney, all types, mature seeds, raw                94.32   \n",
       "18  Lima beans, thin seeded (baby), mature seeds, raw                82.48   \n",
       "19                    Beans, white, mature seeds, raw                93.44   \n",
       "20                 Chicken, gizzard, all classes, raw                70.64   \n",
       "21          Chicken, broilers or fryers, giblets, raw                71.52   \n",
       "22      Chicken, roasting, light meat, meat only, raw                88.80   \n",
       "23                  Chicken, roasting, meat only, raw                81.32   \n",
       "24  Chicken, dark meat, drumstick, meat only, with...                76.76   \n",
       "25                              Cucumber, peeled, raw                 2.36   \n",
       "26  Lettuce, butterhead (includes boston and bibb ...                 5.40   \n",
       "27                             Lettuce, red leaf, raw                 5.32   \n",
       "28   Lettuce, iceberg (includes crisphead types), raw                 3.60   \n",
       "29                           Cucumber, with peel, raw                 2.60   \n",
       "\n",
       "    Carbohydrates (kcal/100g)  Fat (kcal/100g)      rank  \n",
       "0                        0.00            17.82  0.232495  \n",
       "1                        0.00            33.21  0.245225  \n",
       "2                        0.00            23.76  0.260241  \n",
       "3                        0.00            22.50  0.262708  \n",
       "4                        1.16            27.81  0.288889  \n",
       "5                      299.60             9.72  0.954696  \n",
       "6                      310.88            10.44  1.002436  \n",
       "7                      264.88            63.27  1.030167  \n",
       "8                      304.68            24.12  1.059122  \n",
       "9                      317.36             5.22  1.065442  \n",
       "10                      22.80             2.70  0.081908  \n",
       "11                      29.96             3.60  0.107667  \n",
       "12                      30.72             2.70  0.108818  \n",
       "13                      30.76             2.70  0.112368  \n",
       "14                      36.52             0.99  0.126202  \n",
       "15                      68.24            10.62  0.247061  \n",
       "16                      72.96            10.62  0.263624  \n",
       "17                     240.04             7.47  0.887067  \n",
       "18                     251.32             8.37  0.887107  \n",
       "19                     241.08             7.65  0.887107  \n",
       "20                       0.00            18.54  0.268366  \n",
       "21                       7.20            40.23  0.309951  \n",
       "22                       0.00            14.67  0.311368  \n",
       "23                       0.00            24.30  0.317838  \n",
       "24                       0.00            29.34  0.319282  \n",
       "25                       8.64             1.44  0.032252  \n",
       "26                       8.92             1.98  0.042259  \n",
       "27                       9.04             1.98  0.042363  \n",
       "28                      11.88             1.26  0.043400  \n",
       "29                      14.52             0.99  0.046952  "
      ]
     },
     "execution_count": 177,
     "metadata": {},
     "output_type": "execute_result"
    }
   ],
   "source": [
    "diet_kcal.groupby([\"Food Group\"]).apply(lambda x: x.sort_values(['rank'])\\\n",
    "                                 .reset_index(drop=True).groupby(\"Food Group\").head(5)).reset_index(drop=True)"
   ]
  },
  {
   "cell_type": "markdown",
   "metadata": {},
   "source": [
    "Now the shape of our final diet is **way more clear**:\n",
    "- From the _**Beef Products**_ category we have a great variety of meats. We can take **the median over the first 10 rows** to have our representative beef nutrients.\n",
    "- From the _**Cereal Grains and Pasta**_ group a good product would be one of **rice, bearley** or **oat**. We keep all of them for know. Further analysis will be on the next section\n",
    "- From the _**Fruits and Fruit Juices**_ category we take the **Strawberries** and **Apples** (not rose-apples as showed here but apples, as there are some in the dataframe). The other products are probably show due to some inconsistence with the foods presented before.\n",
    "- From **_Poultry Products_** we take **Chicken, roasting, light meat, meat only, raw** as it's the most simple one\n",
    "- For the _**Legumes and Legume Products**_ and _**Vegetables and Vegetable Products**_ we need further analysis (because these two categories can be very useful for our analysis):\n",
    "    - From _**Legumes and Legume Products**_ we are for sure **Beans**, but the yogurt there presented is an inconsistence. Therefore, we need further explorations.\n",
    "    - From _**Vegetables and Vegetable Products**_ we could take **Lettuce, green leaf, raw** and **cucumber**. We should analyze if there's the possibility to take other products.\n",
    "\n",
    "We can now build the **final dataframe** with nutrient for each product."
   ]
  },
  {
   "cell_type": "code",
   "execution_count": 214,
   "metadata": {},
   "outputs": [],
   "source": [
    "prod_diet_final = pd.DataFrame(columns=[\"Product\", \"Protein (kcal/100g)\", \"Carbohydrates (kcal/100g)\",\"Fat (kcal/100g)\"])"
   ]
  },
  {
   "cell_type": "markdown",
   "metadata": {},
   "source": [
    "#### Beef Products"
   ]
  },
  {
   "cell_type": "code",
   "execution_count": 215,
   "metadata": {},
   "outputs": [],
   "source": [
    "# taking an average over the first 5 beef product\n",
    "best_beef = diet_kcal[diet_kcal[\"Food Group\"]==\"Beef Products\"].sort_values(by=\"rank\").head(10)\n",
    "beef_repr = [best_beef[\"Protein (kcal/100g)\"].median(),\\\n",
    "             best_beef[\"Carbohydrates (kcal/100g)\"].median(),\\\n",
    "             best_beef[\"Fat (kcal/100g)\"].median()]\n",
    "beef_list = [\"Beef Meat\"] + beef_repr\n",
    "beef = pd.DataFrame(np.array([beef_list]), columns=[\"Product\", \"Protein (kcal/100g)\", \"Carbohydrates (kcal/100g)\",\"Fat (kcal/100g)\"])\n",
    "prod_diet_final = prod_diet_final.append(beef)"
   ]
  },
  {
   "cell_type": "markdown",
   "metadata": {},
   "source": [
    "#### Cereal Grains and Pasta"
   ]
  },
  {
   "cell_type": "code",
   "execution_count": 216,
   "metadata": {},
   "outputs": [],
   "source": [
    "# taking the top 3 in cereals (rice, bearley, oat)\n",
    "best_cereal = diet_kcal[diet_kcal[\"Food Group\"]==\"Cereal Grains and Pasta\"].sort_values(by=\"rank\").head(3)\n",
    "best_cereal = best_cereal.drop(columns=[\"Food Group\", \"rank\"]).rename(columns={\"Food Name\":\"Product\"})\n",
    "best_cereal = best_cereal.replace({\"Product\":{\"Wild rice, raw\": \"Rice\", \"Barley, pearled, raw\": \"Barley\", \"Oat bran, raw\": \"Oats\"}})\n",
    "prod_diet_final = prod_diet_final.append(best_cereal)"
   ]
  },
  {
   "cell_type": "markdown",
   "metadata": {},
   "source": [
    "#### Fruits and Fruit Juices\n",
    "By further analysis, we discovered that it's possible to add also **cherries** to the possible diet. So we keep that too"
   ]
  },
  {
   "cell_type": "code",
   "execution_count": 217,
   "metadata": {},
   "outputs": [],
   "source": [
    "# taking apples, cherries and strawberries \n",
    "fruits = diet_kcal[(diet_kcal[\"Food Name\"]==\"Apples, raw, with skin\") | (diet_kcal[\"Food Name\"]==\"Strawberries, raw\") | (diet_kcal[\"Food Name\"]==\"Cherries, sour, red, raw\")]\n",
    "fruits = fruits.drop(columns=[\"Food Group\", \"rank\"]).rename(columns={\"Food Name\":\"Product\"})\n",
    "fruits = fruits.replace({\"Product\":{\"Apples, raw, with skin\": \"Apples\", \"Cherries, sour, red, raw\": \"Cherries\", \"Strawberries, raw\": \"Strawberries\"}})\n",
    "prod_diet_final = prod_diet_final.append(fruits)"
   ]
  },
  {
   "cell_type": "markdown",
   "metadata": {},
   "source": [
    "#### Poultry Products"
   ]
  },
  {
   "cell_type": "code",
   "execution_count": 218,
   "metadata": {},
   "outputs": [],
   "source": [
    "# just take Chicken, roasting, light meat, meat only, raw\n",
    "poultry = diet_kcal[diet_kcal[\"Food Name\"]==\"Chicken, roasting, light meat, meat only, raw\"]\n",
    "poultry = poultry.drop(columns=[\"Food Group\", \"rank\"]).rename(columns={\"Food Name\":\"Product\"})\n",
    "poultry = poultry.replace({\"Product\":{\"Chicken, roasting, light meat, meat only, raw\": \"Chicken\"}})\n",
    "prod_diet_final = prod_diet_final.append(poultry)"
   ]
  },
  {
   "cell_type": "markdown",
   "metadata": {},
   "source": [
    "#### Legumes and Legume Products"
   ]
  },
  {
   "cell_type": "code",
   "execution_count": 219,
   "metadata": {},
   "outputs": [
    {
     "data": {
      "text/html": [
       "<div>\n",
       "<style scoped>\n",
       "    .dataframe tbody tr th:only-of-type {\n",
       "        vertical-align: middle;\n",
       "    }\n",
       "\n",
       "    .dataframe tbody tr th {\n",
       "        vertical-align: top;\n",
       "    }\n",
       "\n",
       "    .dataframe thead th {\n",
       "        text-align: right;\n",
       "    }\n",
       "</style>\n",
       "<table border=\"1\" class=\"dataframe\">\n",
       "  <thead>\n",
       "    <tr style=\"text-align: right;\">\n",
       "      <th></th>\n",
       "      <th>Food Group</th>\n",
       "      <th>Food Name</th>\n",
       "      <th>Protein (kcal/100g)</th>\n",
       "      <th>Carbohydrates (kcal/100g)</th>\n",
       "      <th>Fat (kcal/100g)</th>\n",
       "      <th>rank</th>\n",
       "    </tr>\n",
       "  </thead>\n",
       "  <tbody>\n",
       "    <tr>\n",
       "      <td>261</td>\n",
       "      <td>Legumes and Legume Products</td>\n",
       "      <td>Beans, adzuki, mature seeds, raw</td>\n",
       "      <td>79.48</td>\n",
       "      <td>251.60</td>\n",
       "      <td>4.77</td>\n",
       "      <td>0.888678</td>\n",
       "    </tr>\n",
       "    <tr>\n",
       "      <td>262</td>\n",
       "      <td>Legumes and Legume Products</td>\n",
       "      <td>Beans, black, mature seeds, raw</td>\n",
       "      <td>86.40</td>\n",
       "      <td>249.44</td>\n",
       "      <td>12.78</td>\n",
       "      <td>0.903830</td>\n",
       "    </tr>\n",
       "    <tr>\n",
       "      <td>263</td>\n",
       "      <td>Legumes and Legume Products</td>\n",
       "      <td>Beans, black turtle, mature seeds, raw</td>\n",
       "      <td>85.00</td>\n",
       "      <td>253.00</td>\n",
       "      <td>8.10</td>\n",
       "      <td>0.897296</td>\n",
       "    </tr>\n",
       "    <tr>\n",
       "      <td>264</td>\n",
       "      <td>Legumes and Legume Products</td>\n",
       "      <td>Beans, cranberry (roman), mature seeds, raw</td>\n",
       "      <td>92.12</td>\n",
       "      <td>240.20</td>\n",
       "      <td>11.07</td>\n",
       "      <td>0.890270</td>\n",
       "    </tr>\n",
       "    <tr>\n",
       "      <td>265</td>\n",
       "      <td>Legumes and Legume Products</td>\n",
       "      <td>Beans, french, mature seeds, raw</td>\n",
       "      <td>75.24</td>\n",
       "      <td>256.44</td>\n",
       "      <td>18.18</td>\n",
       "      <td>0.907044</td>\n",
       "    </tr>\n",
       "  </tbody>\n",
       "</table>\n",
       "</div>"
      ],
      "text/plain": [
       "                      Food Group                                    Food Name  \\\n",
       "261  Legumes and Legume Products             Beans, adzuki, mature seeds, raw   \n",
       "262  Legumes and Legume Products              Beans, black, mature seeds, raw   \n",
       "263  Legumes and Legume Products       Beans, black turtle, mature seeds, raw   \n",
       "264  Legumes and Legume Products  Beans, cranberry (roman), mature seeds, raw   \n",
       "265  Legumes and Legume Products             Beans, french, mature seeds, raw   \n",
       "\n",
       "     Protein (kcal/100g)  Carbohydrates (kcal/100g)  Fat (kcal/100g)      rank  \n",
       "261                79.48                     251.60             4.77  0.888678  \n",
       "262                86.40                     249.44            12.78  0.903830  \n",
       "263                85.00                     253.00             8.10  0.897296  \n",
       "264                92.12                     240.20            11.07  0.890270  \n",
       "265                75.24                     256.44            18.18  0.907044  "
      ]
     },
     "execution_count": 219,
     "metadata": {},
     "output_type": "execute_result"
    }
   ],
   "source": [
    "check_leg = diet_kcal[diet_kcal[\"Food Group\"]==\"Legumes and Legume Products\"]\n",
    "check_leg[check_leg[\"Food Name\"].str.contains(\"bean\", case=False)].head(5)"
   ]
  },
  {
   "cell_type": "code",
   "execution_count": 220,
   "metadata": {},
   "outputs": [
    {
     "data": {
      "text/html": [
       "<div>\n",
       "<style scoped>\n",
       "    .dataframe tbody tr th:only-of-type {\n",
       "        vertical-align: middle;\n",
       "    }\n",
       "\n",
       "    .dataframe tbody tr th {\n",
       "        vertical-align: top;\n",
       "    }\n",
       "\n",
       "    .dataframe thead th {\n",
       "        text-align: right;\n",
       "    }\n",
       "</style>\n",
       "<table border=\"1\" class=\"dataframe\">\n",
       "  <thead>\n",
       "    <tr style=\"text-align: right;\">\n",
       "      <th></th>\n",
       "      <th>Food Group</th>\n",
       "      <th>Food Name</th>\n",
       "      <th>Protein (kcal/100g)</th>\n",
       "      <th>Carbohydrates (kcal/100g)</th>\n",
       "      <th>Fat (kcal/100g)</th>\n",
       "      <th>rank</th>\n",
       "    </tr>\n",
       "  </thead>\n",
       "  <tbody>\n",
       "    <tr>\n",
       "      <td>278</td>\n",
       "      <td>Legumes and Legume Products</td>\n",
       "      <td>Chickpeas (garbanzo beans, bengal gram), matur...</td>\n",
       "      <td>81.88</td>\n",
       "      <td>251.80</td>\n",
       "      <td>54.36</td>\n",
       "      <td>1.006030</td>\n",
       "    </tr>\n",
       "    <tr>\n",
       "      <td>279</td>\n",
       "      <td>Legumes and Legume Products</td>\n",
       "      <td>Cowpeas, catjang, mature seeds, raw</td>\n",
       "      <td>95.40</td>\n",
       "      <td>238.56</td>\n",
       "      <td>18.63</td>\n",
       "      <td>0.914122</td>\n",
       "    </tr>\n",
       "    <tr>\n",
       "      <td>280</td>\n",
       "      <td>Legumes and Legume Products</td>\n",
       "      <td>Cowpeas, common (blackeyes, crowder, southern)...</td>\n",
       "      <td>94.08</td>\n",
       "      <td>240.12</td>\n",
       "      <td>11.34</td>\n",
       "      <td>0.895844</td>\n",
       "    </tr>\n",
       "    <tr>\n",
       "      <td>287</td>\n",
       "      <td>Legumes and Legume Products</td>\n",
       "      <td>Peas, green, split, mature seeds, raw</td>\n",
       "      <td>95.28</td>\n",
       "      <td>254.96</td>\n",
       "      <td>10.44</td>\n",
       "      <td>0.935096</td>\n",
       "    </tr>\n",
       "    <tr>\n",
       "      <td>288</td>\n",
       "      <td>Legumes and Legume Products</td>\n",
       "      <td>Peanuts, all types, raw</td>\n",
       "      <td>103.20</td>\n",
       "      <td>64.52</td>\n",
       "      <td>443.16</td>\n",
       "      <td>1.583763</td>\n",
       "    </tr>\n",
       "  </tbody>\n",
       "</table>\n",
       "</div>"
      ],
      "text/plain": [
       "                      Food Group  \\\n",
       "278  Legumes and Legume Products   \n",
       "279  Legumes and Legume Products   \n",
       "280  Legumes and Legume Products   \n",
       "287  Legumes and Legume Products   \n",
       "288  Legumes and Legume Products   \n",
       "\n",
       "                                             Food Name  Protein (kcal/100g)  \\\n",
       "278  Chickpeas (garbanzo beans, bengal gram), matur...                81.88   \n",
       "279                Cowpeas, catjang, mature seeds, raw                95.40   \n",
       "280  Cowpeas, common (blackeyes, crowder, southern)...                94.08   \n",
       "287              Peas, green, split, mature seeds, raw                95.28   \n",
       "288                            Peanuts, all types, raw               103.20   \n",
       "\n",
       "     Carbohydrates (kcal/100g)  Fat (kcal/100g)      rank  \n",
       "278                     251.80            54.36  1.006030  \n",
       "279                     238.56            18.63  0.914122  \n",
       "280                     240.12            11.34  0.895844  \n",
       "287                     254.96            10.44  0.935096  \n",
       "288                      64.52           443.16  1.583763  "
      ]
     },
     "execution_count": 220,
     "metadata": {},
     "output_type": "execute_result"
    }
   ],
   "source": [
    "check_leg[check_leg[\"Food Name\"].str.contains(\"pea\", case=False)].head(5)"
   ]
  },
  {
   "cell_type": "markdown",
   "metadata": {},
   "source": [
    "As we can see, we have both the product we mentioned before. As these are the **only 2 types of legumes we have**, as their **nutriments provision is usually high**, we decide to keep both of them for our next analysis."
   ]
  },
  {
   "cell_type": "code",
   "execution_count": 221,
   "metadata": {},
   "outputs": [],
   "source": [
    "# Taking one for beans and one for peas\n",
    "beans = diet_kcal[diet_kcal[\"Food Name\"]==\"Beans, adzuki, mature seeds, raw\"]\n",
    "beans = beans.drop(columns=[\"Food Group\", \"rank\"]).rename(columns={\"Food Name\":\"Product\"})\n",
    "beans = beans.replace({\"Product\":{\"Beans, adzuki, mature seeds, raw\": \"Beans\"}})\n",
    "\n",
    "peas = diet_kcal[diet_kcal[\"Food Name\"]==\"Peas, green, split, mature seeds, raw\"]\n",
    "peas = peas.drop(columns=[\"Food Group\", \"rank\"]).rename(columns={\"Food Name\":\"Product\"})\n",
    "peas = peas.replace({\"Product\":{\"Peas, green, split, mature seeds, raw\": \"Peas\"}})\n",
    "\n",
    "prod_diet_final = prod_diet_final.append(beans)\n",
    "prod_diet_final = prod_diet_final.append(peas)"
   ]
  },
  {
   "cell_type": "markdown",
   "metadata": {},
   "source": [
    "#### Vegetables and Vegetable Products"
   ]
  },
  {
   "cell_type": "code",
   "execution_count": 222,
   "metadata": {},
   "outputs": [
    {
     "data": {
      "text/html": [
       "<div>\n",
       "<style scoped>\n",
       "    .dataframe tbody tr th:only-of-type {\n",
       "        vertical-align: middle;\n",
       "    }\n",
       "\n",
       "    .dataframe tbody tr th {\n",
       "        vertical-align: top;\n",
       "    }\n",
       "\n",
       "    .dataframe thead th {\n",
       "        text-align: right;\n",
       "    }\n",
       "</style>\n",
       "<table border=\"1\" class=\"dataframe\">\n",
       "  <thead>\n",
       "    <tr style=\"text-align: right;\">\n",
       "      <th></th>\n",
       "      <th>Food Group</th>\n",
       "      <th>Food Name</th>\n",
       "      <th>Protein (kcal/100g)</th>\n",
       "      <th>Carbohydrates (kcal/100g)</th>\n",
       "      <th>Fat (kcal/100g)</th>\n",
       "      <th>rank</th>\n",
       "    </tr>\n",
       "  </thead>\n",
       "  <tbody>\n",
       "    <tr>\n",
       "      <td>104</td>\n",
       "      <td>Vegetables and Vegetable Products</td>\n",
       "      <td>Cucumber, peeled, raw</td>\n",
       "      <td>2.36</td>\n",
       "      <td>8.64</td>\n",
       "      <td>1.44</td>\n",
       "      <td>0.032252</td>\n",
       "    </tr>\n",
       "    <tr>\n",
       "      <td>107</td>\n",
       "      <td>Vegetables and Vegetable Products</td>\n",
       "      <td>Lettuce, butterhead (includes boston and bibb ...</td>\n",
       "      <td>5.40</td>\n",
       "      <td>8.92</td>\n",
       "      <td>1.98</td>\n",
       "      <td>0.042259</td>\n",
       "    </tr>\n",
       "    <tr>\n",
       "      <td>111</td>\n",
       "      <td>Vegetables and Vegetable Products</td>\n",
       "      <td>Lettuce, red leaf, raw</td>\n",
       "      <td>5.32</td>\n",
       "      <td>9.04</td>\n",
       "      <td>1.98</td>\n",
       "      <td>0.042363</td>\n",
       "    </tr>\n",
       "    <tr>\n",
       "      <td>109</td>\n",
       "      <td>Vegetables and Vegetable Products</td>\n",
       "      <td>Lettuce, iceberg (includes crisphead types), raw</td>\n",
       "      <td>3.60</td>\n",
       "      <td>11.88</td>\n",
       "      <td>1.26</td>\n",
       "      <td>0.043400</td>\n",
       "    </tr>\n",
       "    <tr>\n",
       "      <td>103</td>\n",
       "      <td>Vegetables and Vegetable Products</td>\n",
       "      <td>Cucumber, with peel, raw</td>\n",
       "      <td>2.60</td>\n",
       "      <td>14.52</td>\n",
       "      <td>0.99</td>\n",
       "      <td>0.046952</td>\n",
       "    </tr>\n",
       "    <tr>\n",
       "      <td>133</td>\n",
       "      <td>Vegetables and Vegetable Products</td>\n",
       "      <td>Tomatoes, yellow, raw</td>\n",
       "      <td>3.92</td>\n",
       "      <td>11.92</td>\n",
       "      <td>2.34</td>\n",
       "      <td>0.047133</td>\n",
       "    </tr>\n",
       "    <tr>\n",
       "      <td>110</td>\n",
       "      <td>Vegetables and Vegetable Products</td>\n",
       "      <td>Lettuce, green leaf, raw</td>\n",
       "      <td>5.44</td>\n",
       "      <td>11.48</td>\n",
       "      <td>1.35</td>\n",
       "      <td>0.047367</td>\n",
       "    </tr>\n",
       "    <tr>\n",
       "      <td>132</td>\n",
       "      <td>Vegetables and Vegetable Products</td>\n",
       "      <td>Tomatoes, orange, raw</td>\n",
       "      <td>4.64</td>\n",
       "      <td>12.72</td>\n",
       "      <td>1.71</td>\n",
       "      <td>0.049441</td>\n",
       "    </tr>\n",
       "    <tr>\n",
       "      <td>90</td>\n",
       "      <td>Vegetables and Vegetable Products</td>\n",
       "      <td>Balsam-pear (bitter gourd), pods, raw</td>\n",
       "      <td>4.00</td>\n",
       "      <td>14.80</td>\n",
       "      <td>1.53</td>\n",
       "      <td>0.052707</td>\n",
       "    </tr>\n",
       "    <tr>\n",
       "      <td>108</td>\n",
       "      <td>Vegetables and Vegetable Products</td>\n",
       "      <td>Lettuce, cos or romaine, raw</td>\n",
       "      <td>4.92</td>\n",
       "      <td>13.16</td>\n",
       "      <td>2.70</td>\n",
       "      <td>0.053874</td>\n",
       "    </tr>\n",
       "  </tbody>\n",
       "</table>\n",
       "</div>"
      ],
      "text/plain": [
       "                            Food Group  \\\n",
       "104  Vegetables and Vegetable Products   \n",
       "107  Vegetables and Vegetable Products   \n",
       "111  Vegetables and Vegetable Products   \n",
       "109  Vegetables and Vegetable Products   \n",
       "103  Vegetables and Vegetable Products   \n",
       "133  Vegetables and Vegetable Products   \n",
       "110  Vegetables and Vegetable Products   \n",
       "132  Vegetables and Vegetable Products   \n",
       "90   Vegetables and Vegetable Products   \n",
       "108  Vegetables and Vegetable Products   \n",
       "\n",
       "                                             Food Name  Protein (kcal/100g)  \\\n",
       "104                              Cucumber, peeled, raw                 2.36   \n",
       "107  Lettuce, butterhead (includes boston and bibb ...                 5.40   \n",
       "111                             Lettuce, red leaf, raw                 5.32   \n",
       "109   Lettuce, iceberg (includes crisphead types), raw                 3.60   \n",
       "103                           Cucumber, with peel, raw                 2.60   \n",
       "133                              Tomatoes, yellow, raw                 3.92   \n",
       "110                           Lettuce, green leaf, raw                 5.44   \n",
       "132                              Tomatoes, orange, raw                 4.64   \n",
       "90               Balsam-pear (bitter gourd), pods, raw                 4.00   \n",
       "108                       Lettuce, cos or romaine, raw                 4.92   \n",
       "\n",
       "     Carbohydrates (kcal/100g)  Fat (kcal/100g)      rank  \n",
       "104                       8.64             1.44  0.032252  \n",
       "107                       8.92             1.98  0.042259  \n",
       "111                       9.04             1.98  0.042363  \n",
       "109                      11.88             1.26  0.043400  \n",
       "103                      14.52             0.99  0.046952  \n",
       "133                      11.92             2.34  0.047133  \n",
       "110                      11.48             1.35  0.047367  \n",
       "132                      12.72             1.71  0.049441  \n",
       "90                       14.80             1.53  0.052707  \n",
       "108                      13.16             2.70  0.053874  "
      ]
     },
     "execution_count": 222,
     "metadata": {},
     "output_type": "execute_result"
    }
   ],
   "source": [
    "diet_kcal[diet_kcal[\"Food Group\"]==\"Vegetables and Vegetable Products\"].sort_values(by=\"rank\").head(10)"
   ]
  },
  {
   "cell_type": "markdown",
   "metadata": {},
   "source": [
    "As we can see, in the best **10 vegetables** are present **Lettuce, cucumber and tomatoes** (different kinds for the latter).  \n",
    "We decide to take the three (we search for the red one in case of tomatoe, as it is the most common)."
   ]
  },
  {
   "cell_type": "code",
   "execution_count": 223,
   "metadata": {},
   "outputs": [],
   "source": [
    "# take Lettuce, green leaf, raw and Cucumber\n",
    "lettuce = diet_kcal[diet_kcal[\"Food Name\"]==\"Lettuce, green leaf, raw\"]\n",
    "lettuce = lettuce.drop(columns=[\"Food Group\", \"rank\"]).rename(columns={\"Food Name\":\"Product\"})\n",
    "lettuce = lettuce.replace({\"Product\":{\"Lettuce, green leaf, raw\": \"Lettuces\"}})\n",
    "\n",
    "cucumber = diet_kcal[diet_kcal[\"Food Name\"]==\"Cucumber, peeled, raw\"]\n",
    "cucumber = cucumber.drop(columns=[\"Food Group\", \"rank\"]).rename(columns={\"Food Name\":\"Product\"})\n",
    "cucumber = cucumber.replace({\"Product\":{\"Cucumber, peeled, raw\": \"Cucumbers\"}})\n",
    "\n",
    "prod_diet_final = prod_diet_final.append(lettuce)\n",
    "prod_diet_final = prod_diet_final.append(cucumber)"
   ]
  },
  {
   "cell_type": "code",
   "execution_count": 224,
   "metadata": {},
   "outputs": [
    {
     "data": {
      "text/html": [
       "<div>\n",
       "<style scoped>\n",
       "    .dataframe tbody tr th:only-of-type {\n",
       "        vertical-align: middle;\n",
       "    }\n",
       "\n",
       "    .dataframe tbody tr th {\n",
       "        vertical-align: top;\n",
       "    }\n",
       "\n",
       "    .dataframe thead th {\n",
       "        text-align: right;\n",
       "    }\n",
       "</style>\n",
       "<table border=\"1\" class=\"dataframe\">\n",
       "  <thead>\n",
       "    <tr style=\"text-align: right;\">\n",
       "      <th></th>\n",
       "      <th>Food Group</th>\n",
       "      <th>Food Name</th>\n",
       "      <th>Protein (kcal/100g)</th>\n",
       "      <th>Carbohydrates (kcal/100g)</th>\n",
       "      <th>Fat (kcal/100g)</th>\n",
       "      <th>rank</th>\n",
       "    </tr>\n",
       "  </thead>\n",
       "  <tbody>\n",
       "    <tr>\n",
       "      <td>125</td>\n",
       "      <td>Vegetables and Vegetable Products</td>\n",
       "      <td>Tomatoes, green, raw</td>\n",
       "      <td>4.80</td>\n",
       "      <td>20.40</td>\n",
       "      <td>1.80</td>\n",
       "      <td>0.070000</td>\n",
       "    </tr>\n",
       "    <tr>\n",
       "      <td>126</td>\n",
       "      <td>Vegetables and Vegetable Products</td>\n",
       "      <td>Tomatoes, red, ripe, raw, year round average</td>\n",
       "      <td>3.52</td>\n",
       "      <td>15.56</td>\n",
       "      <td>1.80</td>\n",
       "      <td>0.054133</td>\n",
       "    </tr>\n",
       "    <tr>\n",
       "      <td>132</td>\n",
       "      <td>Vegetables and Vegetable Products</td>\n",
       "      <td>Tomatoes, orange, raw</td>\n",
       "      <td>4.64</td>\n",
       "      <td>12.72</td>\n",
       "      <td>1.71</td>\n",
       "      <td>0.049441</td>\n",
       "    </tr>\n",
       "    <tr>\n",
       "      <td>133</td>\n",
       "      <td>Vegetables and Vegetable Products</td>\n",
       "      <td>Tomatoes, yellow, raw</td>\n",
       "      <td>3.92</td>\n",
       "      <td>11.92</td>\n",
       "      <td>2.34</td>\n",
       "      <td>0.047133</td>\n",
       "    </tr>\n",
       "  </tbody>\n",
       "</table>\n",
       "</div>"
      ],
      "text/plain": [
       "                            Food Group  \\\n",
       "125  Vegetables and Vegetable Products   \n",
       "126  Vegetables and Vegetable Products   \n",
       "132  Vegetables and Vegetable Products   \n",
       "133  Vegetables and Vegetable Products   \n",
       "\n",
       "                                        Food Name  Protein (kcal/100g)  \\\n",
       "125                          Tomatoes, green, raw                 4.80   \n",
       "126  Tomatoes, red, ripe, raw, year round average                 3.52   \n",
       "132                         Tomatoes, orange, raw                 4.64   \n",
       "133                         Tomatoes, yellow, raw                 3.92   \n",
       "\n",
       "     Carbohydrates (kcal/100g)  Fat (kcal/100g)      rank  \n",
       "125                      20.40             1.80  0.070000  \n",
       "126                      15.56             1.80  0.054133  \n",
       "132                      12.72             1.71  0.049441  \n",
       "133                      11.92             2.34  0.047133  "
      ]
     },
     "execution_count": 224,
     "metadata": {},
     "output_type": "execute_result"
    }
   ],
   "source": [
    "#average over tomatoes\n",
    "tomatoes = diet_kcal[diet_kcal[\"Food Name\"].str.contains(\"tomatoe\", case=False)]\n",
    "tomatoes"
   ]
  },
  {
   "cell_type": "markdown",
   "metadata": {},
   "source": [
    "Found the name for the red tomatoe. Add it to the dataset:"
   ]
  },
  {
   "cell_type": "code",
   "execution_count": 225,
   "metadata": {},
   "outputs": [],
   "source": [
    "tomatoes = diet_kcal[diet_kcal[\"Food Name\"]==\"Tomatoes, red, ripe, raw, year round average\"]\n",
    "tomatoes = tomatoes.drop(columns=[\"Food Group\", \"rank\"]).rename(columns={\"Food Name\":\"Product\"})\n",
    "tomatoes = tomatoes.replace({\"Product\":{\"Tomatoes, red, ripe, raw, year round average\": \"Tomatoes\"}})\n",
    "\n",
    "prod_diet_final = prod_diet_final.append(tomatoes).reset_index(drop=True).set_index(\"Product\")"
   ]
  },
  {
   "cell_type": "markdown",
   "metadata": {},
   "source": [
    "We can finally look at **our final diet dataframe** `prod_diet_final`. This dataframe will be used in the next section to build an optimal diet **based on the production prices**"
   ]
  },
  {
   "cell_type": "code",
   "execution_count": 226,
   "metadata": {},
   "outputs": [
    {
     "data": {
      "text/html": [
       "<div>\n",
       "<style scoped>\n",
       "    .dataframe tbody tr th:only-of-type {\n",
       "        vertical-align: middle;\n",
       "    }\n",
       "\n",
       "    .dataframe tbody tr th {\n",
       "        vertical-align: top;\n",
       "    }\n",
       "\n",
       "    .dataframe thead th {\n",
       "        text-align: right;\n",
       "    }\n",
       "</style>\n",
       "<table border=\"1\" class=\"dataframe\">\n",
       "  <thead>\n",
       "    <tr style=\"text-align: right;\">\n",
       "      <th></th>\n",
       "      <th>Protein (kcal/100g)</th>\n",
       "      <th>Carbohydrates (kcal/100g)</th>\n",
       "      <th>Fat (kcal/100g)</th>\n",
       "    </tr>\n",
       "    <tr>\n",
       "      <th>Product</th>\n",
       "      <th></th>\n",
       "      <th></th>\n",
       "      <th></th>\n",
       "    </tr>\n",
       "  </thead>\n",
       "  <tbody>\n",
       "    <tr>\n",
       "      <td>Beef Meat</td>\n",
       "      <td>70.24</td>\n",
       "      <td>0.0</td>\n",
       "      <td>28.98</td>\n",
       "    </tr>\n",
       "    <tr>\n",
       "      <td>Rice</td>\n",
       "      <td>58.92</td>\n",
       "      <td>299.6</td>\n",
       "      <td>9.72</td>\n",
       "    </tr>\n",
       "    <tr>\n",
       "      <td>Barley</td>\n",
       "      <td>39.64</td>\n",
       "      <td>310.88</td>\n",
       "      <td>10.44</td>\n",
       "    </tr>\n",
       "    <tr>\n",
       "      <td>Oats</td>\n",
       "      <td>69.2</td>\n",
       "      <td>264.88</td>\n",
       "      <td>63.27</td>\n",
       "    </tr>\n",
       "    <tr>\n",
       "      <td>Apples</td>\n",
       "      <td>1.04</td>\n",
       "      <td>55.24</td>\n",
       "      <td>1.53</td>\n",
       "    </tr>\n",
       "    <tr>\n",
       "      <td>Cherries</td>\n",
       "      <td>4</td>\n",
       "      <td>48.72</td>\n",
       "      <td>2.7</td>\n",
       "    </tr>\n",
       "    <tr>\n",
       "      <td>Strawberries</td>\n",
       "      <td>2.68</td>\n",
       "      <td>30.72</td>\n",
       "      <td>2.7</td>\n",
       "    </tr>\n",
       "    <tr>\n",
       "      <td>Chicken</td>\n",
       "      <td>88.8</td>\n",
       "      <td>0</td>\n",
       "      <td>14.67</td>\n",
       "    </tr>\n",
       "    <tr>\n",
       "      <td>Beans</td>\n",
       "      <td>79.48</td>\n",
       "      <td>251.6</td>\n",
       "      <td>4.77</td>\n",
       "    </tr>\n",
       "    <tr>\n",
       "      <td>Peas</td>\n",
       "      <td>95.28</td>\n",
       "      <td>254.96</td>\n",
       "      <td>10.44</td>\n",
       "    </tr>\n",
       "    <tr>\n",
       "      <td>Lettuces</td>\n",
       "      <td>5.44</td>\n",
       "      <td>11.48</td>\n",
       "      <td>1.35</td>\n",
       "    </tr>\n",
       "    <tr>\n",
       "      <td>Cucumbers</td>\n",
       "      <td>2.36</td>\n",
       "      <td>8.64</td>\n",
       "      <td>1.44</td>\n",
       "    </tr>\n",
       "    <tr>\n",
       "      <td>Tomatoes</td>\n",
       "      <td>3.52</td>\n",
       "      <td>15.56</td>\n",
       "      <td>1.8</td>\n",
       "    </tr>\n",
       "  </tbody>\n",
       "</table>\n",
       "</div>"
      ],
      "text/plain": [
       "             Protein (kcal/100g) Carbohydrates (kcal/100g) Fat (kcal/100g)\n",
       "Product                                                                   \n",
       "Beef Meat                  70.24                       0.0           28.98\n",
       "Rice                       58.92                     299.6            9.72\n",
       "Barley                     39.64                    310.88           10.44\n",
       "Oats                        69.2                    264.88           63.27\n",
       "Apples                      1.04                     55.24            1.53\n",
       "Cherries                       4                     48.72             2.7\n",
       "Strawberries                2.68                     30.72             2.7\n",
       "Chicken                     88.8                         0           14.67\n",
       "Beans                      79.48                     251.6            4.77\n",
       "Peas                       95.28                    254.96           10.44\n",
       "Lettuces                    5.44                     11.48            1.35\n",
       "Cucumbers                   2.36                      8.64            1.44\n",
       "Tomatoes                    3.52                     15.56             1.8"
      ]
     },
     "execution_count": 226,
     "metadata": {},
     "output_type": "execute_result"
    }
   ],
   "source": [
    "prod_diet_final"
   ]
  },
  {
   "cell_type": "markdown",
   "metadata": {},
   "source": [
    "## 4) Final filter on the prices to retain only the needed ones\n",
    "We need now to prepare the prices matrix for the next section. In order to do so, we filter the product we have in the `prices` dataframe accordingly with what we have delined in the last part.  \n",
    "Theoretically, we should have **65 elements** in the final dataframe (5 countries, 13 products)"
   ]
  },
  {
   "cell_type": "code",
   "execution_count": 227,
   "metadata": {},
   "outputs": [],
   "source": [
    "# a conversion in float for all the prices just to be sure\n",
    "prices.Price = prices.Price.apply(lambda x: float(x))"
   ]
  },
  {
   "cell_type": "code",
   "execution_count": 228,
   "metadata": {},
   "outputs": [
    {
     "data": {
      "text/plain": [
       "55"
      ]
     },
     "execution_count": 228,
     "metadata": {},
     "output_type": "execute_result"
    }
   ],
   "source": [
    "prices_final = prices[prices.Product.isin(prod_diet_final.index.values)]\n",
    "prices_final.index.size"
   ]
  },
  {
   "cell_type": "markdown",
   "metadata": {},
   "source": [
    "We miss **2** products. We must investigate over those:"
   ]
  },
  {
   "cell_type": "code",
   "execution_count": 229,
   "metadata": {},
   "outputs": [
    {
     "name": "stdout",
     "output_type": "stream",
     "text": [
      "Set of missing product in prices: {'Beef Meat', 'Barley'}\n"
     ]
    }
   ],
   "source": [
    "print(\"Set of missing product in prices:\", set(prod_diet_final.index.values) - set(prices_final.Product.unique()))"
   ]
  },
  {
   "cell_type": "markdown",
   "metadata": {},
   "source": [
    "Probably these products have another name in the previous dataframe (as example, _\"Beef Meat\"_ was set as _\"Meat\"_ by us).  \n",
    "We look into these problems and manually solve them"
   ]
  },
  {
   "cell_type": "code",
   "execution_count": 230,
   "metadata": {},
   "outputs": [
    {
     "data": {
      "text/html": [
       "<div>\n",
       "<style scoped>\n",
       "    .dataframe tbody tr th:only-of-type {\n",
       "        vertical-align: middle;\n",
       "    }\n",
       "\n",
       "    .dataframe tbody tr th {\n",
       "        vertical-align: top;\n",
       "    }\n",
       "\n",
       "    .dataframe thead th {\n",
       "        text-align: right;\n",
       "    }\n",
       "</style>\n",
       "<table border=\"1\" class=\"dataframe\">\n",
       "  <thead>\n",
       "    <tr style=\"text-align: right;\">\n",
       "      <th></th>\n",
       "      <th>Country</th>\n",
       "      <th>Product</th>\n",
       "      <th>Price</th>\n",
       "    </tr>\n",
       "  </thead>\n",
       "  <tbody>\n",
       "    <tr>\n",
       "      <td>60</td>\n",
       "      <td>United Kingdom</td>\n",
       "      <td>Meat</td>\n",
       "      <td>4081.0</td>\n",
       "    </tr>\n",
       "    <tr>\n",
       "      <td>61</td>\n",
       "      <td>Spain</td>\n",
       "      <td>Meat</td>\n",
       "      <td>2774.8</td>\n",
       "    </tr>\n",
       "    <tr>\n",
       "      <td>62</td>\n",
       "      <td>Germany</td>\n",
       "      <td>Meat</td>\n",
       "      <td>4033.1</td>\n",
       "    </tr>\n",
       "    <tr>\n",
       "      <td>63</td>\n",
       "      <td>Italy</td>\n",
       "      <td>Meat</td>\n",
       "      <td>3762.0</td>\n",
       "    </tr>\n",
       "    <tr>\n",
       "      <td>64</td>\n",
       "      <td>France</td>\n",
       "      <td>Meat</td>\n",
       "      <td>4549.5</td>\n",
       "    </tr>\n",
       "  </tbody>\n",
       "</table>\n",
       "</div>"
      ],
      "text/plain": [
       "           Country Product   Price\n",
       "60  United Kingdom    Meat  4081.0\n",
       "61           Spain    Meat  2774.8\n",
       "62         Germany    Meat  4033.1\n",
       "63           Italy    Meat  3762.0\n",
       "64          France    Meat  4549.5"
      ]
     },
     "execution_count": 230,
     "metadata": {},
     "output_type": "execute_result"
    }
   ],
   "source": [
    "# check for Meat\n",
    "prices[prices.Product.str.contains(\"Meat\")]"
   ]
  },
  {
   "cell_type": "markdown",
   "metadata": {},
   "source": [
    "As expected, we have _\"Meat\"_ instead of _\"Beef Meat\"_. Fixing it:"
   ]
  },
  {
   "cell_type": "code",
   "execution_count": 231,
   "metadata": {},
   "outputs": [],
   "source": [
    "prices = prices.replace({\"Product\":{\"Meat\": \"Beef Meat\"}})"
   ]
  },
  {
   "cell_type": "code",
   "execution_count": 232,
   "metadata": {},
   "outputs": [
    {
     "data": {
      "text/html": [
       "<div>\n",
       "<style scoped>\n",
       "    .dataframe tbody tr th:only-of-type {\n",
       "        vertical-align: middle;\n",
       "    }\n",
       "\n",
       "    .dataframe tbody tr th {\n",
       "        vertical-align: top;\n",
       "    }\n",
       "\n",
       "    .dataframe thead th {\n",
       "        text-align: right;\n",
       "    }\n",
       "</style>\n",
       "<table border=\"1\" class=\"dataframe\">\n",
       "  <thead>\n",
       "    <tr style=\"text-align: right;\">\n",
       "      <th></th>\n",
       "      <th>Country</th>\n",
       "      <th>Product</th>\n",
       "      <th>Price</th>\n",
       "    </tr>\n",
       "  </thead>\n",
       "  <tbody>\n",
       "    <tr>\n",
       "      <td>40</td>\n",
       "      <td>United Kingdom</td>\n",
       "      <td>Feed Barley</td>\n",
       "      <td>155.11</td>\n",
       "    </tr>\n",
       "    <tr>\n",
       "      <td>41</td>\n",
       "      <td>France</td>\n",
       "      <td>Feed Barley</td>\n",
       "      <td>171.22</td>\n",
       "    </tr>\n",
       "    <tr>\n",
       "      <td>42</td>\n",
       "      <td>Germany</td>\n",
       "      <td>Feed Barley</td>\n",
       "      <td>156.54</td>\n",
       "    </tr>\n",
       "    <tr>\n",
       "      <td>43</td>\n",
       "      <td>Spain</td>\n",
       "      <td>Feed Barley</td>\n",
       "      <td>175.67</td>\n",
       "    </tr>\n",
       "    <tr>\n",
       "      <td>44</td>\n",
       "      <td>Italy</td>\n",
       "      <td>Feed Barley</td>\n",
       "      <td>172.92</td>\n",
       "    </tr>\n",
       "    <tr>\n",
       "      <td>55</td>\n",
       "      <td>Germany</td>\n",
       "      <td>Malting Barley</td>\n",
       "      <td>209.30</td>\n",
       "    </tr>\n",
       "    <tr>\n",
       "      <td>56</td>\n",
       "      <td>United Kingdom</td>\n",
       "      <td>Malting Barley</td>\n",
       "      <td>177.60</td>\n",
       "    </tr>\n",
       "    <tr>\n",
       "      <td>57</td>\n",
       "      <td>Italy</td>\n",
       "      <td>Malting Barley</td>\n",
       "      <td>207.90</td>\n",
       "    </tr>\n",
       "    <tr>\n",
       "      <td>58</td>\n",
       "      <td>Spain</td>\n",
       "      <td>Malting Barley</td>\n",
       "      <td>180.00</td>\n",
       "    </tr>\n",
       "    <tr>\n",
       "      <td>59</td>\n",
       "      <td>France</td>\n",
       "      <td>Malting Barley</td>\n",
       "      <td>195.27</td>\n",
       "    </tr>\n",
       "  </tbody>\n",
       "</table>\n",
       "</div>"
      ],
      "text/plain": [
       "           Country         Product   Price\n",
       "40  United Kingdom     Feed Barley  155.11\n",
       "41          France     Feed Barley  171.22\n",
       "42         Germany     Feed Barley  156.54\n",
       "43           Spain     Feed Barley  175.67\n",
       "44           Italy     Feed Barley  172.92\n",
       "55         Germany  Malting Barley  209.30\n",
       "56  United Kingdom  Malting Barley  177.60\n",
       "57           Italy  Malting Barley  207.90\n",
       "58           Spain  Malting Barley  180.00\n",
       "59          France  Malting Barley  195.27"
      ]
     },
     "execution_count": 232,
     "metadata": {},
     "output_type": "execute_result"
    }
   ],
   "source": [
    "# check for Barley\n",
    "prices[prices.Product.str.contains(\"Barley\")]"
   ]
  },
  {
   "cell_type": "markdown",
   "metadata": {},
   "source": [
    "For this case, we have _\"Feed Barley\"_ and _\"Malting Barley\"_ from which choose. As we don't know from which kind of barley is derived the one we are considering in the `USDA_food` we decide to take an **average** between the two prices"
   ]
  },
  {
   "cell_type": "code",
   "execution_count": 233,
   "metadata": {},
   "outputs": [],
   "source": [
    "barleys = prices[prices.Product.str.contains(\"Barley\")]\n",
    "barleys = barleys.groupby([\"Country\"]).mean().reset_index()\n",
    "barleys[\"Product\"] = \"Barley\"\n",
    "barleys = barleys[[\"Country\", \"Product\", \"Price\"]]\n",
    "prices = prices.append(barleys)"
   ]
  },
  {
   "cell_type": "markdown",
   "metadata": {},
   "source": [
    "After the final fix, we can now print the **`prices_final` dataframe** for the prices for our interesting product for all the countries"
   ]
  },
  {
   "cell_type": "code",
   "execution_count": 234,
   "metadata": {},
   "outputs": [
    {
     "data": {
      "text/html": [
       "<div>\n",
       "<style scoped>\n",
       "    .dataframe tbody tr th:only-of-type {\n",
       "        vertical-align: middle;\n",
       "    }\n",
       "\n",
       "    .dataframe tbody tr th {\n",
       "        vertical-align: top;\n",
       "    }\n",
       "\n",
       "    .dataframe thead th {\n",
       "        text-align: right;\n",
       "    }\n",
       "</style>\n",
       "<table border=\"1\" class=\"dataframe\">\n",
       "  <thead>\n",
       "    <tr style=\"text-align: right;\">\n",
       "      <th></th>\n",
       "      <th>Country</th>\n",
       "      <th>Product</th>\n",
       "      <th>Price</th>\n",
       "    </tr>\n",
       "  </thead>\n",
       "  <tbody>\n",
       "    <tr>\n",
       "      <td>0</td>\n",
       "      <td>United Kingdom</td>\n",
       "      <td>Apples</td>\n",
       "      <td>1343.400000</td>\n",
       "    </tr>\n",
       "    <tr>\n",
       "      <td>1</td>\n",
       "      <td>Italy</td>\n",
       "      <td>Apples</td>\n",
       "      <td>713.742857</td>\n",
       "    </tr>\n",
       "    <tr>\n",
       "      <td>2</td>\n",
       "      <td>France</td>\n",
       "      <td>Apples</td>\n",
       "      <td>1029.792500</td>\n",
       "    </tr>\n",
       "    <tr>\n",
       "      <td>3</td>\n",
       "      <td>Spain</td>\n",
       "      <td>Apples</td>\n",
       "      <td>898.040000</td>\n",
       "    </tr>\n",
       "    <tr>\n",
       "      <td>4</td>\n",
       "      <td>Germany</td>\n",
       "      <td>Apples</td>\n",
       "      <td>597.443000</td>\n",
       "    </tr>\n",
       "  </tbody>\n",
       "</table>\n",
       "</div>"
      ],
      "text/plain": [
       "          Country Product        Price\n",
       "0  United Kingdom  Apples  1343.400000\n",
       "1           Italy  Apples   713.742857\n",
       "2          France  Apples  1029.792500\n",
       "3           Spain  Apples   898.040000\n",
       "4         Germany  Apples   597.443000"
      ]
     },
     "execution_count": 234,
     "metadata": {},
     "output_type": "execute_result"
    }
   ],
   "source": [
    "prices_final = prices[prices.Product.isin(prod_diet_final.index.values)]\n",
    "prices_final.head()"
   ]
  },
  {
   "cell_type": "markdown",
   "metadata": {},
   "source": [
    "We need to elaborate a bit this dataframe. For our subsequent section, we need a **matrix with countries as index and product as columns**. We therefore work on the last dataframe a bit and produce a final one named `final_prices`"
   ]
  },
  {
   "cell_type": "code",
   "execution_count": 235,
   "metadata": {},
   "outputs": [
    {
     "data": {
      "text/html": [
       "<div>\n",
       "<style scoped>\n",
       "    .dataframe tbody tr th:only-of-type {\n",
       "        vertical-align: middle;\n",
       "    }\n",
       "\n",
       "    .dataframe tbody tr th {\n",
       "        vertical-align: top;\n",
       "    }\n",
       "\n",
       "    .dataframe thead th {\n",
       "        text-align: right;\n",
       "    }\n",
       "</style>\n",
       "<table border=\"1\" class=\"dataframe\">\n",
       "  <thead>\n",
       "    <tr style=\"text-align: right;\">\n",
       "      <th></th>\n",
       "      <th>Apples</th>\n",
       "      <th>Barley</th>\n",
       "      <th>Beans</th>\n",
       "      <th>Beef Meat</th>\n",
       "      <th>Cherries</th>\n",
       "      <th>Chicken</th>\n",
       "      <th>Cucumbers</th>\n",
       "      <th>Lettuces</th>\n",
       "      <th>Oats</th>\n",
       "      <th>Peas</th>\n",
       "      <th>Rice</th>\n",
       "      <th>Strawberries</th>\n",
       "      <th>Tomatoes</th>\n",
       "    </tr>\n",
       "    <tr>\n",
       "      <th>Country</th>\n",
       "      <th></th>\n",
       "      <th></th>\n",
       "      <th></th>\n",
       "      <th></th>\n",
       "      <th></th>\n",
       "      <th></th>\n",
       "      <th></th>\n",
       "      <th></th>\n",
       "      <th></th>\n",
       "      <th></th>\n",
       "      <th></th>\n",
       "      <th></th>\n",
       "      <th></th>\n",
       "    </tr>\n",
       "  </thead>\n",
       "  <tbody>\n",
       "    <tr>\n",
       "      <td>France</td>\n",
       "      <td>1029.792500</td>\n",
       "      <td>183.245</td>\n",
       "      <td>262.90</td>\n",
       "      <td>4549.5</td>\n",
       "      <td>4450.60</td>\n",
       "      <td>2530.00</td>\n",
       "      <td>951.7</td>\n",
       "      <td>1269.30</td>\n",
       "      <td>145.7</td>\n",
       "      <td>356.80</td>\n",
       "      <td>372.0</td>\n",
       "      <td>3438.60</td>\n",
       "      <td>779.0</td>\n",
       "    </tr>\n",
       "    <tr>\n",
       "      <td>Germany</td>\n",
       "      <td>597.443000</td>\n",
       "      <td>182.920</td>\n",
       "      <td>2347.80</td>\n",
       "      <td>4033.1</td>\n",
       "      <td>3648.37</td>\n",
       "      <td>3174.38</td>\n",
       "      <td>753.1</td>\n",
       "      <td>473.22</td>\n",
       "      <td>182.7</td>\n",
       "      <td>2848.30</td>\n",
       "      <td>345.9</td>\n",
       "      <td>3404.50</td>\n",
       "      <td>1945.3</td>\n",
       "    </tr>\n",
       "    <tr>\n",
       "      <td>Italy</td>\n",
       "      <td>713.742857</td>\n",
       "      <td>190.410</td>\n",
       "      <td>1931.16</td>\n",
       "      <td>3762.0</td>\n",
       "      <td>2134.00</td>\n",
       "      <td>2244.77</td>\n",
       "      <td>748.0</td>\n",
       "      <td>1159.29</td>\n",
       "      <td>272.3</td>\n",
       "      <td>1323.63</td>\n",
       "      <td>403.7</td>\n",
       "      <td>1952.83</td>\n",
       "      <td>1003.4</td>\n",
       "    </tr>\n",
       "    <tr>\n",
       "      <td>Spain</td>\n",
       "      <td>898.040000</td>\n",
       "      <td>177.835</td>\n",
       "      <td>1921.40</td>\n",
       "      <td>2774.8</td>\n",
       "      <td>1815.00</td>\n",
       "      <td>1671.23</td>\n",
       "      <td>644.8</td>\n",
       "      <td>906.62</td>\n",
       "      <td>171.3</td>\n",
       "      <td>506.40</td>\n",
       "      <td>344.6</td>\n",
       "      <td>1259.06</td>\n",
       "      <td>372.4</td>\n",
       "    </tr>\n",
       "    <tr>\n",
       "      <td>United Kingdom</td>\n",
       "      <td>1343.400000</td>\n",
       "      <td>166.355</td>\n",
       "      <td>2907.00</td>\n",
       "      <td>4081.0</td>\n",
       "      <td>4574.90</td>\n",
       "      <td>1845.69</td>\n",
       "      <td>1218.0</td>\n",
       "      <td>893.75</td>\n",
       "      <td>193.4</td>\n",
       "      <td>2861.60</td>\n",
       "      <td>380.7</td>\n",
       "      <td>2949.54</td>\n",
       "      <td>1320.7</td>\n",
       "    </tr>\n",
       "  </tbody>\n",
       "</table>\n",
       "</div>"
      ],
      "text/plain": [
       "                     Apples   Barley    Beans  Beef Meat  Cherries  Chicken  \\\n",
       "Country                                                                       \n",
       "France          1029.792500  183.245   262.90     4549.5   4450.60  2530.00   \n",
       "Germany          597.443000  182.920  2347.80     4033.1   3648.37  3174.38   \n",
       "Italy            713.742857  190.410  1931.16     3762.0   2134.00  2244.77   \n",
       "Spain            898.040000  177.835  1921.40     2774.8   1815.00  1671.23   \n",
       "United Kingdom  1343.400000  166.355  2907.00     4081.0   4574.90  1845.69   \n",
       "\n",
       "                Cucumbers  Lettuces   Oats     Peas   Rice  Strawberries  \\\n",
       "Country                                                                    \n",
       "France              951.7   1269.30  145.7   356.80  372.0       3438.60   \n",
       "Germany             753.1    473.22  182.7  2848.30  345.9       3404.50   \n",
       "Italy               748.0   1159.29  272.3  1323.63  403.7       1952.83   \n",
       "Spain               644.8    906.62  171.3   506.40  344.6       1259.06   \n",
       "United Kingdom     1218.0    893.75  193.4  2861.60  380.7       2949.54   \n",
       "\n",
       "                Tomatoes  \n",
       "Country                   \n",
       "France             779.0  \n",
       "Germany           1945.3  \n",
       "Italy             1003.4  \n",
       "Spain              372.4  \n",
       "United Kingdom    1320.7  "
      ]
     },
     "execution_count": 235,
     "metadata": {},
     "output_type": "execute_result"
    }
   ],
   "source": [
    "# reshaping with pivot\n",
    "final_prices = pd.pivot_table(prices_final, index=\"Country\", columns=\"Product\", aggfunc=\"first\")\n",
    "\n",
    "#cleaning\n",
    "final_prices.index = final_prices.index.to_flat_index()\n",
    "final_prices.columns = final_prices.columns.get_level_values(1)\n",
    "final_prices.columns.name = None\n",
    "\n",
    "# final print\n",
    "final_prices"
   ]
  },
  {
   "cell_type": "markdown",
   "metadata": {},
   "source": [
    "*Final footnote*: the values here reported are **USD/tonnes**"
   ]
  }
 ],
 "metadata": {
  "kernelspec": {
   "display_name": "Python 3",
   "language": "python",
   "name": "python3"
  },
  "language_info": {
   "codemirror_mode": {
    "name": "ipython",
    "version": 3
   },
   "file_extension": ".py",
   "mimetype": "text/x-python",
   "name": "python",
   "nbconvert_exporter": "python",
   "pygments_lexer": "ipython3",
   "version": "3.7.4"
  }
 },
 "nbformat": 4,
 "nbformat_minor": 4
}
