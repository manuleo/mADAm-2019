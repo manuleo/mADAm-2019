{
 "cells": [
  {
   "cell_type": "code",
   "execution_count": 4,
   "metadata": {},
   "outputs": [],
   "source": [
    "%matplotlib inline\n",
    "import pandas as pd\n",
    "import numpy as np\n",
    "import re\n",
    "from matplotlib.ticker import MaxNLocator\n",
    "import matplotlib.pyplot as plt\n",
    "from requests import get\n",
    "from bs4 import BeautifulSoup\n",
    "from collections import defaultdict\n",
    "\n",
    "plt.rcParams[\"figure.figsize\"] = (15,8) #set size of plot"
   ]
  },
  {
   "cell_type": "markdown",
   "metadata": {},
   "source": [
    "# Start working"
   ]
  },
  {
   "cell_type": "markdown",
   "metadata": {},
   "source": [
    "## Finding calories needed for each country\n",
    "The first need we need to do for our analysis is to find the total calories demand in each country... **write other things to start**"
   ]
  },
  {
   "cell_type": "markdown",
   "metadata": {},
   "source": [
    "### Working on calories demand  \n",
    "We load the calories demand datasets we scraped for the webpage [Calories](https://health.gov/dietaryguidelines/2015/guidelines/appendix-2/), datasets will we working on to match with population data"
   ]
  },
  {
   "cell_type": "code",
   "execution_count": 5,
   "metadata": {},
   "outputs": [],
   "source": [
    "male_calory_demand = pd.read_excel(\"data/calories_demand.xlsx\",header =None, sheet_name=0, names=['age', 'sedentary', 'moderate', 'active'])"
   ]
  },
  {
   "cell_type": "code",
   "execution_count": 6,
   "metadata": {},
   "outputs": [],
   "source": [
    "females_calory_demand =  pd.read_excel(\"data/calories_demand.xlsx\",header =None, sheet_name=1, names=['age', 'sedentary', 'moderate', 'active'])"
   ]
  },
  {
   "cell_type": "markdown",
   "metadata": {},
   "source": [
    "In order to better work with the information we have collected, we will make some simplifications on the data. Mainly, we will:\n",
    "- in the calories demands database, assume an average of necessary input per age\n",
    "- group the ages into ranges that match the ranges provided in the World Population Database"
   ]
  },
  {
   "cell_type": "code",
   "execution_count": 7,
   "metadata": {},
   "outputs": [],
   "source": [
    "def input_average(data_frame):\n",
    "    result = data_frame.copy()\n",
    "    result['input (KCal)'] = result.mean(axis=1) #computing the mean\n",
    "    result = result.drop(columns=['sedentary', 'moderate', 'active']) #we keep only the mean\n",
    "    return result"
   ]
  },
  {
   "cell_type": "code",
   "execution_count": 8,
   "metadata": {},
   "outputs": [],
   "source": [
    "male_calories_avg = input_average(male_calory_demand)\n",
    "females_calories_avg = input_average(females_calory_demand)"
   ]
  },
  {
   "cell_type": "markdown",
   "metadata": {},
   "source": [
    "We have now obtained a caloric demand average for simpler calculations in the future and stored in the two precedent datasets.  \n",
    "Now, we need a  way to match the age groups in this dataframe, to the ones in the population database we obtained. As such, let's analyse how ages are represented in our calory demand dataframes."
   ]
  },
  {
   "cell_type": "code",
   "execution_count": 9,
   "metadata": {},
   "outputs": [
    {
     "data": {
      "text/plain": [
       "array([2, 3, 4, 5, 6, 7, 8, 9, 10, 11, 12, 13, 14, 15, 16, 17, 18,\n",
       "       '19-20', '21-25', '26-30', '31-35', '36-40', '41-45', '46-50',\n",
       "       '51-55', '56-60', '61-65', '66-70', '71-75', '76 and up', nan],\n",
       "      dtype=object)"
      ]
     },
     "execution_count": 9,
     "metadata": {},
     "output_type": "execute_result"
    }
   ],
   "source": [
    "male_calories_avg['age'].unique()"
   ]
  },
  {
   "cell_type": "markdown",
   "metadata": {},
   "source": [
    "We can see there are ranges of ages with different sizes (which makes sense, because different age groups have different caloric needs). We'll present a function that creates one row per individual age"
   ]
  },
  {
   "cell_type": "code",
   "execution_count": 10,
   "metadata": {},
   "outputs": [],
   "source": [
    "def single_age(age_range):\n",
    "    if type(age_range) ==  float: # nans are the only floats in the age column\n",
    "        return -1\n",
    "    elif type(age_range) == int:\n",
    "        return age_range\n",
    "    elif re.search('\\d-\\d', age_range):\n",
    "        group = age_range.split('-')\n",
    "        return list(range(int(group[0]), int(group[1])+1))\n",
    "    elif age_range == \"76 and up\":\n",
    "        return list(range(76, 101+1))"
   ]
  },
  {
   "cell_type": "code",
   "execution_count": 11,
   "metadata": {},
   "outputs": [],
   "source": [
    "def explode_age(data_frame):\n",
    "    accum = []\n",
    "    for i in data_frame.index:\n",
    "        row = data_frame.loc[i]\n",
    "        single = single_age(row['age'])\n",
    "        if single == -1: # we ignore the nan values, as their rows are empty\n",
    "            continue\n",
    "        if type(single) == int:\n",
    "            accum.append((single, row['input (KCal)']))\n",
    "        elif type(single) == list:\n",
    "            accum.extend([(x, row['input (KCal)']) for x in single]) \n",
    "    return pd.DataFrame(accum, columns=data_frame.columns)"
   ]
  },
  {
   "cell_type": "markdown",
   "metadata": {},
   "source": [
    "We apply the function to our two dataframe:"
   ]
  },
  {
   "cell_type": "code",
   "execution_count": 12,
   "metadata": {},
   "outputs": [],
   "source": [
    "male_explode = explode_age(male_calories_avg)\n",
    "female_explode = explode_age(females_calories_avg)"
   ]
  },
  {
   "cell_type": "code",
   "execution_count": 13,
   "metadata": {},
   "outputs": [
    {
     "data": {
      "text/plain": [
       "array([  2,   3,   4,   5,   6,   7,   8,   9,  10,  11,  12,  13,  14,\n",
       "        15,  16,  17,  18,  19,  20,  21,  22,  23,  24,  25,  26,  27,\n",
       "        28,  29,  30,  31,  32,  33,  34,  35,  36,  37,  38,  39,  40,\n",
       "        41,  42,  43,  44,  45,  46,  47,  48,  49,  50,  51,  52,  53,\n",
       "        54,  55,  56,  57,  58,  59,  60,  61,  62,  63,  64,  65,  66,\n",
       "        67,  68,  69,  70,  71,  72,  73,  74,  75,  76,  77,  78,  79,\n",
       "        80,  81,  82,  83,  84,  85,  86,  87,  88,  89,  90,  91,  92,\n",
       "        93,  94,  95,  96,  97,  98,  99, 100, 101])"
      ]
     },
     "execution_count": 13,
     "metadata": {},
     "output_type": "execute_result"
    }
   ],
   "source": [
    "male_explode['age'].unique()"
   ]
  },
  {
   "cell_type": "markdown",
   "metadata": {},
   "source": [
    "Ages are now unique in each dataframe ( `male_explode` and `female_explode` ) and there's a caloric input value for each of them."
   ]
  },
  {
   "cell_type": "markdown",
   "metadata": {},
   "source": [
    "#### Joao please comment the next two function and the code in the cells"
   ]
  },
  {
   "cell_type": "markdown",
   "metadata": {},
   "source": [
    "The last step to allow the match with the population database is to build the **same age groups** we have in that set.  \n",
    "We do this in the next two functions:"
   ]
  },
  {
   "cell_type": "code",
   "execution_count": 14,
   "metadata": {},
   "outputs": [],
   "source": [
    "def group(age):\n",
    "    i = int(5*(age//5))\n",
    "    return \"{}-{}\".format(i, i+4)"
   ]
  },
  {
   "cell_type": "code",
   "execution_count": 15,
   "metadata": {},
   "outputs": [],
   "source": [
    "def compress_ages(data_frame):\n",
    "    accum = defaultdict(list)\n",
    "    for i in data_frame.index:\n",
    "        row = data_frame.loc[i]\n",
    "        g_id = group(row['age'])\n",
    "        if g_id == \"100-104\":\n",
    "            g_id = \"100+\"\n",
    "        accum[g_id].append(row['input (KCal)'])\n",
    "    for i in accum:\n",
    "        accum[i] = sum(accum[i]) / len(accum[i])\n",
    "    return pd.DataFrame.from_dict(accum, orient='index')"
   ]
  },
  {
   "cell_type": "markdown",
   "metadata": {},
   "source": [
    "We can lastly apply the functions to the dataframes:"
   ]
  },
  {
   "cell_type": "code",
   "execution_count": 16,
   "metadata": {},
   "outputs": [],
   "source": [
    "new_male_need = compress_ages(male_explode)\n",
    "new_female_need = compress_ages(female_explode)"
   ]
  },
  {
   "cell_type": "markdown",
   "metadata": {},
   "source": [
    "We also use the age group as new index and rename the columns:"
   ]
  },
  {
   "cell_type": "code",
   "execution_count": 17,
   "metadata": {},
   "outputs": [],
   "source": [
    "new_male_need.index.name = 'age_group'\n",
    "new_male_need = new_male_need.rename(columns={0: 'input (KCal)'})\n",
    "new_female_need.index.name = 'age_group'\n",
    "new_female_need = new_female_need.rename(columns={0: 'input (KCal)'})"
   ]
  },
  {
   "cell_type": "markdown",
   "metadata": {},
   "source": [
    "Let's see the result we have achieved and collected in our matchable dataframe `new_male_need` and `new_female_need`"
   ]
  },
  {
   "cell_type": "code",
   "execution_count": 18,
   "metadata": {},
   "outputs": [
    {
     "data": {
      "text/html": [
       "<div>\n",
       "<style scoped>\n",
       "    .dataframe tbody tr th:only-of-type {\n",
       "        vertical-align: middle;\n",
       "    }\n",
       "\n",
       "    .dataframe tbody tr th {\n",
       "        vertical-align: top;\n",
       "    }\n",
       "\n",
       "    .dataframe thead th {\n",
       "        text-align: right;\n",
       "    }\n",
       "</style>\n",
       "<table border=\"1\" class=\"dataframe\">\n",
       "  <thead>\n",
       "    <tr style=\"text-align: right;\">\n",
       "      <th></th>\n",
       "      <th>input (KCal)</th>\n",
       "    </tr>\n",
       "    <tr>\n",
       "      <th>age_group</th>\n",
       "      <th></th>\n",
       "    </tr>\n",
       "  </thead>\n",
       "  <tbody>\n",
       "    <tr>\n",
       "      <td>0-4</td>\n",
       "      <td>1222.222222</td>\n",
       "    </tr>\n",
       "    <tr>\n",
       "      <td>5-9</td>\n",
       "      <td>1613.333333</td>\n",
       "    </tr>\n",
       "    <tr>\n",
       "      <td>10-14</td>\n",
       "      <td>2133.333333</td>\n",
       "    </tr>\n",
       "    <tr>\n",
       "      <td>15-19</td>\n",
       "      <td>2760.000000</td>\n",
       "    </tr>\n",
       "    <tr>\n",
       "      <td>20-24</td>\n",
       "      <td>2746.666667</td>\n",
       "    </tr>\n",
       "  </tbody>\n",
       "</table>\n",
       "</div>"
      ],
      "text/plain": [
       "           input (KCal)\n",
       "age_group              \n",
       "0-4         1222.222222\n",
       "5-9         1613.333333\n",
       "10-14       2133.333333\n",
       "15-19       2760.000000\n",
       "20-24       2746.666667"
      ]
     },
     "execution_count": 18,
     "metadata": {},
     "output_type": "execute_result"
    }
   ],
   "source": [
    "new_male_need.head()"
   ]
  },
  {
   "cell_type": "markdown",
   "metadata": {},
   "source": [
    "## Computing total calories by matching "
   ]
  },
  {
   "cell_type": "markdown",
   "metadata": {},
   "source": [
    "**We now move on the matching with the *World Population Database* (United Nation) to compute the total calories needed in each country since 1950 to 2020**  \n",
    "Matching with a precise dataset like this one is essential to take count of the demographics inside each country  \n",
    "  \n",
    "  \n",
    "Firstly, we load the list of African countries (to filter the DB) and the two Databases (one for males, the other for females)  \n",
    "*A note*: the values in the population dataframe are reported in **thousands**"
   ]
  },
  {
   "cell_type": "code",
   "execution_count": 19,
   "metadata": {},
   "outputs": [],
   "source": [
    "with open (\"data/african_countries.txt\",'r', encoding='latin-1') as af_c:\n",
    "    af_countries = [line.rstrip() for line in af_c] #loading list"
   ]
  },
  {
   "cell_type": "markdown",
   "metadata": {},
   "source": [
    "In the next cell we are going to remove a list of countries for which **no data is availble** in the FAO Database that we will analyse later on in the notebook. The countries that will be deleted are the following: **Burundi, Comoros, Democratic Republic of the Congo, Equatorial Guinea, Libya ,Seychelles, Western Sahara, South Sudan, and Somalia**. Furthermore we noticed that in this list there are two French islands which are indipendent and hence beyond our analysis. As a consequence, we decide to drop these two small island **Mayotte** and **Réunion**."
   ]
  },
  {
   "cell_type": "code",
   "execution_count": 20,
   "metadata": {},
   "outputs": [],
   "source": [
    "af_to_remove = ['Burundi','Comoros','Democratic Republic of the Congo','Equatorial Guinea','South Sudan','Libya','Seychelles','Western Sahara','Somalia','Mayotte','Réunion']\n",
    "af_countries = [i for i in af_countries if not i in af_to_remove]"
   ]
  },
  {
   "cell_type": "markdown",
   "metadata": {},
   "source": [
    "Loading and cleaning the dataset to be prepared for merging (they represent unuseful columns with long names)"
   ]
  },
  {
   "cell_type": "code",
   "execution_count": 21,
   "metadata": {},
   "outputs": [],
   "source": [
    "#loading datasets\n",
    "pop_male = pd.read_excel(\"data/POPULATION_BY_AGE_MALE.xlsx\", sheet_name=\"ESTIMATES\")\n",
    "pop_female = pd.read_excel(\"data/POPULATION_BY_AGE_FEMALE.xlsx\", sheet_name=\"ESTIMATES\")"
   ]
  },
  {
   "cell_type": "code",
   "execution_count": 22,
   "metadata": {},
   "outputs": [],
   "source": [
    "#cleaning male population dataset\n",
    "pop_male.drop(columns=[\"Index\", \"Variant\", \"Notes\", \"Country code\", \"Type\", \"Parent code\"], inplace=True)\n",
    "pop_male.rename(columns={\"Reference date (as of 1 July)\": \"year\", \"Region, subregion, country or area *\": \"country\"}, inplace=True)\n",
    "#taking only african countries\n",
    "pop_male = pop_male[pop_male['country'].isin(af_countries)]\n",
    "\n",
    "#cleaning female dataset\n",
    "pop_female.drop(columns=[\"Index\", \"Variant\", \"Notes\", \"Country code\", \"Type\", \"Parent code\"], inplace=True)\n",
    "pop_female.rename(columns={\"Reference date (as of 1 July)\": \"year\", \"Region, subregion, country or area *\": \"country\"}, inplace=True)\n",
    "#only african\n",
    "pop_female = pop_female[pop_female['country'].isin(af_countries)]"
   ]
  },
  {
   "cell_type": "markdown",
   "metadata": {},
   "source": [
    "Now we multiply each column of the population data (as we said, in thousand) for each matching `age_group` in the calories table (that here we squeeze to allow the multiplication, similar to a transpose rows/columns of the dataset).  \n",
    "We obtain two datasets: `total_cal_male` and `total_cal_female` reporting total calories needed for **each country in each year per age group per gender**"
   ]
  },
  {
   "cell_type": "code",
   "execution_count": 23,
   "metadata": {},
   "outputs": [],
   "source": [
    "#total calories male\n",
    "pop_mal_mult = pop_male.drop(columns=[\"country\", \"year\"])\n",
    "male_mult_res = pop_mal_mult.multiply(new_male_need.squeeze()) # squeeze adapts the dimension of the dataframe\n",
    "#rejoin with old dataframe and delete old column (just population)\n",
    "total_cal_male = pop_male.join(male_mult_res, lsuffix=\"_old\")\n",
    "total_cal_male = total_cal_male[total_cal_male.columns[~total_cal_male.columns.str.endswith('_old')]]"
   ]
  },
  {
   "cell_type": "code",
   "execution_count": 24,
   "metadata": {},
   "outputs": [],
   "source": [
    "#total calories female\n",
    "pop_fem_mult = pop_female.drop(columns=[\"country\", \"year\"])\n",
    "female_mult_res = pop_fem_mult.multiply(new_female_need.squeeze())\n",
    "total_cal_female = pop_female.join(female_mult_res, lsuffix=\"_old\")\n",
    "total_cal_female = total_cal_female[total_cal_female.columns[~total_cal_female.columns.str.endswith('_old')]]"
   ]
  },
  {
   "cell_type": "markdown",
   "metadata": {},
   "source": [
    "Once we have the calories needed for both gender, we can add them together easily to achieve total calories needed for **each country in each year per age group**, and we collect them in the dataframe `total_cal_ages`"
   ]
  },
  {
   "cell_type": "code",
   "execution_count": 25,
   "metadata": {},
   "outputs": [],
   "source": [
    "#copy the male inside the total (to mantain country and year columns) and sum with female\n",
    "total_cal_ages = total_cal_male.copy()\n",
    "sum_ind = total_cal_ages.columns[2:]\n",
    "total_cal_ages[sum_ind] = total_cal_ages[sum_ind] + total_cal_female[sum_ind]"
   ]
  },
  {
   "cell_type": "markdown",
   "metadata": {},
   "source": [
    "To find the total calories needed for **each country in each year** we then proceed to the sum over all the age groups, collected in `total_cal`"
   ]
  },
  {
   "cell_type": "code",
   "execution_count": 26,
   "metadata": {},
   "outputs": [],
   "source": [
    "total_cal = total_cal_ages.copy()\n",
    "sum_ind = total_cal.columns[2:]\n",
    "\n",
    "#computing sum of cal over ages, removing ages\n",
    "total_cal['Calories'] = total_cal[sum_ind].sum(axis=1)\n",
    "total_cal.drop(columns=sum_ind, inplace=True)"
   ]
  },
  {
   "cell_type": "markdown",
   "metadata": {},
   "source": [
    "The values proposed up to here **need to be scaled appropriartely**, as the total amount of calories should be multiplied by 1000 to take in account the value reported in the population dataset.  \n",
    "Instead of dealing with large number (up to order of $10^9$ Kcal), we decide to divide another time by 1000.  \n",
    "The reader is so advised that from now on all the calories will be reported in **Gcal** (I'm not totally sure, check together ahah) "
   ]
  },
  {
   "cell_type": "code",
   "execution_count": 27,
   "metadata": {},
   "outputs": [],
   "source": [
    "change_col = total_cal_ages.columns[2:] #index for the first 3 dataframes are the same\n",
    "total_cal_male[change_col] = total_cal_male[change_col]/1000\n",
    "total_cal_female[change_col] = total_cal_male[change_col]/1000\n",
    "total_cal_ages[change_col] = total_cal_male[change_col]/1000\n",
    "total_cal['Calories'] = total_cal['Calories']/1000"
   ]
  },
  {
   "cell_type": "markdown",
   "metadata": {},
   "source": [
    "Drawing a sample of the final dataframe.."
   ]
  },
  {
   "cell_type": "code",
   "execution_count": 28,
   "metadata": {},
   "outputs": [
    {
     "data": {
      "text/html": [
       "<div>\n",
       "<style scoped>\n",
       "    .dataframe tbody tr th:only-of-type {\n",
       "        vertical-align: middle;\n",
       "    }\n",
       "\n",
       "    .dataframe tbody tr th {\n",
       "        vertical-align: top;\n",
       "    }\n",
       "\n",
       "    .dataframe thead th {\n",
       "        text-align: right;\n",
       "    }\n",
       "</style>\n",
       "<table border=\"1\" class=\"dataframe\">\n",
       "  <thead>\n",
       "    <tr style=\"text-align: right;\">\n",
       "      <th></th>\n",
       "      <th>country</th>\n",
       "      <th>year</th>\n",
       "      <th>Calories</th>\n",
       "    </tr>\n",
       "  </thead>\n",
       "  <tbody>\n",
       "    <tr>\n",
       "      <td>420</td>\n",
       "      <td>Djibouti</td>\n",
       "      <td>1950</td>\n",
       "      <td>121.291427</td>\n",
       "    </tr>\n",
       "    <tr>\n",
       "      <td>421</td>\n",
       "      <td>Djibouti</td>\n",
       "      <td>1955</td>\n",
       "      <td>138.432262</td>\n",
       "    </tr>\n",
       "    <tr>\n",
       "      <td>422</td>\n",
       "      <td>Djibouti</td>\n",
       "      <td>1960</td>\n",
       "      <td>166.978938</td>\n",
       "    </tr>\n",
       "    <tr>\n",
       "      <td>423</td>\n",
       "      <td>Djibouti</td>\n",
       "      <td>1965</td>\n",
       "      <td>227.616138</td>\n",
       "    </tr>\n",
       "    <tr>\n",
       "      <td>424</td>\n",
       "      <td>Djibouti</td>\n",
       "      <td>1970</td>\n",
       "      <td>313.232320</td>\n",
       "    </tr>\n",
       "  </tbody>\n",
       "</table>\n",
       "</div>"
      ],
      "text/plain": [
       "      country  year    Calories\n",
       "420  Djibouti  1950  121.291427\n",
       "421  Djibouti  1955  138.432262\n",
       "422  Djibouti  1960  166.978938\n",
       "423  Djibouti  1965  227.616138\n",
       "424  Djibouti  1970  313.232320"
      ]
     },
     "execution_count": 28,
     "metadata": {},
     "output_type": "execute_result"
    }
   ],
   "source": [
    "total_cal.head()"
   ]
  },
  {
   "cell_type": "markdown",
   "metadata": {},
   "source": [
    "#### Summing up to now\n",
    "* We have defined a reasonable amount of calories needed for each gender and each group by taking average\n",
    "* We collected these values in `new_male_need` and `new_female_need`\n",
    "* We loaded the population of the African countries from the United Nation Dataset \n",
    "* We matched the population for the kcal needed by each age group. From this matching we build 4 different datasets, with different granularity levels:  \n",
    "`total_cal_male`, `total_cal_female`, `total_cal_ages`, `total_cal`\n",
    "* We changed the scale of our final dataframes to easily work with large numbers"
   ]
  },
  {
   "cell_type": "markdown",
   "metadata": {},
   "source": [
    " "
   ]
  },
  {
   "cell_type": "markdown",
   "metadata": {},
   "source": [
    "We now proceed on by importing the **Food Balance Sheet** from FAO Dataset (African countries only). "
   ]
  },
  {
   "cell_type": "code",
   "execution_count": 29,
   "metadata": {},
   "outputs": [
    {
     "data": {
      "text/html": [
       "<div>\n",
       "<style scoped>\n",
       "    .dataframe tbody tr th:only-of-type {\n",
       "        vertical-align: middle;\n",
       "    }\n",
       "\n",
       "    .dataframe tbody tr th {\n",
       "        vertical-align: top;\n",
       "    }\n",
       "\n",
       "    .dataframe thead th {\n",
       "        text-align: right;\n",
       "    }\n",
       "</style>\n",
       "<table border=\"1\" class=\"dataframe\">\n",
       "  <thead>\n",
       "    <tr style=\"text-align: right;\">\n",
       "      <th></th>\n",
       "      <th>Area Code</th>\n",
       "      <th>Area</th>\n",
       "      <th>Item Code</th>\n",
       "      <th>Item</th>\n",
       "      <th>Element Code</th>\n",
       "      <th>Element</th>\n",
       "      <th>Unit</th>\n",
       "      <th>Y1961</th>\n",
       "      <th>Y1961F</th>\n",
       "      <th>Y1962</th>\n",
       "      <th>...</th>\n",
       "      <th>Y2009</th>\n",
       "      <th>Y2009F</th>\n",
       "      <th>Y2010</th>\n",
       "      <th>Y2010F</th>\n",
       "      <th>Y2011</th>\n",
       "      <th>Y2011F</th>\n",
       "      <th>Y2012</th>\n",
       "      <th>Y2012F</th>\n",
       "      <th>Y2013</th>\n",
       "      <th>Y2013F</th>\n",
       "    </tr>\n",
       "  </thead>\n",
       "  <tbody>\n",
       "    <tr>\n",
       "      <td>0</td>\n",
       "      <td>4</td>\n",
       "      <td>Algeria</td>\n",
       "      <td>2501</td>\n",
       "      <td>Population</td>\n",
       "      <td>511</td>\n",
       "      <td>Total Population - Both sexes</td>\n",
       "      <td>1000 persons</td>\n",
       "      <td>11561.0</td>\n",
       "      <td>NaN</td>\n",
       "      <td>11845.0</td>\n",
       "      <td>...</td>\n",
       "      <td>36383.0</td>\n",
       "      <td>NaN</td>\n",
       "      <td>37063.0</td>\n",
       "      <td>NaN</td>\n",
       "      <td>37763.0</td>\n",
       "      <td>NaN</td>\n",
       "      <td>38482.0</td>\n",
       "      <td>NaN</td>\n",
       "      <td>39208.0</td>\n",
       "      <td>NaN</td>\n",
       "    </tr>\n",
       "    <tr>\n",
       "      <td>1</td>\n",
       "      <td>4</td>\n",
       "      <td>Algeria</td>\n",
       "      <td>2511</td>\n",
       "      <td>Wheat and products</td>\n",
       "      <td>5511</td>\n",
       "      <td>Production</td>\n",
       "      <td>1000 tonnes</td>\n",
       "      <td>686.0</td>\n",
       "      <td>S</td>\n",
       "      <td>1507.0</td>\n",
       "      <td>...</td>\n",
       "      <td>2953.0</td>\n",
       "      <td>S</td>\n",
       "      <td>2605.0</td>\n",
       "      <td>S</td>\n",
       "      <td>2555.0</td>\n",
       "      <td>S</td>\n",
       "      <td>3432.0</td>\n",
       "      <td>S</td>\n",
       "      <td>3299.0</td>\n",
       "      <td>S</td>\n",
       "    </tr>\n",
       "    <tr>\n",
       "      <td>2</td>\n",
       "      <td>4</td>\n",
       "      <td>Algeria</td>\n",
       "      <td>2511</td>\n",
       "      <td>Wheat and products</td>\n",
       "      <td>5611</td>\n",
       "      <td>Import Quantity</td>\n",
       "      <td>1000 tonnes</td>\n",
       "      <td>469.0</td>\n",
       "      <td>S</td>\n",
       "      <td>501.0</td>\n",
       "      <td>...</td>\n",
       "      <td>5757.0</td>\n",
       "      <td>S</td>\n",
       "      <td>5109.0</td>\n",
       "      <td>S</td>\n",
       "      <td>7487.0</td>\n",
       "      <td>S</td>\n",
       "      <td>6385.0</td>\n",
       "      <td>S</td>\n",
       "      <td>6343.0</td>\n",
       "      <td>S</td>\n",
       "    </tr>\n",
       "    <tr>\n",
       "      <td>3</td>\n",
       "      <td>4</td>\n",
       "      <td>Algeria</td>\n",
       "      <td>2511</td>\n",
       "      <td>Wheat and products</td>\n",
       "      <td>5072</td>\n",
       "      <td>Stock Variation</td>\n",
       "      <td>1000 tonnes</td>\n",
       "      <td>353.0</td>\n",
       "      <td>S</td>\n",
       "      <td>-409.0</td>\n",
       "      <td>...</td>\n",
       "      <td>-484.0</td>\n",
       "      <td>S</td>\n",
       "      <td>515.0</td>\n",
       "      <td>S</td>\n",
       "      <td>-1050.0</td>\n",
       "      <td>S</td>\n",
       "      <td>-350.0</td>\n",
       "      <td>S</td>\n",
       "      <td>-180.0</td>\n",
       "      <td>S</td>\n",
       "    </tr>\n",
       "    <tr>\n",
       "      <td>4</td>\n",
       "      <td>4</td>\n",
       "      <td>Algeria</td>\n",
       "      <td>2511</td>\n",
       "      <td>Wheat and products</td>\n",
       "      <td>5911</td>\n",
       "      <td>Export Quantity</td>\n",
       "      <td>1000 tonnes</td>\n",
       "      <td>46.0</td>\n",
       "      <td>S</td>\n",
       "      <td>12.0</td>\n",
       "      <td>...</td>\n",
       "      <td>37.0</td>\n",
       "      <td>S</td>\n",
       "      <td>39.0</td>\n",
       "      <td>S</td>\n",
       "      <td>5.0</td>\n",
       "      <td>S</td>\n",
       "      <td>5.0</td>\n",
       "      <td>S</td>\n",
       "      <td>2.0</td>\n",
       "      <td>S</td>\n",
       "    </tr>\n",
       "  </tbody>\n",
       "</table>\n",
       "<p>5 rows × 113 columns</p>\n",
       "</div>"
      ],
      "text/plain": [
       "   Area Code     Area  Item Code                Item  Element Code  \\\n",
       "0          4  Algeria       2501          Population           511   \n",
       "1          4  Algeria       2511  Wheat and products          5511   \n",
       "2          4  Algeria       2511  Wheat and products          5611   \n",
       "3          4  Algeria       2511  Wheat and products          5072   \n",
       "4          4  Algeria       2511  Wheat and products          5911   \n",
       "\n",
       "                         Element          Unit    Y1961 Y1961F    Y1962  ...  \\\n",
       "0  Total Population - Both sexes  1000 persons  11561.0    NaN  11845.0  ...   \n",
       "1                     Production   1000 tonnes    686.0      S   1507.0  ...   \n",
       "2                Import Quantity   1000 tonnes    469.0      S    501.0  ...   \n",
       "3                Stock Variation   1000 tonnes    353.0      S   -409.0  ...   \n",
       "4                Export Quantity   1000 tonnes     46.0      S     12.0  ...   \n",
       "\n",
       "     Y2009  Y2009F    Y2010  Y2010F    Y2011  Y2011F    Y2012  Y2012F  \\\n",
       "0  36383.0     NaN  37063.0     NaN  37763.0     NaN  38482.0     NaN   \n",
       "1   2953.0       S   2605.0       S   2555.0       S   3432.0       S   \n",
       "2   5757.0       S   5109.0       S   7487.0       S   6385.0       S   \n",
       "3   -484.0       S    515.0       S  -1050.0       S   -350.0       S   \n",
       "4     37.0       S     39.0       S      5.0       S      5.0       S   \n",
       "\n",
       "     Y2013  Y2013F  \n",
       "0  39208.0     NaN  \n",
       "1   3299.0       S  \n",
       "2   6343.0       S  \n",
       "3   -180.0       S  \n",
       "4      2.0       S  \n",
       "\n",
       "[5 rows x 113 columns]"
      ]
     },
     "execution_count": 29,
     "metadata": {},
     "output_type": "execute_result"
    }
   ],
   "source": [
    "FAO_food_balance = pd.read_csv(\"Data/FoodBalanceSheets_E_Africa_1.csv\",encoding='latin-1');\n",
    "FAO_food_balance.head()"
   ]
  },
  {
   "cell_type": "markdown",
   "metadata": {},
   "source": [
    "Firstly, we will **remove** all the columns with title **\"Y----F\"** as they contain informations about how the data were obtained (Calculated, Regression, Aggregate, FAO Estimation). In this context we will consider that FAO is an highly renowned Agency and hence we can assume these values are truthful without loss of generality. Furthermore we thought that it would be very handy to have numbers as columns representing years instead of **\"Y----\"**. We proceed on removing the letter **Y**."
   ]
  },
  {
   "cell_type": "code",
   "execution_count": 30,
   "metadata": {},
   "outputs": [],
   "source": [
    "col_to_drop = FAO_food_balance.columns[FAO_food_balance.columns.str.endswith(\"F\")]; #creating a list of columns to be removed\n",
    "FAO_food_balance = FAO_food_balance.drop(columns=col_to_drop);\n",
    "FAO_food_balance.columns=FAO_food_balance.columns.str.replace(\"Y\",\"\")"
   ]
  },
  {
   "cell_type": "markdown",
   "metadata": {},
   "source": [
    "Secondly, we replace all the **NAN** values with **0** as Item was not available."
   ]
  },
  {
   "cell_type": "code",
   "execution_count": 31,
   "metadata": {},
   "outputs": [],
   "source": [
    "FAO_food_balance = FAO_food_balance.fillna(0);"
   ]
  },
  {
   "cell_type": "markdown",
   "metadata": {},
   "source": [
    "The third step to complete **the cleaning** of FAO_food_balance consists into adapt names of countries in order to have consistency along our different dataframes. In particular we will have to match with our list of African countries **af_countries**. Moreover, we noticed that **Sudan** appears twice as \"Sudan\" and \"Sudan (former)\". This is due to the fact that South Sudan gained its independecy in 2011 (reference to https://en.wikipedia.org/wiki/South_Sudan). The data suggests that even after the , Sudan accounts for both countries in terms of food supply and for this reason we will just consider them as if it was one single country."
   ]
  },
  {
   "cell_type": "code",
   "execution_count": 32,
   "metadata": {},
   "outputs": [],
   "source": [
    "FAO_food_balance['Area'] = FAO_food_balance['Area'].replace(\"Swaziland\", \"Eswatini\");"
   ]
  },
  {
   "cell_type": "markdown",
   "metadata": {},
   "source": [
    "****---------------DELETING SUDAN FORMER AND MERGE TWO ROWS TO BE DONE HERE--------****"
   ]
  },
  {
   "cell_type": "markdown",
   "metadata": {},
   "source": [
    "Analysing our DataFrame **FAO_food_balance** we can see that it's already well structured since it contains many key - value couples such as **Item Code - Item** and **Element Code - Element** . More specifically, we will take advantage of this structure to filter out only rows containing **Food supply (kcal/capita/day)** as an **Element**. The corresponding key to this value is **664**. \n",
    "\n",
    "In order to keep our original Dataframe **FAO_food_balance** as a reference we create a new Dataframe **FAO_food_supply** in which we keep just **countries** and **food supplies** for every **year**."
   ]
  },
  {
   "cell_type": "code",
   "execution_count": 33,
   "metadata": {},
   "outputs": [
    {
     "data": {
      "text/html": [
       "<div>\n",
       "<style scoped>\n",
       "    .dataframe tbody tr th:only-of-type {\n",
       "        vertical-align: middle;\n",
       "    }\n",
       "\n",
       "    .dataframe tbody tr th {\n",
       "        vertical-align: top;\n",
       "    }\n",
       "\n",
       "    .dataframe thead th {\n",
       "        text-align: right;\n",
       "    }\n",
       "</style>\n",
       "<table border=\"1\" class=\"dataframe\">\n",
       "  <thead>\n",
       "    <tr style=\"text-align: right;\">\n",
       "      <th></th>\n",
       "      <th>Area</th>\n",
       "      <th>1961</th>\n",
       "      <th>1962</th>\n",
       "      <th>1963</th>\n",
       "      <th>1964</th>\n",
       "      <th>1965</th>\n",
       "      <th>1966</th>\n",
       "      <th>1967</th>\n",
       "      <th>1968</th>\n",
       "      <th>1969</th>\n",
       "      <th>...</th>\n",
       "      <th>2004</th>\n",
       "      <th>2005</th>\n",
       "      <th>2006</th>\n",
       "      <th>2007</th>\n",
       "      <th>2008</th>\n",
       "      <th>2009</th>\n",
       "      <th>2010</th>\n",
       "      <th>2011</th>\n",
       "      <th>2012</th>\n",
       "      <th>2013</th>\n",
       "    </tr>\n",
       "  </thead>\n",
       "  <tbody>\n",
       "    <tr>\n",
       "      <td>13</td>\n",
       "      <td>Algeria</td>\n",
       "      <td>806.0</td>\n",
       "      <td>843.0</td>\n",
       "      <td>777.0</td>\n",
       "      <td>763.0</td>\n",
       "      <td>822.0</td>\n",
       "      <td>844.0</td>\n",
       "      <td>889.0</td>\n",
       "      <td>890.0</td>\n",
       "      <td>883.0</td>\n",
       "      <td>...</td>\n",
       "      <td>1462.0</td>\n",
       "      <td>1458.0</td>\n",
       "      <td>1378.0</td>\n",
       "      <td>1358.0</td>\n",
       "      <td>1409.0</td>\n",
       "      <td>1452.0</td>\n",
       "      <td>1385.0</td>\n",
       "      <td>1420.0</td>\n",
       "      <td>1433.0</td>\n",
       "      <td>1424.0</td>\n",
       "    </tr>\n",
       "    <tr>\n",
       "      <td>26</td>\n",
       "      <td>Algeria</td>\n",
       "      <td>7.0</td>\n",
       "      <td>4.0</td>\n",
       "      <td>4.0</td>\n",
       "      <td>4.0</td>\n",
       "      <td>4.0</td>\n",
       "      <td>3.0</td>\n",
       "      <td>4.0</td>\n",
       "      <td>5.0</td>\n",
       "      <td>5.0</td>\n",
       "      <td>...</td>\n",
       "      <td>20.0</td>\n",
       "      <td>15.0</td>\n",
       "      <td>19.0</td>\n",
       "      <td>21.0</td>\n",
       "      <td>27.0</td>\n",
       "      <td>20.0</td>\n",
       "      <td>28.0</td>\n",
       "      <td>21.0</td>\n",
       "      <td>27.0</td>\n",
       "      <td>30.0</td>\n",
       "    </tr>\n",
       "    <tr>\n",
       "      <td>40</td>\n",
       "      <td>Algeria</td>\n",
       "      <td>160.0</td>\n",
       "      <td>139.0</td>\n",
       "      <td>177.0</td>\n",
       "      <td>162.0</td>\n",
       "      <td>171.0</td>\n",
       "      <td>139.0</td>\n",
       "      <td>144.0</td>\n",
       "      <td>180.0</td>\n",
       "      <td>185.0</td>\n",
       "      <td>...</td>\n",
       "      <td>106.0</td>\n",
       "      <td>104.0</td>\n",
       "      <td>123.0</td>\n",
       "      <td>130.0</td>\n",
       "      <td>98.0</td>\n",
       "      <td>98.0</td>\n",
       "      <td>97.0</td>\n",
       "      <td>96.0</td>\n",
       "      <td>96.0</td>\n",
       "      <td>94.0</td>\n",
       "    </tr>\n",
       "    <tr>\n",
       "      <td>53</td>\n",
       "      <td>Algeria</td>\n",
       "      <td>4.0</td>\n",
       "      <td>4.0</td>\n",
       "      <td>2.0</td>\n",
       "      <td>4.0</td>\n",
       "      <td>5.0</td>\n",
       "      <td>4.0</td>\n",
       "      <td>9.0</td>\n",
       "      <td>6.0</td>\n",
       "      <td>8.0</td>\n",
       "      <td>...</td>\n",
       "      <td>77.0</td>\n",
       "      <td>78.0</td>\n",
       "      <td>154.0</td>\n",
       "      <td>172.0</td>\n",
       "      <td>152.0</td>\n",
       "      <td>107.0</td>\n",
       "      <td>151.0</td>\n",
       "      <td>119.0</td>\n",
       "      <td>128.0</td>\n",
       "      <td>129.0</td>\n",
       "    </tr>\n",
       "    <tr>\n",
       "      <td>61</td>\n",
       "      <td>Algeria</td>\n",
       "      <td>0.0</td>\n",
       "      <td>0.0</td>\n",
       "      <td>0.0</td>\n",
       "      <td>0.0</td>\n",
       "      <td>0.0</td>\n",
       "      <td>0.0</td>\n",
       "      <td>0.0</td>\n",
       "      <td>0.0</td>\n",
       "      <td>0.0</td>\n",
       "      <td>...</td>\n",
       "      <td>0.0</td>\n",
       "      <td>0.0</td>\n",
       "      <td>0.0</td>\n",
       "      <td>0.0</td>\n",
       "      <td>0.0</td>\n",
       "      <td>0.0</td>\n",
       "      <td>0.0</td>\n",
       "      <td>0.0</td>\n",
       "      <td>0.0</td>\n",
       "      <td>0.0</td>\n",
       "    </tr>\n",
       "  </tbody>\n",
       "</table>\n",
       "<p>5 rows × 54 columns</p>\n",
       "</div>"
      ],
      "text/plain": [
       "       Area   1961   1962   1963   1964   1965   1966   1967   1968   1969  \\\n",
       "13  Algeria  806.0  843.0  777.0  763.0  822.0  844.0  889.0  890.0  883.0   \n",
       "26  Algeria    7.0    4.0    4.0    4.0    4.0    3.0    4.0    5.0    5.0   \n",
       "40  Algeria  160.0  139.0  177.0  162.0  171.0  139.0  144.0  180.0  185.0   \n",
       "53  Algeria    4.0    4.0    2.0    4.0    5.0    4.0    9.0    6.0    8.0   \n",
       "61  Algeria    0.0    0.0    0.0    0.0    0.0    0.0    0.0    0.0    0.0   \n",
       "\n",
       "    ...    2004    2005    2006    2007    2008    2009    2010    2011  \\\n",
       "13  ...  1462.0  1458.0  1378.0  1358.0  1409.0  1452.0  1385.0  1420.0   \n",
       "26  ...    20.0    15.0    19.0    21.0    27.0    20.0    28.0    21.0   \n",
       "40  ...   106.0   104.0   123.0   130.0    98.0    98.0    97.0    96.0   \n",
       "53  ...    77.0    78.0   154.0   172.0   152.0   107.0   151.0   119.0   \n",
       "61  ...     0.0     0.0     0.0     0.0     0.0     0.0     0.0     0.0   \n",
       "\n",
       "      2012    2013  \n",
       "13  1433.0  1424.0  \n",
       "26    27.0    30.0  \n",
       "40    96.0    94.0  \n",
       "53   128.0   129.0  \n",
       "61     0.0     0.0  \n",
       "\n",
       "[5 rows x 54 columns]"
      ]
     },
     "execution_count": 33,
     "metadata": {},
     "output_type": "execute_result"
    }
   ],
   "source": [
    "FAO_food_supply = FAO_food_balance[FAO_food_balance[\"Element Code\"]==664];\n",
    "FAO_food_supply = FAO_food_supply.drop(columns=[\"Area Code\",\"Item Code\",\"Item\",\"Element Code\",\"Element\", \"Unit\"])\n",
    "FAO_food_supply.head()"
   ]
  },
  {
   "cell_type": "markdown",
   "metadata": {},
   "source": [
    "We can now group group by **Area** and sum supplies derived from each item available in countries for that particular year."
   ]
  },
  {
   "cell_type": "code",
   "execution_count": 34,
   "metadata": {},
   "outputs": [
    {
     "data": {
      "text/html": [
       "<div>\n",
       "<style scoped>\n",
       "    .dataframe tbody tr th:only-of-type {\n",
       "        vertical-align: middle;\n",
       "    }\n",
       "\n",
       "    .dataframe tbody tr th {\n",
       "        vertical-align: top;\n",
       "    }\n",
       "\n",
       "    .dataframe thead th {\n",
       "        text-align: right;\n",
       "    }\n",
       "</style>\n",
       "<table border=\"1\" class=\"dataframe\">\n",
       "  <thead>\n",
       "    <tr style=\"text-align: right;\">\n",
       "      <th></th>\n",
       "      <th>1961</th>\n",
       "      <th>1962</th>\n",
       "      <th>1963</th>\n",
       "      <th>1964</th>\n",
       "      <th>1965</th>\n",
       "      <th>1966</th>\n",
       "      <th>1967</th>\n",
       "      <th>1968</th>\n",
       "      <th>1969</th>\n",
       "      <th>1970</th>\n",
       "      <th>...</th>\n",
       "      <th>2004</th>\n",
       "      <th>2005</th>\n",
       "      <th>2006</th>\n",
       "      <th>2007</th>\n",
       "      <th>2008</th>\n",
       "      <th>2009</th>\n",
       "      <th>2010</th>\n",
       "      <th>2011</th>\n",
       "      <th>2012</th>\n",
       "      <th>2013</th>\n",
       "    </tr>\n",
       "    <tr>\n",
       "      <th>Area</th>\n",
       "      <th></th>\n",
       "      <th></th>\n",
       "      <th></th>\n",
       "      <th></th>\n",
       "      <th></th>\n",
       "      <th></th>\n",
       "      <th></th>\n",
       "      <th></th>\n",
       "      <th></th>\n",
       "      <th></th>\n",
       "      <th></th>\n",
       "      <th></th>\n",
       "      <th></th>\n",
       "      <th></th>\n",
       "      <th></th>\n",
       "      <th></th>\n",
       "      <th></th>\n",
       "      <th></th>\n",
       "      <th></th>\n",
       "      <th></th>\n",
       "      <th></th>\n",
       "    </tr>\n",
       "  </thead>\n",
       "  <tbody>\n",
       "    <tr>\n",
       "      <td>Algeria</td>\n",
       "      <td>6471.0</td>\n",
       "      <td>6270.0</td>\n",
       "      <td>6104.0</td>\n",
       "      <td>6157.0</td>\n",
       "      <td>6362.0</td>\n",
       "      <td>6281.0</td>\n",
       "      <td>6582.0</td>\n",
       "      <td>6818.0</td>\n",
       "      <td>6817.0</td>\n",
       "      <td>6696.0</td>\n",
       "      <td>...</td>\n",
       "      <td>11943.0</td>\n",
       "      <td>11829.0</td>\n",
       "      <td>12185.0</td>\n",
       "      <td>12159.0</td>\n",
       "      <td>12184.0</td>\n",
       "      <td>12440.0</td>\n",
       "      <td>12566.0</td>\n",
       "      <td>12866.0</td>\n",
       "      <td>13088.0</td>\n",
       "      <td>13178.0</td>\n",
       "    </tr>\n",
       "    <tr>\n",
       "      <td>Angola</td>\n",
       "      <td>7190.0</td>\n",
       "      <td>7270.0</td>\n",
       "      <td>7409.0</td>\n",
       "      <td>7444.0</td>\n",
       "      <td>7502.0</td>\n",
       "      <td>7558.0</td>\n",
       "      <td>7679.0</td>\n",
       "      <td>7418.0</td>\n",
       "      <td>7785.0</td>\n",
       "      <td>7858.0</td>\n",
       "      <td>...</td>\n",
       "      <td>8122.0</td>\n",
       "      <td>8304.0</td>\n",
       "      <td>8471.0</td>\n",
       "      <td>8702.0</td>\n",
       "      <td>8983.0</td>\n",
       "      <td>9213.0</td>\n",
       "      <td>9375.0</td>\n",
       "      <td>9627.0</td>\n",
       "      <td>9531.0</td>\n",
       "      <td>9893.0</td>\n",
       "    </tr>\n",
       "    <tr>\n",
       "      <td>Benin</td>\n",
       "      <td>6947.0</td>\n",
       "      <td>7036.0</td>\n",
       "      <td>6811.0</td>\n",
       "      <td>6678.0</td>\n",
       "      <td>7248.0</td>\n",
       "      <td>7219.0</td>\n",
       "      <td>7333.0</td>\n",
       "      <td>7743.0</td>\n",
       "      <td>7486.0</td>\n",
       "      <td>7247.0</td>\n",
       "      <td>...</td>\n",
       "      <td>9841.0</td>\n",
       "      <td>9740.0</td>\n",
       "      <td>9799.0</td>\n",
       "      <td>10252.0</td>\n",
       "      <td>10084.0</td>\n",
       "      <td>10258.0</td>\n",
       "      <td>10216.0</td>\n",
       "      <td>10393.0</td>\n",
       "      <td>10440.0</td>\n",
       "      <td>10477.0</td>\n",
       "    </tr>\n",
       "    <tr>\n",
       "      <td>Botswana</td>\n",
       "      <td>7903.0</td>\n",
       "      <td>7640.0</td>\n",
       "      <td>7889.0</td>\n",
       "      <td>8000.0</td>\n",
       "      <td>8023.0</td>\n",
       "      <td>7787.0</td>\n",
       "      <td>8041.0</td>\n",
       "      <td>8205.0</td>\n",
       "      <td>8053.0</td>\n",
       "      <td>8141.0</td>\n",
       "      <td>...</td>\n",
       "      <td>8761.0</td>\n",
       "      <td>8792.0</td>\n",
       "      <td>8595.0</td>\n",
       "      <td>8663.0</td>\n",
       "      <td>8736.0</td>\n",
       "      <td>8789.0</td>\n",
       "      <td>8936.0</td>\n",
       "      <td>9081.0</td>\n",
       "      <td>9366.0</td>\n",
       "      <td>9303.0</td>\n",
       "    </tr>\n",
       "    <tr>\n",
       "      <td>Burkina Faso</td>\n",
       "      <td>5300.0</td>\n",
       "      <td>5230.0</td>\n",
       "      <td>5809.0</td>\n",
       "      <td>6220.0</td>\n",
       "      <td>6287.0</td>\n",
       "      <td>6241.0</td>\n",
       "      <td>6348.0</td>\n",
       "      <td>6405.0</td>\n",
       "      <td>6411.0</td>\n",
       "      <td>6181.0</td>\n",
       "      <td>...</td>\n",
       "      <td>10021.0</td>\n",
       "      <td>9854.0</td>\n",
       "      <td>10236.0</td>\n",
       "      <td>10180.0</td>\n",
       "      <td>10350.0</td>\n",
       "      <td>10554.0</td>\n",
       "      <td>10718.0</td>\n",
       "      <td>10653.0</td>\n",
       "      <td>10825.0</td>\n",
       "      <td>10878.0</td>\n",
       "    </tr>\n",
       "  </tbody>\n",
       "</table>\n",
       "<p>5 rows × 53 columns</p>\n",
       "</div>"
      ],
      "text/plain": [
       "                1961    1962    1963    1964    1965    1966    1967    1968  \\\n",
       "Area                                                                           \n",
       "Algeria       6471.0  6270.0  6104.0  6157.0  6362.0  6281.0  6582.0  6818.0   \n",
       "Angola        7190.0  7270.0  7409.0  7444.0  7502.0  7558.0  7679.0  7418.0   \n",
       "Benin         6947.0  7036.0  6811.0  6678.0  7248.0  7219.0  7333.0  7743.0   \n",
       "Botswana      7903.0  7640.0  7889.0  8000.0  8023.0  7787.0  8041.0  8205.0   \n",
       "Burkina Faso  5300.0  5230.0  5809.0  6220.0  6287.0  6241.0  6348.0  6405.0   \n",
       "\n",
       "                1969    1970  ...     2004     2005     2006     2007  \\\n",
       "Area                          ...                                       \n",
       "Algeria       6817.0  6696.0  ...  11943.0  11829.0  12185.0  12159.0   \n",
       "Angola        7785.0  7858.0  ...   8122.0   8304.0   8471.0   8702.0   \n",
       "Benin         7486.0  7247.0  ...   9841.0   9740.0   9799.0  10252.0   \n",
       "Botswana      8053.0  8141.0  ...   8761.0   8792.0   8595.0   8663.0   \n",
       "Burkina Faso  6411.0  6181.0  ...  10021.0   9854.0  10236.0  10180.0   \n",
       "\n",
       "                 2008     2009     2010     2011     2012     2013  \n",
       "Area                                                                \n",
       "Algeria       12184.0  12440.0  12566.0  12866.0  13088.0  13178.0  \n",
       "Angola         8983.0   9213.0   9375.0   9627.0   9531.0   9893.0  \n",
       "Benin         10084.0  10258.0  10216.0  10393.0  10440.0  10477.0  \n",
       "Botswana       8736.0   8789.0   8936.0   9081.0   9366.0   9303.0  \n",
       "Burkina Faso  10350.0  10554.0  10718.0  10653.0  10825.0  10878.0  \n",
       "\n",
       "[5 rows x 53 columns]"
      ]
     },
     "execution_count": 34,
     "metadata": {},
     "output_type": "execute_result"
    }
   ],
   "source": [
    "FAO_food_supply = FAO_food_supply.groupby(\"Area\").sum();\n",
    "FAO_food_supply.head()"
   ]
  }
 ],
 "metadata": {
  "kernelspec": {
   "display_name": "Python 3",
   "language": "python",
   "name": "python3"
  },
  "language_info": {
   "codemirror_mode": {
    "name": "ipython",
    "version": 3
   },
   "file_extension": ".py",
   "mimetype": "text/x-python",
   "name": "python",
   "nbconvert_exporter": "python",
   "pygments_lexer": "ipython3",
   "version": "3.7.4"
  }
 },
 "nbformat": 4,
 "nbformat_minor": 4
}
