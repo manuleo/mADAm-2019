{
 "cells": [
  {
   "cell_type": "code",
   "execution_count": 1,
   "metadata": {},
   "outputs": [],
   "source": [
    "%matplotlib inline\n",
    "import pandas as pd\n",
    "import numpy as np\n",
    "import re\n",
    "from matplotlib.ticker import MaxNLocator\n",
    "import matplotlib.pyplot as plt\n",
    "from requests import get\n",
    "from bs4 import BeautifulSoup\n",
    "from collections import defaultdict\n",
    "\n",
    "plt.rcParams[\"figure.figsize\"] = (15,8) #set size of plot"
   ]
  },
  {
   "cell_type": "markdown",
   "metadata": {},
   "source": [
    "# Start working"
   ]
  },
  {
   "cell_type": "markdown",
   "metadata": {},
   "source": [
    "## Finding calories needed for each country\n",
    "The first need we need to do for our analysis is to find the total calories demand in each country... **write other things to start**"
   ]
  },
  {
   "cell_type": "markdown",
   "metadata": {},
   "source": [
    "### Working on calories demand  \n",
    "We load the calories demand datasets we scraped for the webpage [Calories](https://health.gov/dietaryguidelines/2015/guidelines/appendix-2/), datasets will we working on to match with population data"
   ]
  },
  {
   "cell_type": "code",
   "execution_count": 2,
   "metadata": {},
   "outputs": [],
   "source": [
    "male_calory_demand = pd.read_excel(\"data/calories_demand.xlsx\",header =None, sheet_name=0, names=['age', 'sedentary', 'moderate', 'active'])"
   ]
  },
  {
   "cell_type": "code",
   "execution_count": 3,
   "metadata": {},
   "outputs": [],
   "source": [
    "females_calory_demand =  pd.read_excel(\"data/calories_demand.xlsx\",header =None, sheet_name=1, names=['age', 'sedentary', 'moderate', 'active'])"
   ]
  },
  {
   "cell_type": "markdown",
   "metadata": {},
   "source": [
    "In order to better work with the information we have collected, we will make some simplifications on the data. Mainly, we will:\n",
    "- in the calories demands database, assume an average of necessary input per age\n",
    "- group the ages into ranges that match the ranges provided in the World Population Database"
   ]
  },
  {
   "cell_type": "code",
   "execution_count": 4,
   "metadata": {},
   "outputs": [],
   "source": [
    "def input_average(data_frame):\n",
    "    result = data_frame.copy()\n",
    "    result['input (KCal)'] = result.mean(axis=1) #computing the mean\n",
    "    result = result.drop(columns=['sedentary', 'moderate', 'active']) #we keep only the mean\n",
    "    return result"
   ]
  },
  {
   "cell_type": "code",
   "execution_count": 5,
   "metadata": {},
   "outputs": [],
   "source": [
    "male_calories_avg = input_average(male_calory_demand)\n",
    "females_calories_avg = input_average(females_calory_demand)"
   ]
  },
  {
   "cell_type": "markdown",
   "metadata": {},
   "source": [
    "We have now obtained a caloric demand average for simpler calculations in the future and stored in the two precedent datasets.  \n",
    "Now, we need a  way to match the age groups in this dataframe, to the ones in the population database we obtained. As such, let's analyse how ages are represented in our calory demand dataframes."
   ]
  },
  {
   "cell_type": "code",
   "execution_count": 6,
   "metadata": {},
   "outputs": [
    {
     "data": {
      "text/plain": [
       "array([2, 3, 4, 5, 6, 7, 8, 9, 10, 11, 12, 13, 14, 15, 16, 17, 18,\n",
       "       '19-20', '21-25', '26-30', '31-35', '36-40', '41-45', '46-50',\n",
       "       '51-55', '56-60', '61-65', '66-70', '71-75', '76 and up', nan],\n",
       "      dtype=object)"
      ]
     },
     "execution_count": 6,
     "metadata": {},
     "output_type": "execute_result"
    }
   ],
   "source": [
    "male_calories_avg['age'].unique()"
   ]
  },
  {
   "cell_type": "markdown",
   "metadata": {},
   "source": [
    "We can see there are ranges of ages with different sizes (which makes sense, because different age groups have different caloric needs). We'll present a function that creates one row per individual age"
   ]
  },
  {
   "cell_type": "code",
   "execution_count": 28,
   "metadata": {},
   "outputs": [],
   "source": [
    "def single_age(age_range):\n",
    "    if type(age_range) ==  float: # nans are the only floats in the age column\n",
    "        return -1\n",
    "    elif type(age_range) == int:\n",
    "        return age_range\n",
    "    elif re.search('\\d-\\d', age_range):\n",
    "        group = age_range.split('-')\n",
    "        return list(range(int(group[0]), int(group[1])+1))\n",
    "    elif age_range == \"76 and up\":\n",
    "        return list(range(76, 101+1))"
   ]
  },
  {
   "cell_type": "code",
   "execution_count": 29,
   "metadata": {},
   "outputs": [],
   "source": [
    "def explode_age(data_frame):\n",
    "    accum = []\n",
    "    for i in data_frame.index:\n",
    "        row = data_frame.loc[i]\n",
    "        single = single_age(row['age'])\n",
    "        if single == -1: # we ignore the nan values, as their rows are empty\n",
    "            continue\n",
    "        if type(single) == int:\n",
    "            accum.append((single, row['input (KCal)']))\n",
    "        elif type(single) == list:\n",
    "            accum.extend([(x, row['input (KCal)']) for x in single]) \n",
    "    return pd.DataFrame(accum, columns=data_frame.columns)"
   ]
  },
  {
   "cell_type": "markdown",
   "metadata": {},
   "source": [
    "We apply the function to our two dataframe:"
   ]
  },
  {
   "cell_type": "code",
   "execution_count": 30,
   "metadata": {},
   "outputs": [],
   "source": [
    "male_explode = explode_age(male_calories_avg)\n",
    "female_explode = explode_age(females_calories_avg)"
   ]
  },
  {
   "cell_type": "code",
   "execution_count": 31,
   "metadata": {},
   "outputs": [
    {
     "data": {
      "text/plain": [
       "array([  2,   3,   4,   5,   6,   7,   8,   9,  10,  11,  12,  13,  14,\n",
       "        15,  16,  17,  18,  19,  20,  21,  22,  23,  24,  25,  26,  27,\n",
       "        28,  29,  30,  31,  32,  33,  34,  35,  36,  37,  38,  39,  40,\n",
       "        41,  42,  43,  44,  45,  46,  47,  48,  49,  50,  51,  52,  53,\n",
       "        54,  55,  56,  57,  58,  59,  60,  61,  62,  63,  64,  65,  66,\n",
       "        67,  68,  69,  70,  71,  72,  73,  74,  75,  76,  77,  78,  79,\n",
       "        80,  81,  82,  83,  84,  85,  86,  87,  88,  89,  90,  91,  92,\n",
       "        93,  94,  95,  96,  97,  98,  99, 100, 101])"
      ]
     },
     "execution_count": 31,
     "metadata": {},
     "output_type": "execute_result"
    }
   ],
   "source": [
    "male_explode['age'].unique()"
   ]
  },
  {
   "cell_type": "markdown",
   "metadata": {},
   "source": [
    "Ages are now unique in each dataframe ( `male_explode` and `female_explode` ) and there's a caloric input value for each of them."
   ]
  },
  {
   "cell_type": "markdown",
   "metadata": {},
   "source": [
    "#### Joao please comment the next two function and the code in the cells"
   ]
  },
  {
   "cell_type": "markdown",
   "metadata": {},
   "source": [
    "The last step to allow the match with the population database is to build the **same age groups** we have in that set.  \n",
    "We do this in the next two functions:"
   ]
  },
  {
   "cell_type": "code",
   "execution_count": 32,
   "metadata": {},
   "outputs": [],
   "source": [
    "def group(age):\n",
    "    i = int(5*(age//5))\n",
    "    return \"{}-{}\".format(i, i+4)"
   ]
  },
  {
   "cell_type": "code",
   "execution_count": 33,
   "metadata": {},
   "outputs": [],
   "source": [
    "def compress_ages(data_frame):\n",
    "    accum = defaultdict(list)\n",
    "    for i in data_frame.index:\n",
    "        row = data_frame.loc[i]\n",
    "        g_id = group(row['age'])\n",
    "        if g_id == \"100-104\":\n",
    "            g_id = \"100+\"\n",
    "        accum[g_id].append(row['input (KCal)'])\n",
    "    for i in accum:\n",
    "        accum[i] = sum(accum[i]) / len(accum[i])\n",
    "    return pd.DataFrame.from_dict(accum, orient='index')"
   ]
  },
  {
   "cell_type": "markdown",
   "metadata": {},
   "source": [
    "We can lastly apply the functions to the dataframes:"
   ]
  },
  {
   "cell_type": "code",
   "execution_count": 34,
   "metadata": {},
   "outputs": [],
   "source": [
    "new_male_need = compress_ages(male_explode)\n",
    "new_female_need = compress_ages(female_explode)"
   ]
  },
  {
   "cell_type": "markdown",
   "metadata": {},
   "source": [
    "We also use the age group as new index and rename the columns:"
   ]
  },
  {
   "cell_type": "code",
   "execution_count": 35,
   "metadata": {},
   "outputs": [],
   "source": [
    "new_male_need.index.name = 'age_group'\n",
    "new_male_need = new_male_need.rename(columns={0: 'input (KCal)'})\n",
    "new_female_need.index.name = 'age_group'\n",
    "new_female_need = new_female_need.rename(columns={0: 'input (KCal)'})"
   ]
  },
  {
   "cell_type": "markdown",
   "metadata": {},
   "source": [
    "Let's see the result we have achieved and collected in our matchable dataframe `new_male_need` and `new_female_need`"
   ]
  },
  {
   "cell_type": "code",
   "execution_count": 36,
   "metadata": {},
   "outputs": [
    {
     "data": {
      "text/html": [
       "<div>\n",
       "<style scoped>\n",
       "    .dataframe tbody tr th:only-of-type {\n",
       "        vertical-align: middle;\n",
       "    }\n",
       "\n",
       "    .dataframe tbody tr th {\n",
       "        vertical-align: top;\n",
       "    }\n",
       "\n",
       "    .dataframe thead th {\n",
       "        text-align: right;\n",
       "    }\n",
       "</style>\n",
       "<table border=\"1\" class=\"dataframe\">\n",
       "  <thead>\n",
       "    <tr style=\"text-align: right;\">\n",
       "      <th></th>\n",
       "      <th>input (KCal)</th>\n",
       "    </tr>\n",
       "    <tr>\n",
       "      <th>age_group</th>\n",
       "      <th></th>\n",
       "    </tr>\n",
       "  </thead>\n",
       "  <tbody>\n",
       "    <tr>\n",
       "      <td>0-4</td>\n",
       "      <td>1222.222222</td>\n",
       "    </tr>\n",
       "    <tr>\n",
       "      <td>5-9</td>\n",
       "      <td>1613.333333</td>\n",
       "    </tr>\n",
       "    <tr>\n",
       "      <td>10-14</td>\n",
       "      <td>2133.333333</td>\n",
       "    </tr>\n",
       "    <tr>\n",
       "      <td>15-19</td>\n",
       "      <td>2760.000000</td>\n",
       "    </tr>\n",
       "    <tr>\n",
       "      <td>20-24</td>\n",
       "      <td>2746.666667</td>\n",
       "    </tr>\n",
       "  </tbody>\n",
       "</table>\n",
       "</div>"
      ],
      "text/plain": [
       "           input (KCal)\n",
       "age_group              \n",
       "0-4         1222.222222\n",
       "5-9         1613.333333\n",
       "10-14       2133.333333\n",
       "15-19       2760.000000\n",
       "20-24       2746.666667"
      ]
     },
     "execution_count": 36,
     "metadata": {},
     "output_type": "execute_result"
    }
   ],
   "source": [
    "new_male_need.head()"
   ]
  },
  {
   "cell_type": "markdown",
   "metadata": {},
   "source": [
    "## Computing total calories by matching "
   ]
  },
  {
   "cell_type": "markdown",
   "metadata": {},
   "source": [
    "**We now move on the matching with the *World Population Database* (United Nation) to compute the total calories needed in each country since 1950 to 2020**  \n",
    "Matching with a precise dataset like this one is essential to take count of the demographics inside each country  \n",
    "  \n",
    "  \n",
    "Firstly, we load the list of African countries (to filter the DB) and the two Databases (one for males, the other for females)  \n",
    "*A note*: the values in the population dataframe are reported in **thousands**"
   ]
  },
  {
   "cell_type": "code",
   "execution_count": 37,
   "metadata": {},
   "outputs": [],
   "source": [
    "with open (\"data/african_countries.txt\",'r', encoding='latin-1') as af_c:\n",
    "    af_countries = [line.rstrip() for line in af_c] #loading list"
   ]
  },
  {
   "cell_type": "markdown",
   "metadata": {},
   "source": [
    "Loading and cleaning the dataset to be prepared for merging (they represent unuseful columns with long names)"
   ]
  },
  {
   "cell_type": "code",
   "execution_count": 38,
   "metadata": {},
   "outputs": [],
   "source": [
    "#loading datasets\n",
    "pop_male = pd.read_excel(\"data/POPULATION_BY_AGE_MALE.xlsx\", sheet_name=\"ESTIMATES\")\n",
    "pop_female = pd.read_excel(\"data/POPULATION_BY_AGE_FEMALE.xlsx\", sheet_name=\"ESTIMATES\")"
   ]
  },
  {
   "cell_type": "code",
   "execution_count": 39,
   "metadata": {},
   "outputs": [],
   "source": [
    "#cleaning male population dataset\n",
    "pop_male.drop(columns=[\"Index\", \"Variant\", \"Notes\", \"Country code\", \"Type\", \"Parent code\"], inplace=True)\n",
    "pop_male.rename(columns={\"Reference date (as of 1 July)\": \"year\", \"Region, subregion, country or area *\": \"country\"}, inplace=True)\n",
    "#taking only african countries\n",
    "pop_male = pop_male[pop_male['country'].isin(af_countries)]\n",
    "\n",
    "#cleaning female dataset\n",
    "pop_female.drop(columns=[\"Index\", \"Variant\", \"Notes\", \"Country code\", \"Type\", \"Parent code\"], inplace=True)\n",
    "pop_female.rename(columns={\"Reference date (as of 1 July)\": \"year\", \"Region, subregion, country or area *\": \"country\"}, inplace=True)\n",
    "#only african\n",
    "pop_female = pop_female[pop_female['country'].isin(af_countries)]"
   ]
  },
  {
   "cell_type": "markdown",
   "metadata": {},
   "source": [
    "Now we multiply each column of the population data (as we said, in thousand) for each matching `age_group` in the calories table (that here we squeeze to allow the multiplication, similar to a transpose rows/columns of the dataset).  \n",
    "We obtain two datasets: `total_cal_male` and `total_cal_female` reporting total calories needed for **each country in each year per age group per gender**"
   ]
  },
  {
   "cell_type": "code",
   "execution_count": 40,
   "metadata": {},
   "outputs": [],
   "source": [
    "#total calories male\n",
    "pop_mal_mult = pop_male.drop(columns=[\"country\", \"year\"])\n",
    "male_mult_res = pop_mal_mult.multiply(new_male_need.squeeze()) # squeeze adapts the dimension of the dataframe\n",
    "#rejoin with old dataframe and delete old column (just population)\n",
    "total_cal_male = pop_male.join(male_mult_res, lsuffix=\"_old\")\n",
    "total_cal_male = total_cal_male[total_cal_male.columns[~total_cal_male.columns.str.endswith('_old')]]"
   ]
  },
  {
   "cell_type": "code",
   "execution_count": 41,
   "metadata": {},
   "outputs": [],
   "source": [
    "#total calories female\n",
    "pop_fem_mult = pop_female.drop(columns=[\"country\", \"year\"])\n",
    "female_mult_res = pop_fem_mult.multiply(new_female_need.squeeze())\n",
    "total_cal_female = pop_female.join(female_mult_res, lsuffix=\"_old\")\n",
    "total_cal_female = total_cal_female[total_cal_female.columns[~total_cal_female.columns.str.endswith('_old')]]"
   ]
  },
  {
   "cell_type": "markdown",
   "metadata": {},
   "source": [
    "Once we have the calories needed for both gender, we can add them together easily to achieve total calories needed for **each country in each year per age group**, and we collect them in the dataframe `total_cal_ages`"
   ]
  },
  {
   "cell_type": "code",
   "execution_count": 42,
   "metadata": {},
   "outputs": [],
   "source": [
    "#copy the male inside the total (to mantain country and year columns) and sum with female\n",
    "total_cal_ages = total_cal_male.copy()\n",
    "sum_ind = total_cal_ages.columns[2:]\n",
    "total_cal_ages[sum_ind] = total_cal_ages[sum_ind] + total_cal_female[sum_ind]"
   ]
  },
  {
   "cell_type": "markdown",
   "metadata": {},
   "source": [
    "To find the total calories needed for **each country in each year** we then proceed to the sum over all the age groups, collected in `total_cal`"
   ]
  },
  {
   "cell_type": "code",
   "execution_count": 43,
   "metadata": {},
   "outputs": [],
   "source": [
    "total_cal = total_cal_ages.copy()\n",
    "sum_ind = total_cal.columns[2:]\n",
    "\n",
    "#computing sum of cal over ages, removing ages\n",
    "total_cal['Calories'] = total_cal[sum_ind].sum(axis=1)\n",
    "total_cal.drop(columns=sum_ind, inplace=True)"
   ]
  },
  {
   "cell_type": "markdown",
   "metadata": {},
   "source": [
    "The values proposed up to here **need to be scaled appropriartely**, as the total amount of calories should be multiplied by 1000 to take in account the value reported in the population dataset.  \n",
    "Instead of dealing with large number (up to order of $10^9$ Kcal), we decide to divide another time by 1000.  \n",
    "The reader is so advised that from now on all the calories will be reported in **Gcal** (I'm not totally sure, check together ahah) "
   ]
  },
  {
   "cell_type": "code",
   "execution_count": 44,
   "metadata": {},
   "outputs": [],
   "source": [
    "change_col = total_cal_ages.columns[2:] #index for the first 3 dataframes are the same\n",
    "total_cal_male[change_col] = total_cal_male[change_col]/1000\n",
    "total_cal_female[change_col] = total_cal_male[change_col]/1000\n",
    "total_cal_ages[change_col] = total_cal_male[change_col]/1000\n",
    "total_cal['Calories'] = total_cal['Calories']/1000"
   ]
  },
  {
   "cell_type": "markdown",
   "metadata": {},
   "source": [
    "Drawing a sample of the final dataframe.."
   ]
  },
  {
   "cell_type": "code",
   "execution_count": 67,
   "metadata": {},
   "outputs": [
    {
     "data": {
      "text/html": [
       "<div>\n",
       "<style scoped>\n",
       "    .dataframe tbody tr th:only-of-type {\n",
       "        vertical-align: middle;\n",
       "    }\n",
       "\n",
       "    .dataframe tbody tr th {\n",
       "        vertical-align: top;\n",
       "    }\n",
       "\n",
       "    .dataframe thead th {\n",
       "        text-align: right;\n",
       "    }\n",
       "</style>\n",
       "<table border=\"1\" class=\"dataframe\">\n",
       "  <thead>\n",
       "    <tr style=\"text-align: right;\">\n",
       "      <th></th>\n",
       "      <th>country</th>\n",
       "      <th>year</th>\n",
       "      <th>Calories</th>\n",
       "    </tr>\n",
       "  </thead>\n",
       "  <tbody>\n",
       "    <tr>\n",
       "      <td>390</td>\n",
       "      <td>Burundi</td>\n",
       "      <td>1950</td>\n",
       "      <td>4603.361707</td>\n",
       "    </tr>\n",
       "    <tr>\n",
       "      <td>391</td>\n",
       "      <td>Burundi</td>\n",
       "      <td>1955</td>\n",
       "      <td>5005.139209</td>\n",
       "    </tr>\n",
       "    <tr>\n",
       "      <td>392</td>\n",
       "      <td>Burundi</td>\n",
       "      <td>1960</td>\n",
       "      <td>5489.419702</td>\n",
       "    </tr>\n",
       "    <tr>\n",
       "      <td>393</td>\n",
       "      <td>Burundi</td>\n",
       "      <td>1965</td>\n",
       "      <td>6057.955751</td>\n",
       "    </tr>\n",
       "    <tr>\n",
       "      <td>394</td>\n",
       "      <td>Burundi</td>\n",
       "      <td>1970</td>\n",
       "      <td>6815.674227</td>\n",
       "    </tr>\n",
       "  </tbody>\n",
       "</table>\n",
       "</div>"
      ],
      "text/plain": [
       "     country  year     Calories\n",
       "390  Burundi  1950  4603.361707\n",
       "391  Burundi  1955  5005.139209\n",
       "392  Burundi  1960  5489.419702\n",
       "393  Burundi  1965  6057.955751\n",
       "394  Burundi  1970  6815.674227"
      ]
     },
     "execution_count": 67,
     "metadata": {},
     "output_type": "execute_result"
    }
   ],
   "source": [
    "total_cal.head()"
   ]
  },
  {
   "cell_type": "markdown",
   "metadata": {},
   "source": [
    "#### Summing up to now\n",
    "* We have defined a reasonable amount of calories needed for each gender and each group by taking average\n",
    "* We collected these values in `new_male_need` and `new_female_need`\n",
    "* We loaded the population of the African countries from the United Nation Dataset \n",
    "* We matched the population for the kcal needed by each age group. From this matching we build 4 different datasets, with different granularity levels:  \n",
    "`total_cal_male`, `total_cal_female`, `total_cal_ages`, `total_cal`\n",
    "* We changed the scale of our final dataframes to easily work with large numbers"
   ]
  },
  {
   "cell_type": "markdown",
   "metadata": {},
   "source": [
    " "
   ]
  },
  {
   "cell_type": "markdown",
   "metadata": {},
   "source": [
    "We now proceed on by importing the **Food Balance Sheet** from FAO Dataset (African countries only). "
   ]
  },
  {
   "cell_type": "code",
   "execution_count": 404,
   "metadata": {},
   "outputs": [],
   "source": [
    "FAO_food_balance = pd.read_csv(\"Data/FoodBalanceSheets_E_Africa_1.csv\",encoding='latin-1');"
   ]
  },
  {
   "cell_type": "markdown",
   "metadata": {},
   "source": [
    "\n",
    "Firstly, we will **remove** all the columns with title **\"Y----F\"** as they contain informations about how the data were obtained (Calculated, Regression, Aggregate, FAO Estimation). In this context we will consider that FAO is an highly renowned Agency and hence we can assume these values are truthful without loss of generality."
   ]
  },
  {
   "cell_type": "code",
   "execution_count": 426,
   "metadata": {},
   "outputs": [],
   "source": [
    "col_to_drop = FAO_food_balance.columns[FAO_food_balance.columns.str.endswith(\"F\")]; #creating a list of columns to be removed\n",
    "FAO_food_balance = FAO_food_balance.drop(columns=col_to_drop);"
   ]
  },
  {
   "cell_type": "markdown",
   "metadata": {},
   "source": [
    "Secondly, we replace all the **NAN** values with **0** as Item was not available."
   ]
  },
  {
   "cell_type": "code",
   "execution_count": 427,
   "metadata": {},
   "outputs": [],
   "source": [
    "FAO_food_balance = FAO_food_balance.fillna(0);"
   ]
  },
  {
   "cell_type": "markdown",
   "metadata": {},
   "source": [
    "Analysing our DataFrame **FAO_food_balance** we can see that it's already well structured because it contains many key - value couples such as **Item Code - Item** and **Element Code - Element** . More specifically, we will take advantage of this structure to filter out only rows containing **Food supply (kcal/capita/day)** as an **Element**. The corresponding key to this value is **664**. This supply will be kept initally in kcal/capita/day. "
   ]
  },
  {
   "cell_type": "code",
   "execution_count": 428,
   "metadata": {},
   "outputs": [
    {
     "data": {
      "text/html": [
       "<div>\n",
       "<style scoped>\n",
       "    .dataframe tbody tr th:only-of-type {\n",
       "        vertical-align: middle;\n",
       "    }\n",
       "\n",
       "    .dataframe tbody tr th {\n",
       "        vertical-align: top;\n",
       "    }\n",
       "\n",
       "    .dataframe thead th {\n",
       "        text-align: right;\n",
       "    }\n",
       "</style>\n",
       "<table border=\"1\" class=\"dataframe\">\n",
       "  <thead>\n",
       "    <tr style=\"text-align: right;\">\n",
       "      <th></th>\n",
       "      <th>level_0</th>\n",
       "      <th>index</th>\n",
       "      <th>Area Code</th>\n",
       "      <th>Area</th>\n",
       "      <th>Item Code</th>\n",
       "      <th>Item</th>\n",
       "      <th>Element Code</th>\n",
       "      <th>Element</th>\n",
       "      <th>Unit</th>\n",
       "      <th>Y1961</th>\n",
       "      <th>...</th>\n",
       "      <th>Y2004</th>\n",
       "      <th>Y2005</th>\n",
       "      <th>Y2006</th>\n",
       "      <th>Y2007</th>\n",
       "      <th>Y2008</th>\n",
       "      <th>Y2009</th>\n",
       "      <th>Y2010</th>\n",
       "      <th>Y2011</th>\n",
       "      <th>Y2012</th>\n",
       "      <th>Y2013</th>\n",
       "    </tr>\n",
       "  </thead>\n",
       "  <tbody>\n",
       "    <tr>\n",
       "      <td>0</td>\n",
       "      <td>0</td>\n",
       "      <td>13</td>\n",
       "      <td>4</td>\n",
       "      <td>Algeria</td>\n",
       "      <td>2511</td>\n",
       "      <td>Wheat and products</td>\n",
       "      <td>664</td>\n",
       "      <td>Food supply (kcal/capita/day)</td>\n",
       "      <td>kcal/capita/day</td>\n",
       "      <td>806.0</td>\n",
       "      <td>...</td>\n",
       "      <td>1462.0</td>\n",
       "      <td>1458.0</td>\n",
       "      <td>1378.0</td>\n",
       "      <td>1358.0</td>\n",
       "      <td>1409.0</td>\n",
       "      <td>1452.0</td>\n",
       "      <td>1385.0</td>\n",
       "      <td>1420.0</td>\n",
       "      <td>1433.0</td>\n",
       "      <td>1424.0</td>\n",
       "    </tr>\n",
       "    <tr>\n",
       "      <td>1</td>\n",
       "      <td>1</td>\n",
       "      <td>26</td>\n",
       "      <td>4</td>\n",
       "      <td>Algeria</td>\n",
       "      <td>2805</td>\n",
       "      <td>Rice (Milled Equivalent)</td>\n",
       "      <td>664</td>\n",
       "      <td>Food supply (kcal/capita/day)</td>\n",
       "      <td>kcal/capita/day</td>\n",
       "      <td>7.0</td>\n",
       "      <td>...</td>\n",
       "      <td>20.0</td>\n",
       "      <td>15.0</td>\n",
       "      <td>19.0</td>\n",
       "      <td>21.0</td>\n",
       "      <td>27.0</td>\n",
       "      <td>20.0</td>\n",
       "      <td>28.0</td>\n",
       "      <td>21.0</td>\n",
       "      <td>27.0</td>\n",
       "      <td>30.0</td>\n",
       "    </tr>\n",
       "    <tr>\n",
       "      <td>2</td>\n",
       "      <td>2</td>\n",
       "      <td>40</td>\n",
       "      <td>4</td>\n",
       "      <td>Algeria</td>\n",
       "      <td>2513</td>\n",
       "      <td>Barley and products</td>\n",
       "      <td>664</td>\n",
       "      <td>Food supply (kcal/capita/day)</td>\n",
       "      <td>kcal/capita/day</td>\n",
       "      <td>160.0</td>\n",
       "      <td>...</td>\n",
       "      <td>106.0</td>\n",
       "      <td>104.0</td>\n",
       "      <td>123.0</td>\n",
       "      <td>130.0</td>\n",
       "      <td>98.0</td>\n",
       "      <td>98.0</td>\n",
       "      <td>97.0</td>\n",
       "      <td>96.0</td>\n",
       "      <td>96.0</td>\n",
       "      <td>94.0</td>\n",
       "    </tr>\n",
       "    <tr>\n",
       "      <td>3</td>\n",
       "      <td>3</td>\n",
       "      <td>53</td>\n",
       "      <td>4</td>\n",
       "      <td>Algeria</td>\n",
       "      <td>2514</td>\n",
       "      <td>Maize and products</td>\n",
       "      <td>664</td>\n",
       "      <td>Food supply (kcal/capita/day)</td>\n",
       "      <td>kcal/capita/day</td>\n",
       "      <td>4.0</td>\n",
       "      <td>...</td>\n",
       "      <td>77.0</td>\n",
       "      <td>78.0</td>\n",
       "      <td>154.0</td>\n",
       "      <td>172.0</td>\n",
       "      <td>152.0</td>\n",
       "      <td>107.0</td>\n",
       "      <td>151.0</td>\n",
       "      <td>119.0</td>\n",
       "      <td>128.0</td>\n",
       "      <td>129.0</td>\n",
       "    </tr>\n",
       "    <tr>\n",
       "      <td>4</td>\n",
       "      <td>4</td>\n",
       "      <td>61</td>\n",
       "      <td>4</td>\n",
       "      <td>Algeria</td>\n",
       "      <td>2515</td>\n",
       "      <td>Rye and products</td>\n",
       "      <td>664</td>\n",
       "      <td>Food supply (kcal/capita/day)</td>\n",
       "      <td>kcal/capita/day</td>\n",
       "      <td>0.0</td>\n",
       "      <td>...</td>\n",
       "      <td>0.0</td>\n",
       "      <td>0.0</td>\n",
       "      <td>0.0</td>\n",
       "      <td>0.0</td>\n",
       "      <td>0.0</td>\n",
       "      <td>0.0</td>\n",
       "      <td>0.0</td>\n",
       "      <td>0.0</td>\n",
       "      <td>0.0</td>\n",
       "      <td>0.0</td>\n",
       "    </tr>\n",
       "  </tbody>\n",
       "</table>\n",
       "<p>5 rows × 62 columns</p>\n",
       "</div>"
      ],
      "text/plain": [
       "   level_0  index  Area Code     Area  Item Code                      Item  \\\n",
       "0        0     13          4  Algeria       2511        Wheat and products   \n",
       "1        1     26          4  Algeria       2805  Rice (Milled Equivalent)   \n",
       "2        2     40          4  Algeria       2513       Barley and products   \n",
       "3        3     53          4  Algeria       2514        Maize and products   \n",
       "4        4     61          4  Algeria       2515          Rye and products   \n",
       "\n",
       "   Element Code                        Element             Unit  Y1961  ...  \\\n",
       "0           664  Food supply (kcal/capita/day)  kcal/capita/day  806.0  ...   \n",
       "1           664  Food supply (kcal/capita/day)  kcal/capita/day    7.0  ...   \n",
       "2           664  Food supply (kcal/capita/day)  kcal/capita/day  160.0  ...   \n",
       "3           664  Food supply (kcal/capita/day)  kcal/capita/day    4.0  ...   \n",
       "4           664  Food supply (kcal/capita/day)  kcal/capita/day    0.0  ...   \n",
       "\n",
       "    Y2004   Y2005   Y2006   Y2007   Y2008   Y2009   Y2010   Y2011   Y2012  \\\n",
       "0  1462.0  1458.0  1378.0  1358.0  1409.0  1452.0  1385.0  1420.0  1433.0   \n",
       "1    20.0    15.0    19.0    21.0    27.0    20.0    28.0    21.0    27.0   \n",
       "2   106.0   104.0   123.0   130.0    98.0    98.0    97.0    96.0    96.0   \n",
       "3    77.0    78.0   154.0   172.0   152.0   107.0   151.0   119.0   128.0   \n",
       "4     0.0     0.0     0.0     0.0     0.0     0.0     0.0     0.0     0.0   \n",
       "\n",
       "    Y2013  \n",
       "0  1424.0  \n",
       "1    30.0  \n",
       "2    94.0  \n",
       "3   129.0  \n",
       "4     0.0  \n",
       "\n",
       "[5 rows x 62 columns]"
      ]
     },
     "execution_count": 428,
     "metadata": {},
     "output_type": "execute_result"
    }
   ],
   "source": [
    "FAO_food_balance = FAO_food_balance[FAO_food_balance[\"Element Code\"]==664].reset_index();\n",
    "FAO_food_balance.head()"
   ]
  },
  {
   "cell_type": "code",
   "execution_count": 424,
   "metadata": {},
   "outputs": [],
   "source": [
    "def calculate_food_balance(df):\n",
    "    temp_df = df.copy();\n",
    "    kcal = 0;\n",
    "    for col in temp_df.columns[8:]:\n",
    "        year = int(col.split(\"Y\")[1])\n",
    "        \n",
    "        for i in temp_df.index:\n",
    "            kcal = kcal + int(temp_df.loc[i,col]);\n",
    "    return kcal;\n"
   ]
  },
  {
   "cell_type": "code",
   "execution_count": 425,
   "metadata": {},
   "outputs": [
    {
     "data": {
      "text/plain": [
       "21297606"
      ]
     },
     "execution_count": 425,
     "metadata": {},
     "output_type": "execute_result"
    }
   ],
   "source": [
    "calculate_food_balance(FAO_food_balance)"
   ]
  },
  {
   "cell_type": "code",
   "execution_count": null,
   "metadata": {},
   "outputs": [],
   "source": []
  },
  {
   "cell_type": "code",
   "execution_count": null,
   "metadata": {},
   "outputs": [],
   "source": []
  }
 ],
 "metadata": {
  "kernelspec": {
   "display_name": "Python 3",
   "language": "python",
   "name": "python3"
  },
  "language_info": {
   "codemirror_mode": {
    "name": "ipython",
    "version": 3
   },
   "file_extension": ".py",
   "mimetype": "text/x-python",
   "name": "python",
   "nbconvert_exporter": "python",
   "pygments_lexer": "ipython3",
   "version": "3.7.4"
  }
 },
 "nbformat": 4,
 "nbformat_minor": 4
}
