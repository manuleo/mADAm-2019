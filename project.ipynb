{
 "cells": [
  {
   "cell_type": "code",
   "execution_count": 2,
   "metadata": {},
   "outputs": [],
   "source": [
    "%matplotlib inline\n",
    "import pandas as pd\n",
    "import numpy as np\n",
    "import re\n",
    "from matplotlib.ticker import MaxNLocator\n",
    "import matplotlib.pyplot as plt\n",
    "from requests import get\n",
    "from bs4 import BeautifulSoup\n",
    "from collections import defaultdict\n",
    "\n",
    "plt.rcParams[\"figure.figsize\"] = (15,8) #set size of plot"
   ]
  },
  {
   "cell_type": "markdown",
   "metadata": {},
   "source": [
    "# Start working"
   ]
  },
  {
   "cell_type": "markdown",
   "metadata": {},
   "source": [
    "## Finding calories needed for each country\n",
    "The first need we need to do for our analysis is finding the total calories demand in each country... **write other things to start**"
   ]
  },
  {
   "cell_type": "markdown",
   "metadata": {},
   "source": [
    "### Working on calories demand  \n",
    "We load the calories demand datasets we scraped for the webpage [Calories](https://health.gov/dietaryguidelines/2015/guidelines/appendix-2/), datasets will we working on to match with population data"
   ]
  },
  {
   "cell_type": "code",
   "execution_count": 229,
   "metadata": {},
   "outputs": [],
   "source": [
    "male_calory_demand = pd.read_excel(\"data/calories_demand.xlsx\",header =None, sheet_name=0, names=['age', 'sedentary', 'moderate', 'active'])"
   ]
  },
  {
   "cell_type": "code",
   "execution_count": 230,
   "metadata": {},
   "outputs": [],
   "source": [
    "females_calory_demand =  pd.read_excel(\"data/calories_demand.xlsx\",header =None, sheet_name=1, names=['age', 'sedentary', 'moderate', 'active'])"
   ]
  },
  {
   "cell_type": "markdown",
   "metadata": {},
   "source": [
    "In order to better work with the information we have collected, we will make some simplifications on the data. Mainly, we will:\n",
    "- in the calories demands database, assume an average of necessary input per age\n",
    "- group the ages into ranges that match the ranges provided in the World Population Database"
   ]
  },
  {
   "cell_type": "code",
   "execution_count": 231,
   "metadata": {},
   "outputs": [],
   "source": [
    "def input_average(data_frame):\n",
    "    result = data_frame.copy()\n",
    "    result['input (KCal)'] = result.mean(axis=1) #computing the mean\n",
    "    result = result.drop(columns=['sedentary', 'moderate', 'active']) #we keep only the mean\n",
    "    return result"
   ]
  },
  {
   "cell_type": "code",
   "execution_count": 232,
   "metadata": {},
   "outputs": [],
   "source": [
    "male_calories_avg = input_average(male_calory_demand)\n",
    "females_calories_avg = input_average(females_calory_demand)"
   ]
  },
  {
   "cell_type": "markdown",
   "metadata": {},
   "source": [
    "We have now obtained a caloric demand average for simpler calculations in the future and stored in the two precedent datasets.  \n",
    "Now, we need a  way to match the age groups in this dataframe, to the ones in the population database we obtained. As such, let's analyse how ages are represented in our calory demand dataframes."
   ]
  },
  {
   "cell_type": "code",
   "execution_count": 11,
   "metadata": {},
   "outputs": [
    {
     "data": {
      "text/plain": [
       "array([2, 3, 4, 5, 6, 7, 8, 9, 10, 11, 12, 13, 14, 15, 16, 17, 18,\n",
       "       '19-20', '21-25', '26-30', '31-35', '36-40', '41-45', '46-50',\n",
       "       '51-55', '56-60', '61-65', '66-70', '71-75', '76 and up', nan],\n",
       "      dtype=object)"
      ]
     },
     "execution_count": 11,
     "metadata": {},
     "output_type": "execute_result"
    }
   ],
   "source": [
    "male_calories_avg['age'].unique()"
   ]
  },
  {
   "cell_type": "markdown",
   "metadata": {},
   "source": [
    "We can see there are ranges of ages with different sizes (which makes sense, because different age groups have different caloric needs). We'll present a function that creates one row per individual age"
   ]
  },
  {
   "cell_type": "code",
   "execution_count": 12,
   "metadata": {},
   "outputs": [],
   "source": [
    "def single_age(age_range):\n",
    "    if type(age_range) ==  float: # nans are the only floats in the age column\n",
    "        return -1\n",
    "    elif type(age_range) == int:\n",
    "        return age_range\n",
    "    elif re.search('\\d-\\d', age_range):\n",
    "        group = age_range.split('-')\n",
    "        return list(range(int(group[0]), int(group[1])+1))\n",
    "    elif age_range == \"76 and up\":\n",
    "        return list(range(76, 101+1))"
   ]
  },
  {
   "cell_type": "code",
   "execution_count": 13,
   "metadata": {},
   "outputs": [],
   "source": [
    "def explode_age(data_frame):\n",
    "    accum = []\n",
    "    for i in data_frame.index:\n",
    "        row = data_frame.loc[i]\n",
    "        single = single_age(row['age'])\n",
    "        if single == -1: # we ignore the nan values, as their rows are empty\n",
    "            continue\n",
    "        if type(single) == int:\n",
    "            accum.append((single, row['input (KCal)']))\n",
    "        elif type(single) == list:\n",
    "            accum.extend([(x, row['input (KCal)']) for x in single]) \n",
    "    return pd.DataFrame(accum, columns=data_frame.columns)"
   ]
  },
  {
   "cell_type": "markdown",
   "metadata": {},
   "source": [
    "We apply the function to our two dataframe:"
   ]
  },
  {
   "cell_type": "code",
   "execution_count": 14,
   "metadata": {},
   "outputs": [],
   "source": [
    "male_explode = explode_age(male_calories_avg)\n",
    "female_explode = explode_age(females_calories_avg)"
   ]
  },
  {
   "cell_type": "code",
   "execution_count": 16,
   "metadata": {},
   "outputs": [
    {
     "data": {
      "text/plain": [
       "array([  2,   3,   4,   5,   6,   7,   8,   9,  10,  11,  12,  13,  14,\n",
       "        15,  16,  17,  18,  19,  20,  21,  22,  23,  24,  25,  26,  27,\n",
       "        28,  29,  30,  31,  32,  33,  34,  35,  36,  37,  38,  39,  40,\n",
       "        41,  42,  43,  44,  45,  46,  47,  48,  49,  50,  51,  52,  53,\n",
       "        54,  55,  56,  57,  58,  59,  60,  61,  62,  63,  64,  65,  66,\n",
       "        67,  68,  69,  70,  71,  72,  73,  74,  75,  76,  77,  78,  79,\n",
       "        80,  81,  82,  83,  84,  85,  86,  87,  88,  89,  90,  91,  92,\n",
       "        93,  94,  95,  96,  97,  98,  99, 100, 101], dtype=int64)"
      ]
     },
     "execution_count": 16,
     "metadata": {},
     "output_type": "execute_result"
    }
   ],
   "source": [
    "male_explode['age'].unique()"
   ]
  },
  {
   "cell_type": "markdown",
   "metadata": {},
   "source": [
    "Ages are now unique in each dataframe ( `male_explode` and `female_explode` ) and there's a caloric input value for each of them."
   ]
  },
  {
   "cell_type": "markdown",
   "metadata": {},
   "source": [
    "#### Joao please comment the next two function and the code in the cells"
   ]
  },
  {
   "cell_type": "markdown",
   "metadata": {},
   "source": [
    "The last step to allow the match with the population database is to build the **same age groups** we have in that set.  \n",
    "We do this in the next two functions:"
   ]
  },
  {
   "cell_type": "code",
   "execution_count": 17,
   "metadata": {},
   "outputs": [],
   "source": [
    "def group(age):\n",
    "    i = int(5*(age//5))\n",
    "    return \"{}-{}\".format(i, i+4)"
   ]
  },
  {
   "cell_type": "code",
   "execution_count": 18,
   "metadata": {},
   "outputs": [],
   "source": [
    "def compress_ages(data_frame):\n",
    "    accum = defaultdict(list)\n",
    "    for i in data_frame.index:\n",
    "        row = data_frame.loc[i]\n",
    "        g_id = group(row['age'])\n",
    "        if g_id == \"100-104\":\n",
    "            g_id = \"100+\"\n",
    "        accum[g_id].append(row['input (KCal)'])\n",
    "    for i in accum:\n",
    "        accum[i] = sum(accum[i]) / len(accum[i])\n",
    "    return pd.DataFrame.from_dict(accum, orient='index')"
   ]
  },
  {
   "cell_type": "markdown",
   "metadata": {},
   "source": [
    "We can lastly apply the functions to the dataframes:"
   ]
  },
  {
   "cell_type": "code",
   "execution_count": 19,
   "metadata": {},
   "outputs": [],
   "source": [
    "new_male_need = compress_ages(male_explode)\n",
    "new_female_need = compress_ages(female_explode)"
   ]
  },
  {
   "cell_type": "markdown",
   "metadata": {},
   "source": [
    "We also use the age group as new index and rename the columns:"
   ]
  },
  {
   "cell_type": "code",
   "execution_count": 20,
   "metadata": {},
   "outputs": [],
   "source": [
    "new_male_need.index.name = 'age_group'\n",
    "new_male_need = new_male_need.rename(columns={0: 'input (KCal)'})\n",
    "new_female_need.index.name = 'age_group'\n",
    "new_female_need = new_female_need.rename(columns={0: 'input (KCal)'})"
   ]
  },
  {
   "cell_type": "markdown",
   "metadata": {},
   "source": [
    "Let's see the result we have achieved and collected in our matchable dataframe `new_male_need` and `new_female_need`"
   ]
  },
  {
   "cell_type": "code",
   "execution_count": 233,
   "metadata": {},
   "outputs": [
    {
     "data": {
      "text/html": [
       "<div>\n",
       "<style scoped>\n",
       "    .dataframe tbody tr th:only-of-type {\n",
       "        vertical-align: middle;\n",
       "    }\n",
       "\n",
       "    .dataframe tbody tr th {\n",
       "        vertical-align: top;\n",
       "    }\n",
       "\n",
       "    .dataframe thead th {\n",
       "        text-align: right;\n",
       "    }\n",
       "</style>\n",
       "<table border=\"1\" class=\"dataframe\">\n",
       "  <thead>\n",
       "    <tr style=\"text-align: right;\">\n",
       "      <th></th>\n",
       "      <th>input (KCal)</th>\n",
       "    </tr>\n",
       "    <tr>\n",
       "      <th>age_group</th>\n",
       "      <th></th>\n",
       "    </tr>\n",
       "  </thead>\n",
       "  <tbody>\n",
       "    <tr>\n",
       "      <td>0-4</td>\n",
       "      <td>1222.222222</td>\n",
       "    </tr>\n",
       "    <tr>\n",
       "      <td>5-9</td>\n",
       "      <td>1613.333333</td>\n",
       "    </tr>\n",
       "    <tr>\n",
       "      <td>10-14</td>\n",
       "      <td>2133.333333</td>\n",
       "    </tr>\n",
       "    <tr>\n",
       "      <td>15-19</td>\n",
       "      <td>2760.000000</td>\n",
       "    </tr>\n",
       "    <tr>\n",
       "      <td>20-24</td>\n",
       "      <td>2746.666667</td>\n",
       "    </tr>\n",
       "  </tbody>\n",
       "</table>\n",
       "</div>"
      ],
      "text/plain": [
       "           input (KCal)\n",
       "age_group              \n",
       "0-4         1222.222222\n",
       "5-9         1613.333333\n",
       "10-14       2133.333333\n",
       "15-19       2760.000000\n",
       "20-24       2746.666667"
      ]
     },
     "execution_count": 233,
     "metadata": {},
     "output_type": "execute_result"
    }
   ],
   "source": [
    "new_male_need.head()"
   ]
  },
  {
   "cell_type": "markdown",
   "metadata": {},
   "source": [
    "## Computing total calories by matching "
   ]
  },
  {
   "cell_type": "markdown",
   "metadata": {},
   "source": [
    "**We now move on the matching with the *World Population Database* (United Nation) to compute the total calories needed in each country since 1950 to 2020**  \n",
    "Matching with a precise dataset like this one is essential to take count of the demographics inside each country  \n",
    "  \n",
    "  \n",
    "Firstly, we load the list of African countries (to filter the DB) and the two Databases (one for males, the other for females)  \n",
    "*A note*: the values in the population dataframe are reported in **thousand**"
   ]
  },
  {
   "cell_type": "code",
   "execution_count": 219,
   "metadata": {},
   "outputs": [],
   "source": [
    "with open (\"data/african_countries.txt\") as af_c:\n",
    "    af_countries = [line.rstrip() for line in af_c] #loading list"
   ]
  },
  {
   "cell_type": "markdown",
   "metadata": {},
   "source": [
    "Loading and cleaning the dataset to be prepared for merging (they present vary unuseful columns of with too long names)"
   ]
  },
  {
   "cell_type": "code",
   "execution_count": 220,
   "metadata": {},
   "outputs": [],
   "source": [
    "#loading datasets\n",
    "pop_male = pd.read_excel(\"data/POPULATION_BY_AGE_MALE.xlsx\", sheet_name=\"ESTIMATES\")\n",
    "pop_female = pd.read_excel(\"data/POPULATION_BY_AGE_FEMALE.xlsx\", sheet_name=\"ESTIMATES\")"
   ]
  },
  {
   "cell_type": "code",
   "execution_count": 221,
   "metadata": {},
   "outputs": [],
   "source": [
    "#cleaning male population dataset\n",
    "pop_male.drop(columns=[\"Index\", \"Variant\", \"Notes\", \"Country code\", \"Type\", \"Parent code\"], inplace=True)\n",
    "pop_male.rename(columns={\"Reference date (as of 1 July)\": \"year\", \"Region, subregion, country or area *\": \"country\"}, inplace=True)\n",
    "#taking only african countries\n",
    "pop_male = pop_male[pop_male['country'].isin(af_countries)]\n",
    "\n",
    "#cleaning female dataset\n",
    "pop_female.drop(columns=[\"Index\", \"Variant\", \"Notes\", \"Country code\", \"Type\", \"Parent code\"], inplace=True)\n",
    "pop_female.rename(columns={\"Reference date (as of 1 July)\": \"year\", \"Region, subregion, country or area *\": \"country\"}, inplace=True)\n",
    "#only african\n",
    "pop_female = pop_female[pop_female['country'].isin(af_countries)]"
   ]
  },
  {
   "cell_type": "markdown",
   "metadata": {},
   "source": [
    "Now we multiply each column of the population data (as we said, in thousand) for each matching `age_group` in the calories table (that here we squeeze to allow the multiplication, similar to a transpose rows/columns of the dataset).  \n",
    "We obtain two datasets: `total_cal_male` and `total_cal_female` reporting total calories needed for **each country in each year per age group per gender**"
   ]
  },
  {
   "cell_type": "code",
   "execution_count": 222,
   "metadata": {},
   "outputs": [],
   "source": [
    "#total calories male\n",
    "pop_mal_mult = pop_male.drop(columns=[\"country\", \"year\"])\n",
    "male_mult_res = pop_mal_mult.multiply(new_male_need.squeeze()) # squeeze adapts the dimension of the dataframe\n",
    "#rejoin with old dataframe and delete old column (just population)\n",
    "total_cal_male = pop_male.join(male_mult_res, lsuffix=\"_old\")\n",
    "total_cal_male = total_cal_male[total_cal_male.columns[~total_cal_male.columns.str.endswith('_old')]]"
   ]
  },
  {
   "cell_type": "code",
   "execution_count": 223,
   "metadata": {},
   "outputs": [],
   "source": [
    "#total calories female\n",
    "pop_fem_mult = pop_female.drop(columns=[\"country\", \"year\"])\n",
    "female_mult_res = pop_fem_mult.multiply(new_female_need.squeeze())\n",
    "total_cal_female = pop_female.join(female_mult_res, lsuffix=\"_old\")\n",
    "total_cal_female = total_cal_female[total_cal_female.columns[~total_cal_female.columns.str.endswith('_old')]]"
   ]
  },
  {
   "cell_type": "markdown",
   "metadata": {},
   "source": [
    "Once we have the calories needed for both gender, we can add them together easily to achieve total calories needed for **each country in each year per age group**, and we collect them in the dataframe `total_cal_ages`"
   ]
  },
  {
   "cell_type": "code",
   "execution_count": 224,
   "metadata": {},
   "outputs": [],
   "source": [
    "#copy the male inside the total (to mantain country and year columns) and sum with female\n",
    "total_cal_ages = total_cal_male.copy()\n",
    "sum_ind = total_cal_ages.columns[2:]\n",
    "total_cal_ages[sum_ind] = total_cal_ages[sum_ind] + total_cal_female[sum_ind]"
   ]
  },
  {
   "cell_type": "markdown",
   "metadata": {},
   "source": [
    "To find the total calories needed for **each country in each year** we then proceed to the sum over all the age groups, collected in `total_cal`"
   ]
  },
  {
   "cell_type": "code",
   "execution_count": 225,
   "metadata": {},
   "outputs": [],
   "source": [
    "total_cal = total_cal_ages.copy()\n",
    "sum_ind = total_cal.columns[2:]\n",
    "\n",
    "#computing sum of cal over ages, removing ages\n",
    "total_cal['Calories'] = total_cal[sum_ind].sum(axis=1)\n",
    "total_cal.drop(columns=sum_ind, inplace=True)"
   ]
  },
  {
   "cell_type": "markdown",
   "metadata": {},
   "source": [
    "The values proposed up to here **need to be scaled appropriartely**, as the total amount of calories should be multiplied by 1000 to take in account the value reported in the population dataset.  \n",
    "Instead of dealing with large number (up to order of $10^9$), we decide to divide another time by 1000.  \n",
    "The reader is so advised that from now on all the calories will be reported in **Gcal** (I'm not totally sure, check together ahah) "
   ]
  },
  {
   "cell_type": "code",
   "execution_count": 227,
   "metadata": {},
   "outputs": [],
   "source": [
    "change_col = total_cal_ages.columns[2:] #index for the first 3 dataframes are the same\n",
    "total_cal_male[change_col] = total_cal_male[change_col]/1000\n",
    "total_cal_female[change_col] = total_cal_male[change_col]/1000\n",
    "total_cal_ages[change_col] = total_cal_male[change_col]/1000\n",
    "total_cal['Calories'] = total_cal['Calories']/1000"
   ]
  },
  {
   "cell_type": "markdown",
   "metadata": {},
   "source": [
    "Drawing a sample of the final dataframe.."
   ]
  },
  {
   "cell_type": "code",
   "execution_count": 218,
   "metadata": {},
   "outputs": [
    {
     "data": {
      "text/html": [
       "<div>\n",
       "<style scoped>\n",
       "    .dataframe tbody tr th:only-of-type {\n",
       "        vertical-align: middle;\n",
       "    }\n",
       "\n",
       "    .dataframe tbody tr th {\n",
       "        vertical-align: top;\n",
       "    }\n",
       "\n",
       "    .dataframe thead th {\n",
       "        text-align: right;\n",
       "    }\n",
       "</style>\n",
       "<table border=\"1\" class=\"dataframe\">\n",
       "  <thead>\n",
       "    <tr style=\"text-align: right;\">\n",
       "      <th></th>\n",
       "      <th>country</th>\n",
       "      <th>year</th>\n",
       "      <th>Calories</th>\n",
       "    </tr>\n",
       "  </thead>\n",
       "  <tbody>\n",
       "    <tr>\n",
       "      <td>390</td>\n",
       "      <td>Burundi</td>\n",
       "      <td>1950</td>\n",
       "      <td>4603.361707</td>\n",
       "    </tr>\n",
       "    <tr>\n",
       "      <td>391</td>\n",
       "      <td>Burundi</td>\n",
       "      <td>1955</td>\n",
       "      <td>5005.139209</td>\n",
       "    </tr>\n",
       "    <tr>\n",
       "      <td>392</td>\n",
       "      <td>Burundi</td>\n",
       "      <td>1960</td>\n",
       "      <td>5489.419702</td>\n",
       "    </tr>\n",
       "    <tr>\n",
       "      <td>393</td>\n",
       "      <td>Burundi</td>\n",
       "      <td>1965</td>\n",
       "      <td>6057.955751</td>\n",
       "    </tr>\n",
       "    <tr>\n",
       "      <td>394</td>\n",
       "      <td>Burundi</td>\n",
       "      <td>1970</td>\n",
       "      <td>6815.674227</td>\n",
       "    </tr>\n",
       "  </tbody>\n",
       "</table>\n",
       "</div>"
      ],
      "text/plain": [
       "     country  year     Calories\n",
       "390  Burundi  1950  4603.361707\n",
       "391  Burundi  1955  5005.139209\n",
       "392  Burundi  1960  5489.419702\n",
       "393  Burundi  1965  6057.955751\n",
       "394  Burundi  1970  6815.674227"
      ]
     },
     "execution_count": 218,
     "metadata": {},
     "output_type": "execute_result"
    }
   ],
   "source": [
    "total_cal.head()"
   ]
  },
  {
   "cell_type": "markdown",
   "metadata": {},
   "source": [
    "#### Summing up to now\n",
    "* We have defined a reasonable amount of calories needed for each gender and each group by taking average\n",
    "* We collected these values in `new_male_need` and `new_female_need`\n",
    "* We loaded the population of the African countries from the United Nation Dataset \n",
    "* We matched the population for the kcal needed by each age group. From this matching we build 4 different datasets, with different granularity levels:  \n",
    "`total_cal_male`, `total_cal_female`, `total_cal_ages`, `total_cal`\n",
    "* We changed the scale of our final dataframes to easily work with large numbers"
   ]
  }
 ],
 "metadata": {
  "kernelspec": {
   "display_name": "Python [conda env:ada] *",
   "language": "python",
   "name": "conda-env-ada-py"
  },
  "language_info": {
   "codemirror_mode": {
    "name": "ipython",
    "version": 3
   },
   "file_extension": ".py",
   "mimetype": "text/x-python",
   "name": "python",
   "nbconvert_exporter": "python",
   "pygments_lexer": "ipython3",
   "version": "3.7.4"
  }
 },
 "nbformat": 4,
 "nbformat_minor": 4
}
